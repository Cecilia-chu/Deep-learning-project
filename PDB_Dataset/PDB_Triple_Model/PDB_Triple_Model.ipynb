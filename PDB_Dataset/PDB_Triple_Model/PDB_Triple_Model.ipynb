{
 "cells": [
  {
   "cell_type": "code",
   "execution_count": 1,
   "id": "096c5142",
   "metadata": {
    "papermill": {
     "duration": 13.751706,
     "end_time": "2024-12-02T03:00:20.091196",
     "exception": false,
     "start_time": "2024-12-02T03:00:06.339490",
     "status": "completed"
    },
    "tags": []
   },
   "outputs": [
    {
     "name": "stderr",
     "output_type": "stream",
     "text": [
      "2025-04-16 23:24:38.832961: I tensorflow/core/util/util.cc:169] oneDNN custom operations are on. You may see slightly different numerical results due to floating-point round-off errors from different computation orders. To turn them off, set the environment variable `TF_ENABLE_ONEDNN_OPTS=0`.\n"
     ]
    }
   ],
   "source": [
    "import numpy as np\n",
    "import pandas as pd\n",
    "import tensorflow as tf\n",
    "from tensorflow.keras.models import Model\n",
    "from tensorflow.keras.layers import (\n",
    "    Input, Conv1D, MaxPooling1D, LSTM, Dense, Dropout, Bidirectional, Attention\n",
    ")\n",
    "from tensorflow.keras.utils import to_categorical\n",
    "from sklearn.model_selection import train_test_split\n",
    "import matplotlib.pyplot as plt"
   ]
  },
  {
   "cell_type": "code",
   "execution_count": 2,
   "id": "3514321b-5c72-4690-ac18-8a549dfa0633",
   "metadata": {},
   "outputs": [
    {
     "name": "stdout",
     "output_type": "stream",
     "text": [
      "has_nonstd_aa data typr： bool\n",
      "The new data: 3387\n"
     ]
    }
   ],
   "source": [
    "df = pd.read_csv('PDB.csv')\n",
    "\n",
    "filtered_data = df[(df['len'] > 1000)]\n",
    "\n",
    "print(\"has_nonstd_aa data typr：\", df['has_nonstd_aa'].dtype)\n",
    "\n",
    "filtered_data = filtered_data[~filtered_data['has_nonstd_aa']]\n",
    "print(f\"The new data: {len(filtered_data)}\")\n",
    "filtered_data.to_csv('filtered_data.csv', index=False)"
   ]
  },
  {
   "cell_type": "code",
   "execution_count": null,
   "id": "8254ca1d-0eb7-4c5e-88ae-c8327dbc634f",
   "metadata": {},
   "outputs": [
    {
     "name": "stdout",
     "output_type": "stream",
     "text": [
      "Index(['seq', 'sst8', 'sst3'], dtype='object')\n"
     ]
    }
   ],
   "source": [
    "columns_to_drop = ['pdb_id', 'chain_code', 'has_nonstd_aa', 'len', ]  \n",
    "filtered_data = filtered_data.drop(columns=columns_to_drop)\n",
    "print(filtered_data.columns)\n",
    "\n",
    "filtered_data.to_csv('clean_data.csv', index=False)"
   ]
  },
  {
   "cell_type": "code",
   "execution_count": null,
   "id": "81333b65-a402-4c23-b3ca-efb8406e19f0",
   "metadata": {},
   "outputs": [
    {
     "data": {
      "text/html": [
       "<div>\n",
       "<style scoped>\n",
       "    .dataframe tbody tr th:only-of-type {\n",
       "        vertical-align: middle;\n",
       "    }\n",
       "\n",
       "    .dataframe tbody tr th {\n",
       "        vertical-align: top;\n",
       "    }\n",
       "\n",
       "    .dataframe thead th {\n",
       "        text-align: right;\n",
       "    }\n",
       "</style>\n",
       "<table border=\"1\" class=\"dataframe\">\n",
       "  <thead>\n",
       "    <tr style=\"text-align: right;\">\n",
       "      <th></th>\n",
       "      <th>seq</th>\n",
       "      <th>sst8</th>\n",
       "      <th>sst3</th>\n",
       "    </tr>\n",
       "  </thead>\n",
       "  <tbody>\n",
       "    <tr>\n",
       "      <th>2025</th>\n",
       "      <td>MDAKARNCLLQHREALEKDIKTSYIMDHMISDGFLTISEEEKVRNE...</td>\n",
       "      <td>CCCCCCCCCCCCCCCCCCCCCCCCCCCCCCCCCCCCCCCCCCCCCC...</td>\n",
       "      <td>CCCCCCCCCCCCCCCCCCCCCCCCCCCCCCCCCCCCCCCCCCCCCC...</td>\n",
       "    </tr>\n",
       "    <tr>\n",
       "      <th>3205</th>\n",
       "      <td>MKSPALQPLSMAGLQLMTPASSPMGPFFGLPWQQEAIHDNIYTPRK...</td>\n",
       "      <td>CCCCCCCCCCCCCCCCCCCCCCCCCCCCCCCCCCCCCCCCCCCCCH...</td>\n",
       "      <td>CCCCCCCCCCCCCCCCCCCCCCCCCCCCCCCCCCCCCCCCCCCCCH...</td>\n",
       "    </tr>\n",
       "    <tr>\n",
       "      <th>2912</th>\n",
       "      <td>MPLAFCGTENHSAAYRVDQGVLNNGCFVDALNVVPHVFLLFITFPI...</td>\n",
       "      <td>CCCCCCCCCCCCCCCCCCCCCCCCHHHHHHHHHHHHHHHHHHHHHH...</td>\n",
       "      <td>CCCCCCCCCCCCCCCCCCCCCCCCHHHHHHHHHHHHHHHHHHHHHH...</td>\n",
       "    </tr>\n",
       "    <tr>\n",
       "      <th>1373</th>\n",
       "      <td>MEIKRFGRIREVIPLPPLTEIQVESYRRALQADVPPEKRENVGIQA...</td>\n",
       "      <td>CCEEECCSCCCSSCCCCTTHHHHHHHHHHHCTTSCGGGCCSSSHHH...</td>\n",
       "      <td>CCEEECCCCCCCCCCCCCCHHHHHHHHHHHCCCCCHHHCCCCCHHH...</td>\n",
       "    </tr>\n",
       "    <tr>\n",
       "      <th>2633</th>\n",
       "      <td>MKDLLKFLKAQTKTEEFDAIKIALASPDMIRSWSFGEVKKPETINY...</td>\n",
       "      <td>CCCCCCCCCCCCCCCCCCCEEEEECCHHHHHHHEEEECCBSCCBCS...</td>\n",
       "      <td>CCCCCCCCCCCCCCCCCCCEEEEECCHHHHHHHEEEECCECCCECC...</td>\n",
       "    </tr>\n",
       "  </tbody>\n",
       "</table>\n",
       "</div>"
      ],
      "text/plain": [
       "                                                    seq  \\\n",
       "2025  MDAKARNCLLQHREALEKDIKTSYIMDHMISDGFLTISEEEKVRNE...   \n",
       "3205  MKSPALQPLSMAGLQLMTPASSPMGPFFGLPWQQEAIHDNIYTPRK...   \n",
       "2912  MPLAFCGTENHSAAYRVDQGVLNNGCFVDALNVVPHVFLLFITFPI...   \n",
       "1373  MEIKRFGRIREVIPLPPLTEIQVESYRRALQADVPPEKRENVGIQA...   \n",
       "2633  MKDLLKFLKAQTKTEEFDAIKIALASPDMIRSWSFGEVKKPETINY...   \n",
       "\n",
       "                                                   sst8  \\\n",
       "2025  CCCCCCCCCCCCCCCCCCCCCCCCCCCCCCCCCCCCCCCCCCCCCC...   \n",
       "3205  CCCCCCCCCCCCCCCCCCCCCCCCCCCCCCCCCCCCCCCCCCCCCH...   \n",
       "2912  CCCCCCCCCCCCCCCCCCCCCCCCHHHHHHHHHHHHHHHHHHHHHH...   \n",
       "1373  CCEEECCSCCCSSCCCCTTHHHHHHHHHHHCTTSCGGGCCSSSHHH...   \n",
       "2633  CCCCCCCCCCCCCCCCCCCEEEEECCHHHHHHHEEEECCBSCCBCS...   \n",
       "\n",
       "                                                   sst3  \n",
       "2025  CCCCCCCCCCCCCCCCCCCCCCCCCCCCCCCCCCCCCCCCCCCCCC...  \n",
       "3205  CCCCCCCCCCCCCCCCCCCCCCCCCCCCCCCCCCCCCCCCCCCCCH...  \n",
       "2912  CCCCCCCCCCCCCCCCCCCCCCCCHHHHHHHHHHHHHHHHHHHHHH...  \n",
       "1373  CCEEECCCCCCCCCCCCCCHHHHHHHHHHHCCCCCHHHCCCCCHHH...  \n",
       "2633  CCCCCCCCCCCCCCCCCCCEEEEECCHHHHHHHEEEECCECCCECC...  "
      ]
     },
     "metadata": {},
     "output_type": "display_data"
    },
    {
     "data": {
      "text/html": [
       "<div>\n",
       "<style scoped>\n",
       "    .dataframe tbody tr th:only-of-type {\n",
       "        vertical-align: middle;\n",
       "    }\n",
       "\n",
       "    .dataframe tbody tr th {\n",
       "        vertical-align: top;\n",
       "    }\n",
       "\n",
       "    .dataframe thead th {\n",
       "        text-align: right;\n",
       "    }\n",
       "</style>\n",
       "<table border=\"1\" class=\"dataframe\">\n",
       "  <thead>\n",
       "    <tr style=\"text-align: right;\">\n",
       "      <th></th>\n",
       "      <th>seq</th>\n",
       "      <th>sst8</th>\n",
       "      <th>sst3</th>\n",
       "    </tr>\n",
       "  </thead>\n",
       "  <tbody>\n",
       "    <tr>\n",
       "      <th>3381</th>\n",
       "      <td>MSEPGGGGGEDGSAGLEVSAVQNVADVSVLQKHLRKLVPLLLEDGG...</td>\n",
       "      <td>CCCCCCCCCCCCCCCCCCCCCCCCCCCCCCCCCCCCCCCCCCCCCC...</td>\n",
       "      <td>CCCCCCCCCCCCCCCCCCCCCCCCCCCCCCCCCCCCCCCCCCCCCC...</td>\n",
       "    </tr>\n",
       "    <tr>\n",
       "      <th>802</th>\n",
       "      <td>MGGSHHHHHHGMASMTGGQQMGRDLYDDDDKDPMIDPVVLQRRDWE...</td>\n",
       "      <td>CCCCCCCCCCCCCCCCCCCCCCCCCCCCCCCCCCCCCCHHHHCGGG...</td>\n",
       "      <td>CCCCCCCCCCCCCCCCCCCCCCCCCCCCCCCCCCCCCCHHHHCHHH...</td>\n",
       "    </tr>\n",
       "    <tr>\n",
       "      <th>3141</th>\n",
       "      <td>MVGQQYSSAPLRTVKEVQFGLFSPEEVRAISVAKIRFPETMDETQT...</td>\n",
       "      <td>CCCCCCCSSCBCCCCEEECCBCCHHHHHHHCSSBCCCCCCSCCSSC...</td>\n",
       "      <td>CCCCCCCCCCECCCCEEECCECCHHHHHHHCCCECCCCCCCCCCCC...</td>\n",
       "    </tr>\n",
       "    <tr>\n",
       "      <th>73</th>\n",
       "      <td>MKLSSACAIALLAAQAAGASIKHRINGFTLTEHSDPAKRELLQKYV...</td>\n",
       "      <td>CCCCCCCCCCCCCCCCCCCCCCCCCCCCCCCCCCCCCCCCCCCSSE...</td>\n",
       "      <td>CCCCCCCCCCCCCCCCCCCCCCCCCCCCCCCCCCCCCCCCCCCCCE...</td>\n",
       "    </tr>\n",
       "    <tr>\n",
       "      <th>3121</th>\n",
       "      <td>MVGQQYSSAPLRTVKEVQFGLFSPEEVRAISVAKIRFPETMDETQT...</td>\n",
       "      <td>CCCCCCCSSCBCCCCEEECCBCCHHHHHHHCSCBCCCCSCSCSSSS...</td>\n",
       "      <td>CCCCCCCCCCECCCCEEECCECCHHHHHHHCCCECCCCCCCCCCCC...</td>\n",
       "    </tr>\n",
       "  </tbody>\n",
       "</table>\n",
       "</div>"
      ],
      "text/plain": [
       "                                                    seq  \\\n",
       "3381  MSEPGGGGGEDGSAGLEVSAVQNVADVSVLQKHLRKLVPLLLEDGG...   \n",
       "802   MGGSHHHHHHGMASMTGGQQMGRDLYDDDDKDPMIDPVVLQRRDWE...   \n",
       "3141  MVGQQYSSAPLRTVKEVQFGLFSPEEVRAISVAKIRFPETMDETQT...   \n",
       "73    MKLSSACAIALLAAQAAGASIKHRINGFTLTEHSDPAKRELLQKYV...   \n",
       "3121  MVGQQYSSAPLRTVKEVQFGLFSPEEVRAISVAKIRFPETMDETQT...   \n",
       "\n",
       "                                                   sst8  \\\n",
       "3381  CCCCCCCCCCCCCCCCCCCCCCCCCCCCCCCCCCCCCCCCCCCCCC...   \n",
       "802   CCCCCCCCCCCCCCCCCCCCCCCCCCCCCCCCCCCCCCHHHHCGGG...   \n",
       "3141  CCCCCCCSSCBCCCCEEECCBCCHHHHHHHCSSBCCCCCCSCCSSC...   \n",
       "73    CCCCCCCCCCCCCCCCCCCCCCCCCCCCCCCCCCCCCCCCCCCSSE...   \n",
       "3121  CCCCCCCSSCBCCCCEEECCBCCHHHHHHHCSCBCCCCSCSCSSSS...   \n",
       "\n",
       "                                                   sst3  \n",
       "3381  CCCCCCCCCCCCCCCCCCCCCCCCCCCCCCCCCCCCCCCCCCCCCC...  \n",
       "802   CCCCCCCCCCCCCCCCCCCCCCCCCCCCCCCCCCCCCCHHHHCHHH...  \n",
       "3141  CCCCCCCCCCECCCCEEECCECCHHHHHHHCCCECCCCCCCCCCCC...  \n",
       "73    CCCCCCCCCCCCCCCCCCCCCCCCCCCCCCCCCCCCCCCCCCCCCE...  \n",
       "3121  CCCCCCCCCCECCCCEEECCECCHHHHHHHCCCECCCCCCCCCCCC...  "
      ]
     },
     "metadata": {},
     "output_type": "display_data"
    },
    {
     "data": {
      "text/html": [
       "<div>\n",
       "<style scoped>\n",
       "    .dataframe tbody tr th:only-of-type {\n",
       "        vertical-align: middle;\n",
       "    }\n",
       "\n",
       "    .dataframe tbody tr th {\n",
       "        vertical-align: top;\n",
       "    }\n",
       "\n",
       "    .dataframe thead th {\n",
       "        text-align: right;\n",
       "    }\n",
       "</style>\n",
       "<table border=\"1\" class=\"dataframe\">\n",
       "  <thead>\n",
       "    <tr style=\"text-align: right;\">\n",
       "      <th></th>\n",
       "      <th>seq</th>\n",
       "      <th>sst8</th>\n",
       "      <th>sst3</th>\n",
       "    </tr>\n",
       "  </thead>\n",
       "  <tbody>\n",
       "    <tr>\n",
       "      <th>581</th>\n",
       "      <td>MPNFFIDRPIFAWVIAIIIMLAGGLAILKLPVAQYPTIAPPAVTIS...</td>\n",
       "      <td>CCHHHHSCHHHHHHHHHHHHHHHHHHHHTCCBCSSCCCSCCEEEEE...</td>\n",
       "      <td>CCHHHHCCHHHHHHHHHHHHHHHHHHHHCCCECCCCCCCCCEEEEE...</td>\n",
       "    </tr>\n",
       "    <tr>\n",
       "      <th>2364</th>\n",
       "      <td>MTADELVFFVNGKKVVEKNADPETTLLVYLRRKLGLCGTKLGCGEG...</td>\n",
       "      <td>CCCCCEEEEETTEEEEETTCCTTCBHHHHHHHTSCCTTSCCSCSSS...</td>\n",
       "      <td>CCCCCEEEEECCEEEEECCCCCCCEHHHHHHHCCCCCCCCCCCCCC...</td>\n",
       "    </tr>\n",
       "    <tr>\n",
       "      <th>1108</th>\n",
       "      <td>GHMQEGEQLMSYINRDLENLQERIIARANEWLAAEQKSAKSKETEQ...</td>\n",
       "      <td>CCCCCCCCCCTTCCSHHHHHHHHHHHHHHHHHCCCCCCCCCCCCCC...</td>\n",
       "      <td>CCCCCCCCCCCCCCCHHHHHHHHHHHHHHHHHCCCCCCCCCCCCCC...</td>\n",
       "    </tr>\n",
       "    <tr>\n",
       "      <th>478</th>\n",
       "      <td>VSFRQKRTRIPLLAMTVTALAAAVCGVTTAPAATGAEVAVPLSVGA...</td>\n",
       "      <td>CCCCCCCCCCCCCCCCCCCCCCCCCCCCCCCCCCCCCCCCCCCCCC...</td>\n",
       "      <td>CCCCCCCCCCCCCCCCCCCCCCCCCCCCCCCCCCCCCCCCCCCCCC...</td>\n",
       "    </tr>\n",
       "    <tr>\n",
       "      <th>811</th>\n",
       "      <td>MGGSHHHHHHGMASMTGGQQMGRDLYDDDDKDPMIDPVVLQRRDWE...</td>\n",
       "      <td>CCCCCCCCCCCCCCCCCCCCCCCCCCCCCCCCCCCCCCCCCCCGGG...</td>\n",
       "      <td>CCCCCCCCCCCCCCCCCCCCCCCCCCCCCCCCCCCCCCCCCCCHHH...</td>\n",
       "    </tr>\n",
       "  </tbody>\n",
       "</table>\n",
       "</div>"
      ],
      "text/plain": [
       "                                                    seq  \\\n",
       "581   MPNFFIDRPIFAWVIAIIIMLAGGLAILKLPVAQYPTIAPPAVTIS...   \n",
       "2364  MTADELVFFVNGKKVVEKNADPETTLLVYLRRKLGLCGTKLGCGEG...   \n",
       "1108  GHMQEGEQLMSYINRDLENLQERIIARANEWLAAEQKSAKSKETEQ...   \n",
       "478   VSFRQKRTRIPLLAMTVTALAAAVCGVTTAPAATGAEVAVPLSVGA...   \n",
       "811   MGGSHHHHHHGMASMTGGQQMGRDLYDDDDKDPMIDPVVLQRRDWE...   \n",
       "\n",
       "                                                   sst8  \\\n",
       "581   CCHHHHSCHHHHHHHHHHHHHHHHHHHHTCCBCSSCCCSCCEEEEE...   \n",
       "2364  CCCCCEEEEETTEEEEETTCCTTCBHHHHHHHTSCCTTSCCSCSSS...   \n",
       "1108  CCCCCCCCCCTTCCSHHHHHHHHHHHHHHHHHCCCCCCCCCCCCCC...   \n",
       "478   CCCCCCCCCCCCCCCCCCCCCCCCCCCCCCCCCCCCCCCCCCCCCC...   \n",
       "811   CCCCCCCCCCCCCCCCCCCCCCCCCCCCCCCCCCCCCCCCCCCGGG...   \n",
       "\n",
       "                                                   sst3  \n",
       "581   CCHHHHCCHHHHHHHHHHHHHHHHHHHHCCCECCCCCCCCCEEEEE...  \n",
       "2364  CCCCCEEEEECCEEEEECCCCCCCEHHHHHHHCCCCCCCCCCCCCC...  \n",
       "1108  CCCCCCCCCCCCCCCHHHHHHHHHHHHHHHHHCCCCCCCCCCCCCC...  \n",
       "478   CCCCCCCCCCCCCCCCCCCCCCCCCCCCCCCCCCCCCCCCCCCCCC...  \n",
       "811   CCCCCCCCCCCCCCCCCCCCCCCCCCCCCCCCCCCCCCCCCCCHHH...  "
      ]
     },
     "metadata": {},
     "output_type": "display_data"
    },
    {
     "name": "stdout",
     "output_type": "stream",
     "text": [
      "train set: 2709\n",
      "valid set: 339\n",
      "test set: 339\n"
     ]
    }
   ],
   "source": [
    "combined = pd.read_csv('clean_data.csv')  \n",
    "\n",
    "train_df, temp_df = train_test_split(combined, test_size=0.2, random_state=42)\n",
    "valid_df, test_df = train_test_split(temp_df, test_size=0.5, random_state=42)\n",
    "\n",
    "display(train_df.head())\n",
    "display(valid_df.head())\n",
    "display(test_df.head())\n",
    "print(f\"train set: {len(train_df)}\")\n",
    "print(f\"valid set: {len(valid_df)}\")\n",
    "print(f\"test set: {len(test_df)}\")"
   ]
  },
  {
   "cell_type": "code",
   "execution_count": 5,
   "id": "3ea3e53b",
   "metadata": {
    "papermill": {
     "duration": 0.264155,
     "end_time": "2024-12-02T03:00:20.654841",
     "exception": false,
     "start_time": "2024-12-02T03:00:20.390686",
     "status": "completed"
    },
    "tags": []
   },
   "outputs": [
    {
     "data": {
      "text/html": [
       "<div>\n",
       "<style scoped>\n",
       "    .dataframe tbody tr th:only-of-type {\n",
       "        vertical-align: middle;\n",
       "    }\n",
       "\n",
       "    .dataframe tbody tr th {\n",
       "        vertical-align: top;\n",
       "    }\n",
       "\n",
       "    .dataframe thead th {\n",
       "        text-align: right;\n",
       "    }\n",
       "</style>\n",
       "<table border=\"1\" class=\"dataframe\">\n",
       "  <thead>\n",
       "    <tr style=\"text-align: right;\">\n",
       "      <th></th>\n",
       "      <th>sst8</th>\n",
       "      <th>sst3_mapped</th>\n",
       "    </tr>\n",
       "  </thead>\n",
       "  <tbody>\n",
       "    <tr>\n",
       "      <th>2025</th>\n",
       "      <td>CCCCCCCCCCCCCCCCCCCCCCCCCCCCCCCCCCCCCCCCCCCCCC...</td>\n",
       "      <td>CCCCCCCCCCCCCCCCCCCCCCCCCCCCCCCCCCCCCCCCCCCCCC...</td>\n",
       "    </tr>\n",
       "    <tr>\n",
       "      <th>3205</th>\n",
       "      <td>CCCCCCCCCCCCCCCCCCCCCCCCCCCCCCCCCCCCCCCCCCCCCH...</td>\n",
       "      <td>CCCCCCCCCCCCCCCCCCCCCCCCCCCCCCCCCCCCCCCCCCCCCH...</td>\n",
       "    </tr>\n",
       "    <tr>\n",
       "      <th>2912</th>\n",
       "      <td>CCCCCCCCCCCCCCCCCCCCCCCCHHHHHHHHHHHHHHHHHHHHHH...</td>\n",
       "      <td>CCCCCCCCCCCCCCCCCCCCCCCCHHHHHHHHHHHHHHHHHHHHHH...</td>\n",
       "    </tr>\n",
       "    <tr>\n",
       "      <th>1373</th>\n",
       "      <td>CCEEECCSCCCSSCCCCTTHHHHHHHHHHHCTTSCGGGCCSSSHHH...</td>\n",
       "      <td>CCEEECCCCCCCCCCCCCCHHHHHHHHHHHCCCCCHHHCCCCCHHH...</td>\n",
       "    </tr>\n",
       "    <tr>\n",
       "      <th>2633</th>\n",
       "      <td>CCCCCCCCCCCCCCCCCCCEEEEECCHHHHHHHEEEECCBSCCBCS...</td>\n",
       "      <td>CCCCCCCCCCCCCCCCCCCEEEEECCHHHHHHHEEEECCECCCECC...</td>\n",
       "    </tr>\n",
       "  </tbody>\n",
       "</table>\n",
       "</div>"
      ],
      "text/plain": [
       "                                                   sst8  \\\n",
       "2025  CCCCCCCCCCCCCCCCCCCCCCCCCCCCCCCCCCCCCCCCCCCCCC...   \n",
       "3205  CCCCCCCCCCCCCCCCCCCCCCCCCCCCCCCCCCCCCCCCCCCCCH...   \n",
       "2912  CCCCCCCCCCCCCCCCCCCCCCCCHHHHHHHHHHHHHHHHHHHHHH...   \n",
       "1373  CCEEECCSCCCSSCCCCTTHHHHHHHHHHHCTTSCGGGCCSSSHHH...   \n",
       "2633  CCCCCCCCCCCCCCCCCCCEEEEECCHHHHHHHEEEECCBSCCBCS...   \n",
       "\n",
       "                                            sst3_mapped  \n",
       "2025  CCCCCCCCCCCCCCCCCCCCCCCCCCCCCCCCCCCCCCCCCCCCCC...  \n",
       "3205  CCCCCCCCCCCCCCCCCCCCCCCCCCCCCCCCCCCCCCCCCCCCCH...  \n",
       "2912  CCCCCCCCCCCCCCCCCCCCCCCCHHHHHHHHHHHHHHHHHHHHHH...  \n",
       "1373  CCEEECCCCCCCCCCCCCCHHHHHHHHHHHCCCCCHHHCCCCCHHH...  \n",
       "2633  CCCCCCCCCCCCCCCCCCCEEEEECCHHHHHHHEEEECCECCCECC...  "
      ]
     },
     "metadata": {},
     "output_type": "display_data"
    }
   ],
   "source": [
    "sst8_to_sst3 = {\n",
    "    'H': 'H', 'G': 'H', 'I': 'H',\n",
    "    'E': 'E', 'B': 'E',\n",
    "    'T': 'C', 'S': 'C', 'C': 'C'\n",
    "}\n",
    "\n",
    "def map_sst8_to_sst3(sst8):\n",
    "    return ''.join([sst8_to_sst3.get(char, 'C') for char in sst8])\n",
    "\n",
    "train_df['sst3_mapped'] = train_df['sst8'].apply(map_sst8_to_sst3)\n",
    "valid_df['sst3_mapped'] = valid_df['sst8'].apply(map_sst8_to_sst3)\n",
    "test_df['sst3_mapped'] = test_df['sst8'].apply(map_sst8_to_sst3)\n",
    "\n",
    "display(train_df[['sst8', 'sst3_mapped']].head())"
   ]
  },
  {
   "cell_type": "code",
   "execution_count": 6,
   "id": "b75911fd",
   "metadata": {
    "papermill": {
     "duration": 2.75874,
     "end_time": "2024-12-02T03:00:23.418345",
     "exception": false,
     "start_time": "2024-12-02T03:00:20.659605",
     "status": "completed"
    },
    "tags": []
   },
   "outputs": [
    {
     "data": {
      "text/plain": [
       "array([[0., 0., 0., ..., 0., 0., 0.],\n",
       "       [0., 0., 1., ..., 0., 0., 0.],\n",
       "       [1., 0., 0., ..., 0., 0., 0.],\n",
       "       ...,\n",
       "       [0., 0., 0., ..., 0., 0., 1.],\n",
       "       [0., 0., 0., ..., 0., 0., 1.],\n",
       "       [0., 0., 0., ..., 0., 0., 1.]], dtype=float32)"
      ]
     },
     "metadata": {},
     "output_type": "display_data"
    },
    {
     "data": {
      "text/plain": [
       "array([[0., 0., 0., ..., 0., 0., 0.],\n",
       "       [0., 0., 0., ..., 0., 0., 0.],\n",
       "       [0., 0., 0., ..., 0., 0., 0.],\n",
       "       ...,\n",
       "       [0., 0., 0., ..., 0., 0., 1.],\n",
       "       [0., 0., 0., ..., 0., 0., 1.],\n",
       "       [0., 0., 0., ..., 0., 0., 1.]], dtype=float32)"
      ]
     },
     "metadata": {},
     "output_type": "display_data"
    },
    {
     "name": "stdout",
     "output_type": "stream",
     "text": [
      "train one-hot shape: (2709, 5037, 21)\n",
      "valid one-hot shape: (339, 5037, 21)\n",
      "test one-hot shape: (339, 5037, 21)\n"
     ]
    }
   ],
   "source": [
    "def one_hot_encode_sequences(sequences, max_len=None):\n",
    "    amino_acids = 'ACDEFGHIKLMNPQRSTVWY'\n",
    "    aa_to_int = {aa: idx for idx, aa in enumerate(amino_acids)}\n",
    "    aa_to_int['X'] = len(amino_acids)\n",
    "    \n",
    "    integer_encoded = []\n",
    "    for seq in sequences:\n",
    "        encoded = [aa_to_int.get(aa, len(amino_acids)) for aa in seq]\n",
    "        integer_encoded.append(encoded)\n",
    "    \n",
    "    if not max_len:\n",
    "        max_len = max(len(seq) for seq in integer_encoded)\n",
    "    \n",
    "    padded_encoded = tf.keras.preprocessing.sequence.pad_sequences(\n",
    "        integer_encoded, maxlen=max_len, padding='post', truncating='post', value=len(amino_acids)\n",
    "    )\n",
    "    \n",
    "    one_hot_encoded = to_categorical(padded_encoded, num_classes=len(amino_acids)+1)\n",
    "    \n",
    "    return one_hot_encoded, max_len\n",
    "\n",
    "\n",
    "X_train, max_len = one_hot_encode_sequences(train_df['seq'])\n",
    "\n",
    "X_valid, _ = one_hot_encode_sequences(valid_df['seq'], max_len)\n",
    "\n",
    "X_test, _ = one_hot_encode_sequences(test_df['seq'], max_len)\n",
    "\n",
    "display(X_train[0])\n",
    "display(X_valid[0])\n",
    "print(f\"train one-hot shape: {X_train.shape}\")\n",
    "print(f\"valid one-hot shape: {X_valid.shape}\")\n",
    "print(f\"test one-hot shape: {X_test.shape}\")"
   ]
  },
  {
   "cell_type": "code",
   "execution_count": 7,
   "id": "050276ad",
   "metadata": {
    "papermill": {
     "duration": 0.862767,
     "end_time": "2024-12-02T03:00:24.285718",
     "exception": false,
     "start_time": "2024-12-02T03:00:23.422951",
     "status": "completed"
    },
    "tags": []
   },
   "outputs": [
    {
     "data": {
      "text/plain": [
       "array([[0., 0., 1.],\n",
       "       [0., 0., 1.],\n",
       "       [0., 0., 1.],\n",
       "       ...,\n",
       "       [0., 0., 1.],\n",
       "       [0., 0., 1.],\n",
       "       [0., 0., 1.]], dtype=float32)"
      ]
     },
     "metadata": {},
     "output_type": "display_data"
    },
    {
     "data": {
      "text/plain": [
       "array([[0., 0., 1.],\n",
       "       [0., 0., 1.],\n",
       "       [0., 0., 1.],\n",
       "       ...,\n",
       "       [0., 0., 1.],\n",
       "       [0., 0., 1.],\n",
       "       [0., 0., 1.]], dtype=float32)"
      ]
     },
     "metadata": {},
     "output_type": "display_data"
    },
    {
     "name": "stdout",
     "output_type": "stream",
     "text": [
      "train label one-hot shape: (2709, 5037, 3)\n",
      "valid label one-hot shape: (339, 5037, 3)\n",
      "test label one-hot shape: (339, 5037, 3)\n"
     ]
    }
   ],
   "source": [
    "def one_hot_encode_labels(labels, max_len):\n",
    "    sec_structs = ['H', 'E', 'C']\n",
    "    struct_to_int = {s: idx for idx, s in enumerate(sec_structs)}\n",
    "    \n",
    "    integer_encoded = []\n",
    "    for lbl in labels:\n",
    "        encoded = [struct_to_int.get(s, 2) for s in lbl]  \n",
    "        integer_encoded.append(encoded)\n",
    "    \n",
    "    padded_encoded = tf.keras.preprocessing.sequence.pad_sequences(\n",
    "        integer_encoded, maxlen=max_len, padding='post', truncating='post', value=2\n",
    "    )\n",
    "    \n",
    "    y = to_categorical(padded_encoded, num_classes=len(sec_structs))\n",
    "    \n",
    "    return y\n",
    "\n",
    "\n",
    "y_train = one_hot_encode_labels(train_df['sst3_mapped'], max_len)\n",
    "\n",
    "y_valid = one_hot_encode_labels(valid_df['sst3_mapped'], max_len)\n",
    "\n",
    "y_test = one_hot_encode_labels(test_df['sst3_mapped'], max_len)\n",
    "\n",
    "display(y_train[0])\n",
    "display(y_valid[0])\n",
    "print(f\"train label one-hot shape: {y_train.shape}\")\n",
    "print(f\"valid label one-hot shape: {y_valid.shape}\")\n",
    "print(f\"test label one-hot shape: {y_test.shape}\")"
   ]
  },
  {
   "cell_type": "code",
   "execution_count": 8,
   "id": "53c894df",
   "metadata": {},
   "outputs": [
    {
     "data": {
      "text/plain": [
       "(2709, 5037, 3)"
      ]
     },
     "execution_count": 8,
     "metadata": {},
     "output_type": "execute_result"
    }
   ],
   "source": [
    "y_train.shape"
   ]
  },
  {
   "cell_type": "code",
   "execution_count": 9,
   "id": "28b4f267",
   "metadata": {
    "papermill": {
     "duration": 0.248069,
     "end_time": "2024-12-02T03:00:24.538636",
     "exception": false,
     "start_time": "2024-12-02T03:00:24.290567",
     "status": "completed"
    },
    "tags": []
   },
   "outputs": [
    {
     "name": "stdout",
     "output_type": "stream",
     "text": [
      "GPUs [PhysicalDevice(name='/physical_device:GPU:0', device_type='GPU')] are available and configured.\n"
     ]
    }
   ],
   "source": [
    "import tensorflow as tf\n",
    "\n",
    "# Verify GPU availability\n",
    "gpus = tf.config.list_physical_devices('GPU')\n",
    "if gpus:\n",
    "    try:\n",
    "        # Enable memory growth for each GPU\n",
    "        for gpu in gpus:\n",
    "            tf.config.experimental.set_memory_growth(gpu, True)\n",
    "        print(f\"GPUs {gpus} are available and configured.\")\n",
    "    except RuntimeError as e:\n",
    "        print(e)\n",
    "else:\n",
    "    print(\"No GPU available. Using CPU.\")"
   ]
  },
  {
   "cell_type": "code",
   "execution_count": 10,
   "id": "5a55570f",
   "metadata": {
    "papermill": {
     "duration": 0.800011,
     "end_time": "2024-12-02T03:00:25.358755",
     "exception": false,
     "start_time": "2024-12-02T03:00:24.558744",
     "status": "completed"
    },
    "tags": []
   },
   "outputs": [
    {
     "name": "stderr",
     "output_type": "stream",
     "text": [
      "2025-04-16 23:24:46.532034: I tensorflow/core/platform/cpu_feature_guard.cc:193] This TensorFlow binary is optimized with oneAPI Deep Neural Network Library (oneDNN) to use the following CPU instructions in performance-critical operations:  AVX2 AVX512F AVX512_VNNI FMA\n",
      "To enable them in other operations, rebuild TensorFlow with the appropriate compiler flags.\n",
      "2025-04-16 23:24:46.999008: I tensorflow/core/common_runtime/gpu/gpu_device.cc:1532] Created device /job:localhost/replica:0/task:0/device:GPU:0 with 22302 MB memory:  -> device: 0, name: NVIDIA GeForce RTX 3090, pci bus id: 0000:57:00.0, compute capability: 8.6\n"
     ]
    },
    {
     "name": "stdout",
     "output_type": "stream",
     "text": [
      "Model: \"model\"\n",
      "__________________________________________________________________________________________________\n",
      " Layer (type)                   Output Shape         Param #     Connected to                     \n",
      "==================================================================================================\n",
      " input_1 (InputLayer)           [(None, 5037, 21)]   0           []                               \n",
      "                                                                                                  \n",
      " conv1d (Conv1D)                (None, 5037, 64)     4096        ['input_1[0][0]']                \n",
      "                                                                                                  \n",
      " conv1d_1 (Conv1D)              (None, 5037, 128)    24704       ['conv1d[0][0]']                 \n",
      "                                                                                                  \n",
      " bidirectional (Bidirectional)  (None, 5037, 256)    263168      ['conv1d_1[0][0]']               \n",
      "                                                                                                  \n",
      " attention (Attention)          (None, 5037, 256)    0           ['bidirectional[0][0]',          \n",
      "                                                                  'bidirectional[0][0]']          \n",
      "                                                                                                  \n",
      " dense (Dense)                  (None, 5037, 64)     16448       ['attention[0][0]']              \n",
      "                                                                                                  \n",
      " dropout (Dropout)              (None, 5037, 64)     0           ['dense[0][0]']                  \n",
      "                                                                                                  \n",
      " dense_1 (Dense)                (None, 5037, 3)      195         ['dropout[0][0]']                \n",
      "                                                                                                  \n",
      "==================================================================================================\n",
      "Total params: 308,611\n",
      "Trainable params: 308,611\n",
      "Non-trainable params: 0\n",
      "__________________________________________________________________________________________________\n"
     ]
    }
   ],
   "source": [
    "# build model\n",
    "input_layer = Input(shape=(max_len, X_train.shape[2]))\n",
    "\n",
    "# conv layer\n",
    "conv1 = Conv1D(filters=64, kernel_size=3, activation='relu', padding='same')(input_layer)\n",
    "conv2 = Conv1D(filters=128, kernel_size=3, activation='relu', padding='same')(conv1)\n",
    "conv3 = Conv1D(filters=256, kernel_size=3, activation='relu', padding='same')(conv2)\n",
    "\n",
    "# lstm\n",
    "bi_lstm = Bidirectional(LSTM(128, return_sequences=True))(conv2)\n",
    "\n",
    "# attention\n",
    "attention = Attention()([bi_lstm, bi_lstm])\n",
    "\n",
    "dense = Dense(64, activation='relu')(attention)\n",
    "dropout = Dropout(0.5)(dense)\n",
    "\n",
    "output_layer = Dense(3, activation='softmax')(dropout)\n",
    "\n",
    "model = Model(inputs=input_layer, outputs=output_layer)\n",
    "\n",
    "model.compile(optimizer='adam',\n",
    "              loss='categorical_crossentropy',\n",
    "              metrics=['accuracy', tf.keras.metrics.Precision(), tf.keras.metrics.Recall()])\n",
    "\n",
    "model.summary()"
   ]
  },
  {
   "cell_type": "code",
   "execution_count": 11,
   "id": "f0860825",
   "metadata": {
    "papermill": {
     "duration": 2184.185007,
     "end_time": "2024-12-02T03:36:49.567013",
     "exception": false,
     "start_time": "2024-12-02T03:00:25.382006",
     "status": "completed"
    },
    "tags": []
   },
   "outputs": [
    {
     "name": "stdout",
     "output_type": "stream",
     "text": [
      "Epoch 1/50\n"
     ]
    },
    {
     "name": "stderr",
     "output_type": "stream",
     "text": [
      "2025-04-16 23:24:54.730533: W tensorflow/core/grappler/costs/op_level_cost_estimator.cc:690] Error in PredictCost() for the op: op: \"Softmax\" attr { key: \"T\" value { type: DT_FLOAT } } inputs { dtype: DT_FLOAT shape { unknown_rank: true } } device { type: \"GPU\" vendor: \"NVIDIA\" model: \"NVIDIA GeForce RTX 3090\" frequency: 1695 num_cores: 82 environment { key: \"architecture\" value: \"8.6\" } environment { key: \"cuda\" value: \"11020\" } environment { key: \"cudnn\" value: \"8100\" } num_registers: 65536 l1_cache_size: 24576 l2_cache_size: 6291456 shared_memory_size_per_multiprocessor: 102400 memory_size: 23386062848 bandwidth: 936096000 } outputs { dtype: DT_FLOAT shape { unknown_rank: true } }\n",
      "2025-04-16 23:24:55.740939: I tensorflow/stream_executor/cuda/cuda_dnn.cc:384] Loaded cuDNN version 8101\n",
      "2025-04-16 23:24:57.380486: I tensorflow/stream_executor/cuda/cuda_blas.cc:1786] TensorFloat-32 will be used for the matrix multiplication. This will only be logged once.\n"
     ]
    },
    {
     "name": "stdout",
     "output_type": "stream",
     "text": [
      "85/85 [==============================] - ETA: 0s - loss: 0.3752 - accuracy: 0.8615 - precision: 0.9202 - recall: 0.7787"
     ]
    },
    {
     "name": "stderr",
     "output_type": "stream",
     "text": [
      "2025-04-16 23:25:37.079417: W tensorflow/core/grappler/costs/op_level_cost_estimator.cc:690] Error in PredictCost() for the op: op: \"Softmax\" attr { key: \"T\" value { type: DT_FLOAT } } inputs { dtype: DT_FLOAT shape { unknown_rank: true } } device { type: \"GPU\" vendor: \"NVIDIA\" model: \"NVIDIA GeForce RTX 3090\" frequency: 1695 num_cores: 82 environment { key: \"architecture\" value: \"8.6\" } environment { key: \"cuda\" value: \"11020\" } environment { key: \"cudnn\" value: \"8100\" } num_registers: 65536 l1_cache_size: 24576 l2_cache_size: 6291456 shared_memory_size_per_multiprocessor: 102400 memory_size: 23386062848 bandwidth: 936096000 } outputs { dtype: DT_FLOAT shape { unknown_rank: true } }\n"
     ]
    },
    {
     "name": "stdout",
     "output_type": "stream",
     "text": [
      "85/85 [==============================] - 47s 490ms/step - loss: 0.3752 - accuracy: 0.8615 - precision: 0.9202 - recall: 0.7787 - val_loss: 0.2650 - val_accuracy: 0.8684 - val_precision: 0.9996 - val_recall: 0.7421\n",
      "Epoch 2/50\n",
      "85/85 [==============================] - 41s 481ms/step - loss: 0.2656 - accuracy: 0.8696 - precision: 0.9484 - recall: 0.7844 - val_loss: 0.2645 - val_accuracy: 0.8684 - val_precision: 0.8684 - val_recall: 0.8684\n",
      "Epoch 3/50\n",
      "85/85 [==============================] - 41s 486ms/step - loss: 0.2649 - accuracy: 0.8697 - precision: 0.9468 - recall: 0.7861 - val_loss: 0.2642 - val_accuracy: 0.8684 - val_precision: 0.9995 - val_recall: 0.7424\n",
      "Epoch 4/50\n",
      "85/85 [==============================] - 41s 483ms/step - loss: 0.2607 - accuracy: 0.8699 - precision: 0.9496 - recall: 0.7931 - val_loss: 0.2479 - val_accuracy: 0.8821 - val_precision: 0.9716 - val_recall: 0.7998\n",
      "Epoch 5/50\n",
      "85/85 [==============================] - 41s 479ms/step - loss: 0.2282 - accuracy: 0.8959 - precision: 0.9457 - recall: 0.8497 - val_loss: 0.2132 - val_accuracy: 0.9044 - val_precision: 0.9517 - val_recall: 0.8571\n",
      "Epoch 6/50\n",
      "85/85 [==============================] - 41s 482ms/step - loss: 0.2141 - accuracy: 0.9049 - precision: 0.9398 - recall: 0.8697 - val_loss: 0.2028 - val_accuracy: 0.9099 - val_precision: 0.9384 - val_recall: 0.8823\n",
      "Epoch 7/50\n",
      "85/85 [==============================] - 42s 494ms/step - loss: 0.2048 - accuracy: 0.9100 - precision: 0.9376 - recall: 0.8818 - val_loss: 0.2018 - val_accuracy: 0.9108 - val_precision: 0.9301 - val_recall: 0.8922\n",
      "Epoch 8/50\n",
      "85/85 [==============================] - 42s 489ms/step - loss: 0.1960 - accuracy: 0.9142 - precision: 0.9367 - recall: 0.8912 - val_loss: 0.1847 - val_accuracy: 0.9182 - val_precision: 0.9356 - val_recall: 0.9005\n",
      "Epoch 9/50\n",
      "85/85 [==============================] - 41s 484ms/step - loss: 0.1898 - accuracy: 0.9171 - precision: 0.9371 - recall: 0.8965 - val_loss: 0.1814 - val_accuracy: 0.9202 - val_precision: 0.9335 - val_recall: 0.9075\n",
      "Epoch 10/50\n",
      "85/85 [==============================] - 42s 491ms/step - loss: 0.1836 - accuracy: 0.9200 - precision: 0.9372 - recall: 0.9021 - val_loss: 0.1741 - val_accuracy: 0.9236 - val_precision: 0.9389 - val_recall: 0.9075\n",
      "Epoch 11/50\n",
      "85/85 [==============================] - 41s 483ms/step - loss: 0.1795 - accuracy: 0.9221 - precision: 0.9378 - recall: 0.9056 - val_loss: 0.1723 - val_accuracy: 0.9245 - val_precision: 0.9358 - val_recall: 0.9135\n",
      "Epoch 12/50\n",
      "85/85 [==============================] - 41s 483ms/step - loss: 0.1752 - accuracy: 0.9243 - precision: 0.9381 - recall: 0.9098 - val_loss: 0.1681 - val_accuracy: 0.9268 - val_precision: 0.9394 - val_recall: 0.9134\n",
      "Epoch 13/50\n",
      "85/85 [==============================] - 41s 487ms/step - loss: 0.1711 - accuracy: 0.9263 - precision: 0.9390 - recall: 0.9130 - val_loss: 0.1643 - val_accuracy: 0.9283 - val_precision: 0.9380 - val_recall: 0.9187\n",
      "Epoch 14/50\n",
      "85/85 [==============================] - 41s 487ms/step - loss: 0.1656 - accuracy: 0.9289 - precision: 0.9400 - recall: 0.9174 - val_loss: 0.1605 - val_accuracy: 0.9301 - val_precision: 0.9399 - val_recall: 0.9202\n",
      "Epoch 15/50\n",
      "85/85 [==============================] - 41s 488ms/step - loss: 0.1623 - accuracy: 0.9305 - precision: 0.9410 - recall: 0.9196 - val_loss: 0.1552 - val_accuracy: 0.9327 - val_precision: 0.9385 - val_recall: 0.9274\n",
      "Epoch 16/50\n",
      "85/85 [==============================] - 41s 482ms/step - loss: 0.1581 - accuracy: 0.9324 - precision: 0.9421 - recall: 0.9223 - val_loss: 0.1529 - val_accuracy: 0.9343 - val_precision: 0.9424 - val_recall: 0.9264\n",
      "Epoch 17/50\n",
      "85/85 [==============================] - 41s 483ms/step - loss: 0.1542 - accuracy: 0.9342 - precision: 0.9432 - recall: 0.9251 - val_loss: 0.1474 - val_accuracy: 0.9362 - val_precision: 0.9441 - val_recall: 0.9286\n",
      "Epoch 18/50\n",
      "85/85 [==============================] - 41s 485ms/step - loss: 0.1510 - accuracy: 0.9356 - precision: 0.9441 - recall: 0.9270 - val_loss: 0.1482 - val_accuracy: 0.9353 - val_precision: 0.9405 - val_recall: 0.9303\n",
      "Epoch 19/50\n",
      "85/85 [==============================] - 42s 490ms/step - loss: 0.1477 - accuracy: 0.9373 - precision: 0.9454 - recall: 0.9291 - val_loss: 0.1433 - val_accuracy: 0.9383 - val_precision: 0.9455 - val_recall: 0.9315\n",
      "Epoch 20/50\n",
      "85/85 [==============================] - 41s 487ms/step - loss: 0.1437 - accuracy: 0.9391 - precision: 0.9464 - recall: 0.9317 - val_loss: 0.1404 - val_accuracy: 0.9396 - val_precision: 0.9461 - val_recall: 0.9333\n",
      "Epoch 21/50\n",
      "85/85 [==============================] - 42s 495ms/step - loss: 0.1414 - accuracy: 0.9401 - precision: 0.9473 - recall: 0.9329 - val_loss: 0.1383 - val_accuracy: 0.9403 - val_precision: 0.9456 - val_recall: 0.9356\n",
      "Epoch 22/50\n",
      "85/85 [==============================] - 41s 485ms/step - loss: 0.1375 - accuracy: 0.9420 - precision: 0.9486 - recall: 0.9354 - val_loss: 0.1323 - val_accuracy: 0.9436 - val_precision: 0.9484 - val_recall: 0.9394\n",
      "Epoch 23/50\n",
      "85/85 [==============================] - 41s 486ms/step - loss: 0.1354 - accuracy: 0.9431 - precision: 0.9494 - recall: 0.9367 - val_loss: 0.1317 - val_accuracy: 0.9434 - val_precision: 0.9481 - val_recall: 0.9390\n",
      "Epoch 24/50\n",
      "85/85 [==============================] - 41s 484ms/step - loss: 0.1324 - accuracy: 0.9443 - precision: 0.9503 - recall: 0.9382 - val_loss: 0.1296 - val_accuracy: 0.9450 - val_precision: 0.9487 - val_recall: 0.9416\n",
      "Epoch 25/50\n",
      "85/85 [==============================] - 41s 484ms/step - loss: 0.1303 - accuracy: 0.9452 - precision: 0.9510 - recall: 0.9394 - val_loss: 0.1265 - val_accuracy: 0.9460 - val_precision: 0.9507 - val_recall: 0.9415\n",
      "Epoch 26/50\n",
      "85/85 [==============================] - 41s 485ms/step - loss: 0.1283 - accuracy: 0.9463 - precision: 0.9518 - recall: 0.9408 - val_loss: 0.1268 - val_accuracy: 0.9461 - val_precision: 0.9511 - val_recall: 0.9416\n",
      "Epoch 27/50\n",
      "85/85 [==============================] - 41s 484ms/step - loss: 0.1255 - accuracy: 0.9475 - precision: 0.9527 - recall: 0.9423 - val_loss: 0.1238 - val_accuracy: 0.9470 - val_precision: 0.9524 - val_recall: 0.9417\n",
      "Epoch 28/50\n",
      "85/85 [==============================] - 41s 484ms/step - loss: 0.1237 - accuracy: 0.9483 - precision: 0.9533 - recall: 0.9432 - val_loss: 0.1287 - val_accuracy: 0.9447 - val_precision: 0.9491 - val_recall: 0.9408\n",
      "Epoch 29/50\n",
      "85/85 [==============================] - 42s 490ms/step - loss: 0.1220 - accuracy: 0.9491 - precision: 0.9539 - recall: 0.9442 - val_loss: 0.1189 - val_accuracy: 0.9498 - val_precision: 0.9543 - val_recall: 0.9453\n",
      "Epoch 30/50\n",
      "85/85 [==============================] - 41s 484ms/step - loss: 0.1204 - accuracy: 0.9498 - precision: 0.9545 - recall: 0.9451 - val_loss: 0.1188 - val_accuracy: 0.9495 - val_precision: 0.9538 - val_recall: 0.9456\n",
      "Epoch 31/50\n",
      "85/85 [==============================] - 41s 483ms/step - loss: 0.1179 - accuracy: 0.9509 - precision: 0.9554 - recall: 0.9464 - val_loss: 0.1155 - val_accuracy: 0.9511 - val_precision: 0.9548 - val_recall: 0.9477\n",
      "Epoch 32/50\n",
      "85/85 [==============================] - 41s 484ms/step - loss: 0.1160 - accuracy: 0.9518 - precision: 0.9559 - recall: 0.9476 - val_loss: 0.1163 - val_accuracy: 0.9506 - val_precision: 0.9534 - val_recall: 0.9481\n",
      "Epoch 33/50\n",
      "85/85 [==============================] - 41s 486ms/step - loss: 0.1150 - accuracy: 0.9522 - precision: 0.9563 - recall: 0.9480 - val_loss: 0.1141 - val_accuracy: 0.9517 - val_precision: 0.9562 - val_recall: 0.9472\n",
      "Epoch 34/50\n",
      "85/85 [==============================] - 41s 482ms/step - loss: 0.1128 - accuracy: 0.9533 - precision: 0.9571 - recall: 0.9494 - val_loss: 0.1140 - val_accuracy: 0.9516 - val_precision: 0.9547 - val_recall: 0.9490\n",
      "Epoch 35/50\n",
      "85/85 [==============================] - 42s 489ms/step - loss: 0.1114 - accuracy: 0.9539 - precision: 0.9575 - recall: 0.9502 - val_loss: 0.1124 - val_accuracy: 0.9525 - val_precision: 0.9565 - val_recall: 0.9487\n",
      "Epoch 36/50\n",
      "85/85 [==============================] - 41s 488ms/step - loss: 0.1100 - accuracy: 0.9544 - precision: 0.9579 - recall: 0.9508 - val_loss: 0.1104 - val_accuracy: 0.9535 - val_precision: 0.9563 - val_recall: 0.9510\n",
      "Epoch 37/50\n",
      "85/85 [==============================] - 41s 487ms/step - loss: 0.1100 - accuracy: 0.9545 - precision: 0.9580 - recall: 0.9510 - val_loss: 0.1098 - val_accuracy: 0.9541 - val_precision: 0.9572 - val_recall: 0.9512\n",
      "Epoch 38/50\n",
      "85/85 [==============================] - 41s 486ms/step - loss: 0.1077 - accuracy: 0.9555 - precision: 0.9589 - recall: 0.9521 - val_loss: 0.1074 - val_accuracy: 0.9547 - val_precision: 0.9582 - val_recall: 0.9513\n",
      "Epoch 39/50\n",
      "85/85 [==============================] - 41s 485ms/step - loss: 0.1067 - accuracy: 0.9560 - precision: 0.9592 - recall: 0.9527 - val_loss: 0.1072 - val_accuracy: 0.9550 - val_precision: 0.9579 - val_recall: 0.9523\n",
      "Epoch 40/50\n",
      "85/85 [==============================] - 41s 482ms/step - loss: 0.1391 - accuracy: 0.9412 - precision: 0.9493 - recall: 0.9331 - val_loss: 0.1267 - val_accuracy: 0.9454 - val_precision: 0.9516 - val_recall: 0.9394\n",
      "Epoch 41/50\n",
      "85/85 [==============================] - 41s 487ms/step - loss: 0.1181 - accuracy: 0.9507 - precision: 0.9550 - recall: 0.9463 - val_loss: 0.1121 - val_accuracy: 0.9527 - val_precision: 0.9555 - val_recall: 0.9502\n",
      "Epoch 42/50\n",
      "85/85 [==============================] - 41s 485ms/step - loss: 0.1093 - accuracy: 0.9547 - precision: 0.9582 - recall: 0.9511 - val_loss: 0.1078 - val_accuracy: 0.9543 - val_precision: 0.9573 - val_recall: 0.9515\n",
      "Epoch 43/50\n",
      "85/85 [==============================] - 41s 483ms/step - loss: 0.1061 - accuracy: 0.9561 - precision: 0.9593 - recall: 0.9530 - val_loss: 0.1061 - val_accuracy: 0.9554 - val_precision: 0.9579 - val_recall: 0.9531\n",
      "Epoch 44/50\n",
      "85/85 [==============================] - 42s 490ms/step - loss: 0.1036 - accuracy: 0.9573 - precision: 0.9602 - recall: 0.9543 - val_loss: 0.1049 - val_accuracy: 0.9562 - val_precision: 0.9586 - val_recall: 0.9539\n",
      "Epoch 45/50\n",
      "85/85 [==============================] - 42s 488ms/step - loss: 0.1015 - accuracy: 0.9582 - precision: 0.9609 - recall: 0.9554 - val_loss: 0.1026 - val_accuracy: 0.9572 - val_precision: 0.9597 - val_recall: 0.9550\n",
      "Epoch 46/50\n",
      "85/85 [==============================] - 42s 495ms/step - loss: 0.1010 - accuracy: 0.9584 - precision: 0.9610 - recall: 0.9557 - val_loss: 0.1031 - val_accuracy: 0.9571 - val_precision: 0.9595 - val_recall: 0.9550\n",
      "Epoch 47/50\n",
      "85/85 [==============================] - 42s 490ms/step - loss: 0.0998 - accuracy: 0.9589 - precision: 0.9615 - recall: 0.9563 - val_loss: 0.1015 - val_accuracy: 0.9580 - val_precision: 0.9599 - val_recall: 0.9562\n",
      "Epoch 48/50\n",
      "85/85 [==============================] - 42s 492ms/step - loss: 0.0989 - accuracy: 0.9593 - precision: 0.9618 - recall: 0.9568 - val_loss: 0.1054 - val_accuracy: 0.9559 - val_precision: 0.9587 - val_recall: 0.9533\n",
      "Epoch 49/50\n",
      "85/85 [==============================] - 41s 485ms/step - loss: 0.0984 - accuracy: 0.9595 - precision: 0.9620 - recall: 0.9569 - val_loss: 0.0999 - val_accuracy: 0.9585 - val_precision: 0.9607 - val_recall: 0.9565\n",
      "Epoch 50/50\n",
      "85/85 [==============================] - 41s 487ms/step - loss: 0.0968 - accuracy: 0.9602 - precision: 0.9625 - recall: 0.9579 - val_loss: 0.0988 - val_accuracy: 0.9591 - val_precision: 0.9608 - val_recall: 0.9576\n"
     ]
    }
   ],
   "source": [
    "# early stopping\n",
    "early_stopping = tf.keras.callbacks.EarlyStopping(\n",
    "    monitor='val_loss',\n",
    "    patience=10,\n",
    "    restore_best_weights=True\n",
    ")\n",
    "\n",
    "history = model.fit(\n",
    "    X_train, y_train,\n",
    "    epochs=50,\n",
    "    batch_size=32,\n",
    "    validation_data=(X_valid, y_valid),\n",
    "    callbacks=[early_stopping]\n",
    ")"
   ]
  },
  {
   "cell_type": "code",
   "execution_count": 12,
   "id": "9467724b",
   "metadata": {
    "papermill": {
     "duration": 0.731013,
     "end_time": "2024-12-02T03:36:50.762831",
     "exception": false,
     "start_time": "2024-12-02T03:36:50.031818",
     "status": "completed"
    },
    "tags": []
   },
   "outputs": [
    {
     "data": {
      "image/png": "[encoded data removed]",
      "text/plain": [
       "<Figure size 432x288 with 1 Axes>"
      ]
     },
     "metadata": {
      "needs_background": "light"
     },
     "output_type": "display_data"
    }
   ],
   "source": [
    "# Loss\n",
    "import os\n",
    "os.makedirs(\"result image\",exist_ok=True)\n",
    "plt.plot(history.history['loss'], label='loss')\n",
    "plt.plot(history.history['val_loss'], label='val_loss')\n",
    "plt.xlabel('Epochs')\n",
    "plt.ylabel('Loss')\n",
    "plt.title('Loss Curve')\n",
    "plt.legend()\n",
    "plt.savefig(\"result image/Loss Curve.png\", dpi=600, bbox_inches='tight')\n",
    "plt.show()\n"
   ]
  },
  {
   "cell_type": "code",
   "execution_count": 13,
   "id": "edfc58f5",
   "metadata": {
    "papermill": {
     "duration": 0.680692,
     "end_time": "2024-12-02T03:36:51.938942",
     "exception": false,
     "start_time": "2024-12-02T03:36:51.258250",
     "status": "completed"
    },
    "tags": []
   },
   "outputs": [
    {
     "data": {
      "image/png": "[encoded data removed]",
      "text/plain": [
       "<Figure size 432x288 with 1 Axes>"
      ]
     },
     "metadata": {
      "needs_background": "light"
     },
     "output_type": "display_data"
    }
   ],
   "source": [
    "#Accuracy\n",
    "plt.plot(history.history['accuracy'], label='accuracy')\n",
    "plt.plot(history.history['val_accuracy'], label='val_accuracy')\n",
    "plt.title('Accuracy Curve')\n",
    "plt.xlabel('Epoch')\n",
    "plt.ylabel('Accuracy')\n",
    "plt.legend()\n",
    "plt.savefig(\"result image/Accuracy Curve.png\", dpi=600, bbox_inches='tight')\n",
    "plt.show()"
   ]
  },
  {
   "cell_type": "markdown",
   "id": "2b8aedea",
   "metadata": {
    "papermill": {
     "duration": 0.49937,
     "end_time": "2024-12-02T03:37:26.309909",
     "exception": false,
     "start_time": "2024-12-02T03:37:25.810539",
     "status": "completed"
    },
    "tags": []
   },
   "source": [
    "### USE TEST"
   ]
  },
  {
   "cell_type": "code",
   "execution_count": 14,
   "id": "0d875a64",
   "metadata": {
    "papermill": {
     "duration": 4.997451,
     "end_time": "2024-12-02T03:37:31.768425",
     "exception": false,
     "start_time": "2024-12-02T03:37:26.770974",
     "status": "completed"
    },
    "tags": []
   },
   "outputs": [
    {
     "name": "stdout",
     "output_type": "stream",
     "text": [
      "11/11 [==============================] - 2s 173ms/step - loss: 0.0946 - accuracy: 0.9606 - precision: 0.9622 - recall: 0.9592\n",
      "test - loss: 0.0946, accuracy: 0.9606, precision: 0.9622, recall: 0.9592\n"
     ]
    },
    {
     "name": "stderr",
     "output_type": "stream",
     "text": [
      "2025-04-16 23:59:26.571251: W tensorflow/core/grappler/costs/op_level_cost_estimator.cc:690] Error in PredictCost() for the op: op: \"Softmax\" attr { key: \"T\" value { type: DT_FLOAT } } inputs { dtype: DT_FLOAT shape { unknown_rank: true } } device { type: \"GPU\" vendor: \"NVIDIA\" model: \"NVIDIA GeForce RTX 3090\" frequency: 1695 num_cores: 82 environment { key: \"architecture\" value: \"8.6\" } environment { key: \"cuda\" value: \"11020\" } environment { key: \"cudnn\" value: \"8100\" } num_registers: 65536 l1_cache_size: 24576 l2_cache_size: 6291456 shared_memory_size_per_multiprocessor: 102400 memory_size: 23386062848 bandwidth: 936096000 } outputs { dtype: DT_FLOAT shape { unknown_rank: true } }\n"
     ]
    },
    {
     "name": "stdout",
     "output_type": "stream",
     "text": [
      "11/11 [==============================] - 2s 175ms/step\n"
     ]
    },
    {
     "data": {
      "image/png": "[encoded data removed]",
      "text/plain": [
       "<Figure size 432x360 with 2 Axes>"
      ]
     },
     "metadata": {
      "needs_background": "light"
     },
     "output_type": "display_data"
    },
    {
     "name": "stdout",
     "output_type": "stream",
     "text": [
      "precision_overall: 0.9603\n",
      "recall_overall: 0.9606\n",
      "sepcificity_overall: 0.9387\n",
      "F1_overall: 0.9603\n",
      "accuracy: 0.9606\n",
      "ROC-AUC Score: 0.9924\n"
     ]
    }
   ],
   "source": [
    "import numpy as np\n",
    "from sklearn.metrics import precision_score, recall_score, f1_score, confusion_matrix, roc_auc_score\n",
    "from sklearn.preprocessing import label_binarize\n",
    "import tensorflow as tf\n",
    "import seaborn as sns\n",
    "\n",
    "loss, accuracy, precision, recall = model.evaluate(X_test, y_test)\n",
    "print(f\"test - loss: {loss:.4f}, accuracy: {accuracy:.4f}, precision: {precision:.4f}, recall: {recall:.4f}\")\n",
    "\n",
    "\n",
    "y_pred_probs = model.predict(X_test)\n",
    "y_pred = np.argmax(y_pred_probs, axis=-1).flatten()\n",
    "y_true = np.argmax(y_test, axis=-1).flatten()\n",
    "\n",
    "# confusion matrix\n",
    "cm = confusion_matrix(y_true, y_pred, labels=[0, 1, 2])\n",
    "\n",
    "plt.figure(figsize=(6, 5)) \n",
    "sns.heatmap(cm, annot=True, fmt='d', cmap='Blues', xticklabels=[0,1,2], yticklabels=[0,1,2]) \n",
    "plt.xlabel('Predicted')\n",
    "plt.ylabel('True') \n",
    "plt.title('Confusion Matrix') \n",
    "plt.savefig(\"result image/confusion_matrix.png\", dpi=600, bbox_inches='tight')\n",
    "plt.show()\n",
    "\n",
    "precision_overall = precision_score(y_true, y_pred, average='weighted', zero_division=0)\n",
    "recall_overall = recall_score(y_true, y_pred, average='weighted', zero_division=0)\n",
    "f1_overall = f1_score(y_true, y_pred, average='weighted', zero_division=0)\n",
    "\n",
    "\n",
    "specificity = []\n",
    "for i in range(len(cm)):\n",
    "    TN = np.sum(cm) - (np.sum(cm[i, :]) + np.sum(cm[:, i]) - cm[i, i])\n",
    "    FP = np.sum(cm[:, i]) - cm[i, i]\n",
    "    spec = TN / (TN + FP) if (TN + FP) > 0 else 0\n",
    "    specificity.append(spec)\n",
    "specificity_overall = np.mean(specificity)\n",
    "\n",
    "\n",
    "\n",
    "print(f\"precision_overall: {precision_overall:.4f}\")\n",
    "print(f\"recall_overall: {recall_overall:.4f}\")\n",
    "print(f\"sepcificity_overall: {specificity_overall:.4f}\")\n",
    "print(f\"F1_overall: {f1_overall:.4f}\")\n",
    "print(f\"accuracy: {accuracy:.4f}\")\n",
    "\n",
    "\n",
    "# ROC-AUC\n",
    "y_true_binarized = label_binarize(y_true, classes=[0, 1, 2])  \n",
    "n_classes = y_true_binarized.shape[1]\n",
    "\n",
    "\n",
    "y_pred_probs_reshaped = y_pred_probs.reshape(-1, n_classes)\n",
    "\n",
    "# Calculate ROC-AUC for each class\n",
    "roc_auc = roc_auc_score(y_true_binarized, y_pred_probs_reshaped, multi_class='ovo')\n",
    "print(f\"ROC-AUC Score: {roc_auc:.4f}\")"
   ]
  },
  {
   "cell_type": "code",
   "execution_count": 15,
   "id": "d1b9a8c2",
   "metadata": {
    "papermill": {
     "duration": 3.583833,
     "end_time": "2024-12-02T03:37:35.829303",
     "exception": false,
     "start_time": "2024-12-02T03:37:32.245470",
     "status": "completed"
    },
    "tags": []
   },
   "outputs": [
    {
     "name": "stdout",
     "output_type": "stream",
     "text": [
      "11/11 [==============================] - 2s 169ms/step\n",
      "ROC-AUC Score: 0.9924\n"
     ]
    },
    {
     "data": {
      "image/png": "[encoded data removed]",
      "text/plain": [
       "<Figure size 576x432 with 1 Axes>"
      ]
     },
     "metadata": {
      "needs_background": "light"
     },
     "output_type": "display_data"
    },
    {
     "name": "stdout",
     "output_type": "stream",
     "text": [
      "Class H:\n",
      "  Precision: 0.8475\n",
      "  Recall (Sensitivity): 0.8708\n",
      "  Specificity: 0.9865\n",
      "  F1-Score: 0.8590\n",
      "\n",
      "Class E:\n",
      "  Precision: 0.8484\n",
      "  Recall (Sensitivity): 0.7582\n",
      "  Specificity: 0.9933\n",
      "  F1-Score: 0.8008\n",
      "\n",
      "Class C:\n",
      "  Precision: 0.9765\n",
      "  Recall (Sensitivity): 0.9796\n",
      "  Specificity: 0.8362\n",
      "  F1-Score: 0.9780\n",
      "\n",
      "Overall Accuracy: 0.9606\n"
     ]
    }
   ],
   "source": [
    "import numpy as np\n",
    "from sklearn.metrics import precision_recall_fscore_support, accuracy_score, roc_auc_score, roc_curve, auc, confusion_matrix\n",
    "import matplotlib.pyplot as plt\n",
    "from sklearn.preprocessing import label_binarize\n",
    "\n",
    "# Convert one-hot encoded labels and predictions to class labels\n",
    "y_pred_probs = model.predict(X_test) \n",
    "y_pred = np.argmax(y_pred_probs, axis=-1).reshape(-1)  \n",
    "y_true = np.argmax(y_test, axis=-1).reshape(-1)        \n",
    "\n",
    "# Verify that y_pred and y_true have the same number of samples\n",
    "assert y_pred.shape[0] == y_true.shape[0], \"y_pred and y_true must have the same number of samples.\"\n",
    "\n",
    "# Binarize the true labels for ROC-AUC calculation\n",
    "y_true_binarized = label_binarize(y_true, classes=[0, 1, 2])  \n",
    "n_classes = y_true_binarized.shape[1]\n",
    "\n",
    "# Reshape y_pred_probs to match y_true\n",
    "y_pred_probs_reshaped = y_pred_probs.reshape(-1, n_classes)\n",
    "\n",
    "# Calculate ROC-AUC for each class\n",
    "roc_auc = roc_auc_score(y_true_binarized, y_pred_probs_reshaped, multi_class='ovo')\n",
    "print(f\"ROC-AUC Score: {roc_auc:.4f}\")\n",
    "\n",
    "# Plot ROC Curves for each class\n",
    "fpr = dict()\n",
    "tpr = dict()\n",
    "roc_auc_dict = dict()\n",
    "\n",
    "for i in range(n_classes):\n",
    "    fpr[i], tpr[i], _ = roc_curve(y_true_binarized[:, i], y_pred_probs_reshaped[:, i])\n",
    "    roc_auc_dict[i] = auc(fpr[i], tpr[i])\n",
    "\n",
    "# Plotting ROC Curves\n",
    "plt.figure(figsize=(8, 6))\n",
    "colors = ['aqua', 'darkorange', 'cornflowerblue']\n",
    "class_names = ['H', 'E', 'C']  \n",
    "\n",
    "for i, color in zip(range(n_classes), colors):\n",
    "    plt.plot(fpr[i], tpr[i], color=color, lw=2,\n",
    "             label=f'ROC curve of class {class_names[i]} (area = {roc_auc_dict[i]:0.2f})')\n",
    "\n",
    "plt.plot([0, 1], [0, 1], 'k--', lw=2)\n",
    "plt.xlim([-0.01, 1.0])\n",
    "plt.ylim([0.0, 1.05])\n",
    "plt.xlabel('False Positive Rate')\n",
    "plt.ylabel('True Positive Rate')\n",
    "plt.title('Receiver Operating Characteristic (ROC) Curves')\n",
    "plt.legend(loc=\"lower right\")\n",
    "plt.savefig(\"result image/roc_curves.png\", dpi=600, bbox_inches='tight') \n",
    "plt.show()\n",
    "\n",
    "# Calculate per-class precision, recall (sensitivity), f1-score\n",
    "precision, recall, f1_score, _ = precision_recall_fscore_support(y_true, y_pred, labels=[0,1,2], zero_division=0)\n",
    "\n",
    "# Calculate specificity\n",
    "cm = confusion_matrix(y_true, y_pred, labels=[0,1,2])\n",
    "\n",
    "specificity = {}\n",
    "for i, cls in enumerate(class_names):\n",
    "    TN = np.sum(cm) - (np.sum(cm[i, :]) + np.sum(cm[:, i]) - cm[i, i])\n",
    "    FP = np.sum(cm[:, i]) - cm[i, i]\n",
    "    specificity[cls] = TN / (TN + FP) if (TN + FP) > 0 else 0.0\n",
    "\n",
    "# Calculate overall accuracy\n",
    "accuracy = accuracy_score(y_true, y_pred)\n",
    "\n",
    "# Print per-class metrics\n",
    "for i, cls in enumerate(class_names):\n",
    "    print(f\"Class {cls}:\")\n",
    "    print(f\"  Precision: {precision[i]:.4f}\")\n",
    "    print(f\"  Recall (Sensitivity): {recall[i]:.4f}\")\n",
    "    print(f\"  Specificity: {specificity[cls]:.4f}\")\n",
    "    print(f\"  F1-Score: {f1_score[i]:.4f}\")\n",
    "    print()\n",
    "\n",
    "print(f\"Overall Accuracy: {accuracy:.4f}\")"
   ]
  }
 ],
 "metadata": {
  "kaggle": {
   "accelerator": "gpu",
   "dataSources": [
    {
     "datasetId": 6196313,
     "sourceId": 10055858,
     "sourceType": "datasetVersion"
    },
    {
     "datasetId": 6198107,
     "sourceId": 10058311,
     "sourceType": "datasetVersion"
    }
   ],
   "dockerImageVersionId": 30787,
   "isGpuEnabled": true,
   "isInternetEnabled": true,
   "language": "python",
   "sourceType": "notebook"
  },
  "kernelspec": {
   "display_name": "Python 3",
   "language": "python",
   "name": "python3"
  },
  "language_info": {
   "codemirror_mode": {
    "name": "ipython",
    "version": 3
   },
   "file_extension": ".py",
   "mimetype": "text/x-python",
   "name": "python",
   "nbconvert_exporter": "python",
   "pygments_lexer": "ipython3",
   "version": "3.10.9"
  },
  "papermill": {
   "default_parameters": {},
   "duration": 2255.847773,
   "end_time": "2024-12-02T03:37:39.675601",
   "environment_variables": {},
   "exception": null,
   "input_path": "__notebook__.ipynb",
   "output_path": "__notebook__.ipynb",
   "parameters": {},
   "start_time": "2024-12-02T03:00:03.827828",
   "version": "2.6.0"
  }
 },
 "nbformat": 4,
 "nbformat_minor": 5
}
