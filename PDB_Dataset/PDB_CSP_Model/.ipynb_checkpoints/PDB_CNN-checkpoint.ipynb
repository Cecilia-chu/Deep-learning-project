{
 "cells": [
  {
   "cell_type": "code",
   "execution_count": 1,
   "id": "d4906f15",
   "metadata": {
    "papermill": {
     "duration": 12.625204,
     "end_time": "2024-12-02T07:05:36.814225",
     "exception": false,
     "start_time": "2024-12-02T07:05:24.189021",
     "status": "completed"
    },
    "tags": []
   },
   "outputs": [
    {
     "name": "stderr",
     "output_type": "stream",
     "text": [
      "2025-04-17 21:42:57.251197: I tensorflow/core/util/util.cc:169] oneDNN custom operations are on. You may see slightly different numerical results due to floating-point round-off errors from different computation orders. To turn them off, set the environment variable `TF_ENABLE_ONEDNN_OPTS=0`.\n"
     ]
    }
   ],
   "source": [
    "import numpy as np\n",
    "import pandas as pd\n",
    "import tensorflow as tf\n",
    "from tensorflow.keras.models import Model\n",
    "from tensorflow.keras.layers import (\n",
    "    Input, Conv1D, Flatten, Reshape, Dense, Dropout, Bidirectional, TimeDistributed, Attention\n",
    ")\n",
    "from tensorflow.keras.utils import to_categorical\n",
    "from sklearn.model_selection import train_test_split\n",
    "import matplotlib.pyplot as plt"
   ]
  },
  {
   "cell_type": "code",
   "execution_count": 2,
   "id": "144da708",
   "metadata": {},
   "outputs": [
    {
     "name": "stdout",
     "output_type": "stream",
     "text": [
      "has_nonstd_aa data typr： bool\n",
      "The new data: 3387\n"
     ]
    }
   ],
   "source": [
    "df = pd.read_csv('PDB.csv')\n",
    "\n",
    "filtered_data = df[(df['len'] > 1000)]\n",
    "\n",
    "print(\"has_nonstd_aa data typr：\", df['has_nonstd_aa'].dtype)\n",
    "\n",
    "filtered_data = filtered_data[~filtered_data['has_nonstd_aa']]\n",
    "print(f\"The new data: {len(filtered_data)}\")\n",
    "filtered_data.to_csv('filtered_data.csv', index=False)"
   ]
  },
  {
   "cell_type": "code",
   "execution_count": 3,
   "id": "abb5e3bf",
   "metadata": {},
   "outputs": [
    {
     "name": "stdout",
     "output_type": "stream",
     "text": [
      "Index(['seq', 'sst8', 'sst3'], dtype='object')\n"
     ]
    }
   ],
   "source": [
    "columns_to_drop = ['pdb_id', 'chain_code', 'has_nonstd_aa', 'len', ]  \n",
    "filtered_data = filtered_data.drop(columns=columns_to_drop)\n",
    "print(filtered_data.columns)\n",
    "\n",
    "filtered_data.to_csv('clean_data.csv', index=False)"
   ]
  },
  {
   "cell_type": "code",
   "execution_count": 4,
   "id": "20cf02ed",
   "metadata": {},
   "outputs": [
    {
     "data": {
      "text/html": [
       "<div>\n",
       "<style scoped>\n",
       "    .dataframe tbody tr th:only-of-type {\n",
       "        vertical-align: middle;\n",
       "    }\n",
       "\n",
       "    .dataframe tbody tr th {\n",
       "        vertical-align: top;\n",
       "    }\n",
       "\n",
       "    .dataframe thead th {\n",
       "        text-align: right;\n",
       "    }\n",
       "</style>\n",
       "<table border=\"1\" class=\"dataframe\">\n",
       "  <thead>\n",
       "    <tr style=\"text-align: right;\">\n",
       "      <th></th>\n",
       "      <th>seq</th>\n",
       "      <th>sst8</th>\n",
       "      <th>sst3</th>\n",
       "    </tr>\n",
       "  </thead>\n",
       "  <tbody>\n",
       "    <tr>\n",
       "      <th>2025</th>\n",
       "      <td>MDAKARNCLLQHREALEKDIKTSYIMDHMISDGFLTISEEEKVRNE...</td>\n",
       "      <td>CCCCCCCCCCCCCCCCCCCCCCCCCCCCCCCCCCCCCCCCCCCCCC...</td>\n",
       "      <td>CCCCCCCCCCCCCCCCCCCCCCCCCCCCCCCCCCCCCCCCCCCCCC...</td>\n",
       "    </tr>\n",
       "    <tr>\n",
       "      <th>3205</th>\n",
       "      <td>MKSPALQPLSMAGLQLMTPASSPMGPFFGLPWQQEAIHDNIYTPRK...</td>\n",
       "      <td>CCCCCCCCCCCCCCCCCCCCCCCCCCCCCCCCCCCCCCCCCCCCCH...</td>\n",
       "      <td>CCCCCCCCCCCCCCCCCCCCCCCCCCCCCCCCCCCCCCCCCCCCCH...</td>\n",
       "    </tr>\n",
       "    <tr>\n",
       "      <th>2912</th>\n",
       "      <td>MPLAFCGTENHSAAYRVDQGVLNNGCFVDALNVVPHVFLLFITFPI...</td>\n",
       "      <td>CCCCCCCCCCCCCCCCCCCCCCCCHHHHHHHHHHHHHHHHHHHHHH...</td>\n",
       "      <td>CCCCCCCCCCCCCCCCCCCCCCCCHHHHHHHHHHHHHHHHHHHHHH...</td>\n",
       "    </tr>\n",
       "    <tr>\n",
       "      <th>1373</th>\n",
       "      <td>MEIKRFGRIREVIPLPPLTEIQVESYRRALQADVPPEKRENVGIQA...</td>\n",
       "      <td>CCEEECCSCCCSSCCCCTTHHHHHHHHHHHCTTSCGGGCCSSSHHH...</td>\n",
       "      <td>CCEEECCCCCCCCCCCCCCHHHHHHHHHHHCCCCCHHHCCCCCHHH...</td>\n",
       "    </tr>\n",
       "    <tr>\n",
       "      <th>2633</th>\n",
       "      <td>MKDLLKFLKAQTKTEEFDAIKIALASPDMIRSWSFGEVKKPETINY...</td>\n",
       "      <td>CCCCCCCCCCCCCCCCCCCEEEEECCHHHHHHHEEEECCBSCCBCS...</td>\n",
       "      <td>CCCCCCCCCCCCCCCCCCCEEEEECCHHHHHHHEEEECCECCCECC...</td>\n",
       "    </tr>\n",
       "  </tbody>\n",
       "</table>\n",
       "</div>"
      ],
      "text/plain": [
       "                                                    seq  \\\n",
       "2025  MDAKARNCLLQHREALEKDIKTSYIMDHMISDGFLTISEEEKVRNE...   \n",
       "3205  MKSPALQPLSMAGLQLMTPASSPMGPFFGLPWQQEAIHDNIYTPRK...   \n",
       "2912  MPLAFCGTENHSAAYRVDQGVLNNGCFVDALNVVPHVFLLFITFPI...   \n",
       "1373  MEIKRFGRIREVIPLPPLTEIQVESYRRALQADVPPEKRENVGIQA...   \n",
       "2633  MKDLLKFLKAQTKTEEFDAIKIALASPDMIRSWSFGEVKKPETINY...   \n",
       "\n",
       "                                                   sst8  \\\n",
       "2025  CCCCCCCCCCCCCCCCCCCCCCCCCCCCCCCCCCCCCCCCCCCCCC...   \n",
       "3205  CCCCCCCCCCCCCCCCCCCCCCCCCCCCCCCCCCCCCCCCCCCCCH...   \n",
       "2912  CCCCCCCCCCCCCCCCCCCCCCCCHHHHHHHHHHHHHHHHHHHHHH...   \n",
       "1373  CCEEECCSCCCSSCCCCTTHHHHHHHHHHHCTTSCGGGCCSSSHHH...   \n",
       "2633  CCCCCCCCCCCCCCCCCCCEEEEECCHHHHHHHEEEECCBSCCBCS...   \n",
       "\n",
       "                                                   sst3  \n",
       "2025  CCCCCCCCCCCCCCCCCCCCCCCCCCCCCCCCCCCCCCCCCCCCCC...  \n",
       "3205  CCCCCCCCCCCCCCCCCCCCCCCCCCCCCCCCCCCCCCCCCCCCCH...  \n",
       "2912  CCCCCCCCCCCCCCCCCCCCCCCCHHHHHHHHHHHHHHHHHHHHHH...  \n",
       "1373  CCEEECCCCCCCCCCCCCCHHHHHHHHHHHCCCCCHHHCCCCCHHH...  \n",
       "2633  CCCCCCCCCCCCCCCCCCCEEEEECCHHHHHHHEEEECCECCCECC...  "
      ]
     },
     "metadata": {},
     "output_type": "display_data"
    },
    {
     "data": {
      "text/html": [
       "<div>\n",
       "<style scoped>\n",
       "    .dataframe tbody tr th:only-of-type {\n",
       "        vertical-align: middle;\n",
       "    }\n",
       "\n",
       "    .dataframe tbody tr th {\n",
       "        vertical-align: top;\n",
       "    }\n",
       "\n",
       "    .dataframe thead th {\n",
       "        text-align: right;\n",
       "    }\n",
       "</style>\n",
       "<table border=\"1\" class=\"dataframe\">\n",
       "  <thead>\n",
       "    <tr style=\"text-align: right;\">\n",
       "      <th></th>\n",
       "      <th>seq</th>\n",
       "      <th>sst8</th>\n",
       "      <th>sst3</th>\n",
       "    </tr>\n",
       "  </thead>\n",
       "  <tbody>\n",
       "    <tr>\n",
       "      <th>3381</th>\n",
       "      <td>MSEPGGGGGEDGSAGLEVSAVQNVADVSVLQKHLRKLVPLLLEDGG...</td>\n",
       "      <td>CCCCCCCCCCCCCCCCCCCCCCCCCCCCCCCCCCCCCCCCCCCCCC...</td>\n",
       "      <td>CCCCCCCCCCCCCCCCCCCCCCCCCCCCCCCCCCCCCCCCCCCCCC...</td>\n",
       "    </tr>\n",
       "    <tr>\n",
       "      <th>802</th>\n",
       "      <td>MGGSHHHHHHGMASMTGGQQMGRDLYDDDDKDPMIDPVVLQRRDWE...</td>\n",
       "      <td>CCCCCCCCCCCCCCCCCCCCCCCCCCCCCCCCCCCCCCHHHHCGGG...</td>\n",
       "      <td>CCCCCCCCCCCCCCCCCCCCCCCCCCCCCCCCCCCCCCHHHHCHHH...</td>\n",
       "    </tr>\n",
       "    <tr>\n",
       "      <th>3141</th>\n",
       "      <td>MVGQQYSSAPLRTVKEVQFGLFSPEEVRAISVAKIRFPETMDETQT...</td>\n",
       "      <td>CCCCCCCSSCBCCCCEEECCBCCHHHHHHHCSSBCCCCCCSCCSSC...</td>\n",
       "      <td>CCCCCCCCCCECCCCEEECCECCHHHHHHHCCCECCCCCCCCCCCC...</td>\n",
       "    </tr>\n",
       "    <tr>\n",
       "      <th>73</th>\n",
       "      <td>MKLSSACAIALLAAQAAGASIKHRINGFTLTEHSDPAKRELLQKYV...</td>\n",
       "      <td>CCCCCCCCCCCCCCCCCCCCCCCCCCCCCCCCCCCCCCCCCCCSSE...</td>\n",
       "      <td>CCCCCCCCCCCCCCCCCCCCCCCCCCCCCCCCCCCCCCCCCCCCCE...</td>\n",
       "    </tr>\n",
       "    <tr>\n",
       "      <th>3121</th>\n",
       "      <td>MVGQQYSSAPLRTVKEVQFGLFSPEEVRAISVAKIRFPETMDETQT...</td>\n",
       "      <td>CCCCCCCSSCBCCCCEEECCBCCHHHHHHHCSCBCCCCSCSCSSSS...</td>\n",
       "      <td>CCCCCCCCCCECCCCEEECCECCHHHHHHHCCCECCCCCCCCCCCC...</td>\n",
       "    </tr>\n",
       "  </tbody>\n",
       "</table>\n",
       "</div>"
      ],
      "text/plain": [
       "                                                    seq  \\\n",
       "3381  MSEPGGGGGEDGSAGLEVSAVQNVADVSVLQKHLRKLVPLLLEDGG...   \n",
       "802   MGGSHHHHHHGMASMTGGQQMGRDLYDDDDKDPMIDPVVLQRRDWE...   \n",
       "3141  MVGQQYSSAPLRTVKEVQFGLFSPEEVRAISVAKIRFPETMDETQT...   \n",
       "73    MKLSSACAIALLAAQAAGASIKHRINGFTLTEHSDPAKRELLQKYV...   \n",
       "3121  MVGQQYSSAPLRTVKEVQFGLFSPEEVRAISVAKIRFPETMDETQT...   \n",
       "\n",
       "                                                   sst8  \\\n",
       "3381  CCCCCCCCCCCCCCCCCCCCCCCCCCCCCCCCCCCCCCCCCCCCCC...   \n",
       "802   CCCCCCCCCCCCCCCCCCCCCCCCCCCCCCCCCCCCCCHHHHCGGG...   \n",
       "3141  CCCCCCCSSCBCCCCEEECCBCCHHHHHHHCSSBCCCCCCSCCSSC...   \n",
       "73    CCCCCCCCCCCCCCCCCCCCCCCCCCCCCCCCCCCCCCCCCCCSSE...   \n",
       "3121  CCCCCCCSSCBCCCCEEECCBCCHHHHHHHCSCBCCCCSCSCSSSS...   \n",
       "\n",
       "                                                   sst3  \n",
       "3381  CCCCCCCCCCCCCCCCCCCCCCCCCCCCCCCCCCCCCCCCCCCCCC...  \n",
       "802   CCCCCCCCCCCCCCCCCCCCCCCCCCCCCCCCCCCCCCHHHHCHHH...  \n",
       "3141  CCCCCCCCCCECCCCEEECCECCHHHHHHHCCCECCCCCCCCCCCC...  \n",
       "73    CCCCCCCCCCCCCCCCCCCCCCCCCCCCCCCCCCCCCCCCCCCCCE...  \n",
       "3121  CCCCCCCCCCECCCCEEECCECCHHHHHHHCCCECCCCCCCCCCCC...  "
      ]
     },
     "metadata": {},
     "output_type": "display_data"
    },
    {
     "data": {
      "text/html": [
       "<div>\n",
       "<style scoped>\n",
       "    .dataframe tbody tr th:only-of-type {\n",
       "        vertical-align: middle;\n",
       "    }\n",
       "\n",
       "    .dataframe tbody tr th {\n",
       "        vertical-align: top;\n",
       "    }\n",
       "\n",
       "    .dataframe thead th {\n",
       "        text-align: right;\n",
       "    }\n",
       "</style>\n",
       "<table border=\"1\" class=\"dataframe\">\n",
       "  <thead>\n",
       "    <tr style=\"text-align: right;\">\n",
       "      <th></th>\n",
       "      <th>seq</th>\n",
       "      <th>sst8</th>\n",
       "      <th>sst3</th>\n",
       "    </tr>\n",
       "  </thead>\n",
       "  <tbody>\n",
       "    <tr>\n",
       "      <th>581</th>\n",
       "      <td>MPNFFIDRPIFAWVIAIIIMLAGGLAILKLPVAQYPTIAPPAVTIS...</td>\n",
       "      <td>CCHHHHSCHHHHHHHHHHHHHHHHHHHHTCCBCSSCCCSCCEEEEE...</td>\n",
       "      <td>CCHHHHCCHHHHHHHHHHHHHHHHHHHHCCCECCCCCCCCCEEEEE...</td>\n",
       "    </tr>\n",
       "    <tr>\n",
       "      <th>2364</th>\n",
       "      <td>MTADELVFFVNGKKVVEKNADPETTLLVYLRRKLGLCGTKLGCGEG...</td>\n",
       "      <td>CCCCCEEEEETTEEEEETTCCTTCBHHHHHHHTSCCTTSCCSCSSS...</td>\n",
       "      <td>CCCCCEEEEECCEEEEECCCCCCCEHHHHHHHCCCCCCCCCCCCCC...</td>\n",
       "    </tr>\n",
       "    <tr>\n",
       "      <th>1108</th>\n",
       "      <td>GHMQEGEQLMSYINRDLENLQERIIARANEWLAAEQKSAKSKETEQ...</td>\n",
       "      <td>CCCCCCCCCCTTCCSHHHHHHHHHHHHHHHHHCCCCCCCCCCCCCC...</td>\n",
       "      <td>CCCCCCCCCCCCCCCHHHHHHHHHHHHHHHHHCCCCCCCCCCCCCC...</td>\n",
       "    </tr>\n",
       "    <tr>\n",
       "      <th>478</th>\n",
       "      <td>VSFRQKRTRIPLLAMTVTALAAAVCGVTTAPAATGAEVAVPLSVGA...</td>\n",
       "      <td>CCCCCCCCCCCCCCCCCCCCCCCCCCCCCCCCCCCCCCCCCCCCCC...</td>\n",
       "      <td>CCCCCCCCCCCCCCCCCCCCCCCCCCCCCCCCCCCCCCCCCCCCCC...</td>\n",
       "    </tr>\n",
       "    <tr>\n",
       "      <th>811</th>\n",
       "      <td>MGGSHHHHHHGMASMTGGQQMGRDLYDDDDKDPMIDPVVLQRRDWE...</td>\n",
       "      <td>CCCCCCCCCCCCCCCCCCCCCCCCCCCCCCCCCCCCCCCCCCCGGG...</td>\n",
       "      <td>CCCCCCCCCCCCCCCCCCCCCCCCCCCCCCCCCCCCCCCCCCCHHH...</td>\n",
       "    </tr>\n",
       "  </tbody>\n",
       "</table>\n",
       "</div>"
      ],
      "text/plain": [
       "                                                    seq  \\\n",
       "581   MPNFFIDRPIFAWVIAIIIMLAGGLAILKLPVAQYPTIAPPAVTIS...   \n",
       "2364  MTADELVFFVNGKKVVEKNADPETTLLVYLRRKLGLCGTKLGCGEG...   \n",
       "1108  GHMQEGEQLMSYINRDLENLQERIIARANEWLAAEQKSAKSKETEQ...   \n",
       "478   VSFRQKRTRIPLLAMTVTALAAAVCGVTTAPAATGAEVAVPLSVGA...   \n",
       "811   MGGSHHHHHHGMASMTGGQQMGRDLYDDDDKDPMIDPVVLQRRDWE...   \n",
       "\n",
       "                                                   sst8  \\\n",
       "581   CCHHHHSCHHHHHHHHHHHHHHHHHHHHTCCBCSSCCCSCCEEEEE...   \n",
       "2364  CCCCCEEEEETTEEEEETTCCTTCBHHHHHHHTSCCTTSCCSCSSS...   \n",
       "1108  CCCCCCCCCCTTCCSHHHHHHHHHHHHHHHHHCCCCCCCCCCCCCC...   \n",
       "478   CCCCCCCCCCCCCCCCCCCCCCCCCCCCCCCCCCCCCCCCCCCCCC...   \n",
       "811   CCCCCCCCCCCCCCCCCCCCCCCCCCCCCCCCCCCCCCCCCCCGGG...   \n",
       "\n",
       "                                                   sst3  \n",
       "581   CCHHHHCCHHHHHHHHHHHHHHHHHHHHCCCECCCCCCCCCEEEEE...  \n",
       "2364  CCCCCEEEEECCEEEEECCCCCCCEHHHHHHHCCCCCCCCCCCCCC...  \n",
       "1108  CCCCCCCCCCCCCCCHHHHHHHHHHHHHHHHHCCCCCCCCCCCCCC...  \n",
       "478   CCCCCCCCCCCCCCCCCCCCCCCCCCCCCCCCCCCCCCCCCCCCCC...  \n",
       "811   CCCCCCCCCCCCCCCCCCCCCCCCCCCCCCCCCCCCCCCCCCCHHH...  "
      ]
     },
     "metadata": {},
     "output_type": "display_data"
    },
    {
     "name": "stdout",
     "output_type": "stream",
     "text": [
      "train set: 2709\n",
      "valid set: 339\n",
      "test set: 339\n"
     ]
    }
   ],
   "source": [
    "combined = pd.read_csv('clean_data.csv')  \n",
    "\n",
    "train_df, temp_df = train_test_split(combined, test_size=0.2, random_state=42)\n",
    "valid_df, test_df = train_test_split(temp_df, test_size=0.5, random_state=42)\n",
    "\n",
    "display(train_df.head())\n",
    "display(valid_df.head())\n",
    "display(test_df.head())\n",
    "print(f\"train set: {len(train_df)}\")\n",
    "print(f\"valid set: {len(valid_df)}\")\n",
    "print(f\"test set: {len(test_df)}\")\n",
    "\n",
    "train_df.to_csv('train.csv', index=False)\n",
    "valid_df.to_csv('valid.csv', index=False)\n",
    "test_df.to_csv('test.csv', index=False)"
   ]
  },
  {
   "cell_type": "code",
   "execution_count": 5,
   "id": "e1c16b49",
   "metadata": {
    "papermill": {
     "duration": 0.26043,
     "end_time": "2024-12-02T07:05:37.354624",
     "exception": false,
     "start_time": "2024-12-02T07:05:37.094194",
     "status": "completed"
    },
    "tags": []
   },
   "outputs": [
    {
     "data": {
      "text/html": [
       "<div>\n",
       "<style scoped>\n",
       "    .dataframe tbody tr th:only-of-type {\n",
       "        vertical-align: middle;\n",
       "    }\n",
       "\n",
       "    .dataframe tbody tr th {\n",
       "        vertical-align: top;\n",
       "    }\n",
       "\n",
       "    .dataframe thead th {\n",
       "        text-align: right;\n",
       "    }\n",
       "</style>\n",
       "<table border=\"1\" class=\"dataframe\">\n",
       "  <thead>\n",
       "    <tr style=\"text-align: right;\">\n",
       "      <th></th>\n",
       "      <th>sst8</th>\n",
       "      <th>sst3_mapped</th>\n",
       "    </tr>\n",
       "  </thead>\n",
       "  <tbody>\n",
       "    <tr>\n",
       "      <th>2025</th>\n",
       "      <td>CCCCCCCCCCCCCCCCCCCCCCCCCCCCCCCCCCCCCCCCCCCCCC...</td>\n",
       "      <td>CCCCCCCCCCCCCCCCCCCCCCCCCCCCCCCCCCCCCCCCCCCCCC...</td>\n",
       "    </tr>\n",
       "    <tr>\n",
       "      <th>3205</th>\n",
       "      <td>CCCCCCCCCCCCCCCCCCCCCCCCCCCCCCCCCCCCCCCCCCCCCH...</td>\n",
       "      <td>CCCCCCCCCCCCCCCCCCCCCCCCCCCCCCCCCCCCCCCCCCCCCH...</td>\n",
       "    </tr>\n",
       "    <tr>\n",
       "      <th>2912</th>\n",
       "      <td>CCCCCCCCCCCCCCCCCCCCCCCCHHHHHHHHHHHHHHHHHHHHHH...</td>\n",
       "      <td>CCCCCCCCCCCCCCCCCCCCCCCCHHHHHHHHHHHHHHHHHHHHHH...</td>\n",
       "    </tr>\n",
       "    <tr>\n",
       "      <th>1373</th>\n",
       "      <td>CCEEECCSCCCSSCCCCTTHHHHHHHHHHHCTTSCGGGCCSSSHHH...</td>\n",
       "      <td>CCEEECCCCCCCCCCCCCCHHHHHHHHHHHCCCCCHHHCCCCCHHH...</td>\n",
       "    </tr>\n",
       "    <tr>\n",
       "      <th>2633</th>\n",
       "      <td>CCCCCCCCCCCCCCCCCCCEEEEECCHHHHHHHEEEECCBSCCBCS...</td>\n",
       "      <td>CCCCCCCCCCCCCCCCCCCEEEEECCHHHHHHHEEEECCECCCECC...</td>\n",
       "    </tr>\n",
       "  </tbody>\n",
       "</table>\n",
       "</div>"
      ],
      "text/plain": [
       "                                                   sst8  \\\n",
       "2025  CCCCCCCCCCCCCCCCCCCCCCCCCCCCCCCCCCCCCCCCCCCCCC...   \n",
       "3205  CCCCCCCCCCCCCCCCCCCCCCCCCCCCCCCCCCCCCCCCCCCCCH...   \n",
       "2912  CCCCCCCCCCCCCCCCCCCCCCCCHHHHHHHHHHHHHHHHHHHHHH...   \n",
       "1373  CCEEECCSCCCSSCCCCTTHHHHHHHHHHHCTTSCGGGCCSSSHHH...   \n",
       "2633  CCCCCCCCCCCCCCCCCCCEEEEECCHHHHHHHEEEECCBSCCBCS...   \n",
       "\n",
       "                                            sst3_mapped  \n",
       "2025  CCCCCCCCCCCCCCCCCCCCCCCCCCCCCCCCCCCCCCCCCCCCCC...  \n",
       "3205  CCCCCCCCCCCCCCCCCCCCCCCCCCCCCCCCCCCCCCCCCCCCCH...  \n",
       "2912  CCCCCCCCCCCCCCCCCCCCCCCCHHHHHHHHHHHHHHHHHHHHHH...  \n",
       "1373  CCEEECCCCCCCCCCCCCCHHHHHHHHHHHCCCCCHHHCCCCCHHH...  \n",
       "2633  CCCCCCCCCCCCCCCCCCCEEEEECCHHHHHHHEEEECCECCCECC...  "
      ]
     },
     "metadata": {},
     "output_type": "display_data"
    }
   ],
   "source": [
    "sst8_to_sst3 = {\n",
    "    'H': 'H', 'G': 'H', 'I': 'H',\n",
    "    'E': 'E', 'B': 'E',\n",
    "    'T': 'C', 'S': 'C', 'C': 'C'\n",
    "}\n",
    "\n",
    "\n",
    "def map_sst8_to_sst3(sst8):\n",
    "    return ''.join([sst8_to_sst3.get(char, 'C') for char in sst8])\n",
    "\n",
    "train_df['sst3_mapped'] = train_df['sst8'].apply(map_sst8_to_sst3)\n",
    "valid_df['sst3_mapped'] = valid_df['sst8'].apply(map_sst8_to_sst3)\n",
    "test_df['sst3_mapped'] = test_df['sst8'].apply(map_sst8_to_sst3)\n",
    "\n",
    "display(train_df[['sst8', 'sst3_mapped']].head())"
   ]
  },
  {
   "cell_type": "code",
   "execution_count": 6,
   "id": "c7a2bd99",
   "metadata": {
    "papermill": {
     "duration": 2.631889,
     "end_time": "2024-12-02T07:05:39.991092",
     "exception": false,
     "start_time": "2024-12-02T07:05:37.359203",
     "status": "completed"
    },
    "tags": []
   },
   "outputs": [
    {
     "data": {
      "text/plain": [
       "array([[0., 0., 0., ..., 0., 0., 0.],\n",
       "       [0., 0., 1., ..., 0., 0., 0.],\n",
       "       [1., 0., 0., ..., 0., 0., 0.],\n",
       "       ...,\n",
       "       [0., 0., 0., ..., 0., 0., 1.],\n",
       "       [0., 0., 0., ..., 0., 0., 1.],\n",
       "       [0., 0., 0., ..., 0., 0., 1.]], dtype=float32)"
      ]
     },
     "metadata": {},
     "output_type": "display_data"
    },
    {
     "data": {
      "text/plain": [
       "array([[0., 0., 0., ..., 0., 0., 0.],\n",
       "       [0., 0., 0., ..., 0., 0., 0.],\n",
       "       [0., 0., 0., ..., 0., 0., 0.],\n",
       "       ...,\n",
       "       [0., 0., 0., ..., 0., 0., 1.],\n",
       "       [0., 0., 0., ..., 0., 0., 1.],\n",
       "       [0., 0., 0., ..., 0., 0., 1.]], dtype=float32)"
      ]
     },
     "metadata": {},
     "output_type": "display_data"
    },
    {
     "name": "stdout",
     "output_type": "stream",
     "text": [
      "train one-hot shape: (2709, 5037, 21)\n",
      "valid one-hot shape: (339, 5037, 21)\n",
      "test one-hot shape: (339, 5037, 21)\n"
     ]
    }
   ],
   "source": [
    "def one_hot_encode_sequences(sequences, max_len=None):\n",
    "    amino_acids = 'ACDEFGHIKLMNPQRSTVWY'\n",
    "    aa_to_int = {aa: idx for idx, aa in enumerate(amino_acids)}\n",
    "    aa_to_int['X'] = len(amino_acids)  \n",
    "    \n",
    "    integer_encoded = []\n",
    "    for seq in sequences:\n",
    "        encoded = [aa_to_int.get(aa, len(amino_acids)) for aa in seq]\n",
    "        integer_encoded.append(encoded)\n",
    "    \n",
    "    if not max_len:\n",
    "        max_len = max(len(seq) for seq in integer_encoded)\n",
    "    \n",
    "    padded_encoded = tf.keras.preprocessing.sequence.pad_sequences(\n",
    "        integer_encoded, maxlen=max_len, padding='post', truncating='post', value=len(amino_acids)\n",
    "    )\n",
    "    \n",
    "    one_hot_encoded = to_categorical(padded_encoded, num_classes=len(amino_acids)+1)\n",
    "    \n",
    "    return one_hot_encoded, max_len\n",
    "\n",
    "\n",
    "X_train, max_len = one_hot_encode_sequences(train_df['seq'])\n",
    "\n",
    "X_valid, _ = one_hot_encode_sequences(valid_df['seq'], max_len)\n",
    "\n",
    "X_test, _ = one_hot_encode_sequences(test_df['seq'], max_len)\n",
    "\n",
    "display(X_train[0])\n",
    "display(X_valid[0])\n",
    "print(f\"train one-hot shape: {X_train.shape}\")\n",
    "print(f\"valid one-hot shape: {X_valid.shape}\")\n",
    "print(f\"test one-hot shape: {X_test.shape}\")"
   ]
  },
  {
   "cell_type": "code",
   "execution_count": 7,
   "id": "0ebe833c",
   "metadata": {
    "papermill": {
     "duration": 0.835394,
     "end_time": "2024-12-02T07:05:40.830974",
     "exception": false,
     "start_time": "2024-12-02T07:05:39.995580",
     "status": "completed"
    },
    "tags": []
   },
   "outputs": [
    {
     "data": {
      "text/plain": [
       "array([[0., 0., 1.],\n",
       "       [0., 0., 1.],\n",
       "       [0., 0., 1.],\n",
       "       ...,\n",
       "       [0., 0., 1.],\n",
       "       [0., 0., 1.],\n",
       "       [0., 0., 1.]], dtype=float32)"
      ]
     },
     "metadata": {},
     "output_type": "display_data"
    },
    {
     "data": {
      "text/plain": [
       "array([[0., 0., 1.],\n",
       "       [0., 0., 1.],\n",
       "       [0., 0., 1.],\n",
       "       ...,\n",
       "       [0., 0., 1.],\n",
       "       [0., 0., 1.],\n",
       "       [0., 0., 1.]], dtype=float32)"
      ]
     },
     "metadata": {},
     "output_type": "display_data"
    },
    {
     "name": "stdout",
     "output_type": "stream",
     "text": [
      "train label one-hot shape: (2709, 5037, 3)\n",
      "valid label one-hot shape: (339, 5037, 3)\n",
      "test label one-hot shape: (339, 5037, 3)\n"
     ]
    }
   ],
   "source": [
    "def one_hot_encode_labels(labels, max_len):\n",
    "    sec_structs = ['H', 'E', 'C']\n",
    "    struct_to_int = {s: idx for idx, s in enumerate(sec_structs)}\n",
    "    \n",
    "    integer_encoded = []\n",
    "    for lbl in labels:\n",
    "        encoded = [struct_to_int.get(s, 2) for s in lbl] \n",
    "        integer_encoded.append(encoded)\n",
    "    \n",
    "    padded_encoded = tf.keras.preprocessing.sequence.pad_sequences(\n",
    "        integer_encoded, maxlen=max_len, padding='post', truncating='post', value=2\n",
    "    )\n",
    "    \n",
    "    y = to_categorical(padded_encoded, num_classes=len(sec_structs))\n",
    "    \n",
    "    return y\n",
    "\n",
    "\n",
    "y_train = one_hot_encode_labels(train_df['sst3_mapped'], max_len)\n",
    "\n",
    "y_valid = one_hot_encode_labels(valid_df['sst3_mapped'], max_len)\n",
    "\n",
    "y_test = one_hot_encode_labels(test_df['sst3_mapped'], max_len)\n",
    "\n",
    "display(y_train[0])\n",
    "display(y_valid[0])\n",
    "\n",
    "print(f\"train label one-hot shape: {y_train.shape}\")\n",
    "print(f\"valid label one-hot shape: {y_valid.shape}\")\n",
    "print(f\"test label one-hot shape: {y_test.shape}\")"
   ]
  },
  {
   "cell_type": "code",
   "execution_count": 8,
   "id": "bcd5b9d8",
   "metadata": {},
   "outputs": [
    {
     "data": {
      "text/plain": [
       "(2709, 5037, 3)"
      ]
     },
     "execution_count": 8,
     "metadata": {},
     "output_type": "execute_result"
    }
   ],
   "source": [
    "y_train.shape"
   ]
  },
  {
   "cell_type": "code",
   "execution_count": 9,
   "id": "95190e57",
   "metadata": {
    "papermill": {
     "duration": 0.254308,
     "end_time": "2024-12-02T07:05:41.090120",
     "exception": false,
     "start_time": "2024-12-02T07:05:40.835812",
     "status": "completed"
    },
    "tags": []
   },
   "outputs": [
    {
     "name": "stdout",
     "output_type": "stream",
     "text": [
      "GPUs [PhysicalDevice(name='/physical_device:GPU:0', device_type='GPU')] are available and configured.\n"
     ]
    }
   ],
   "source": [
    "import tensorflow as tf\n",
    "\n",
    "# Verify GPU availability\n",
    "gpus = tf.config.list_physical_devices('GPU')\n",
    "if gpus:\n",
    "    try:\n",
    "        # Enable memory growth for each GPU\n",
    "        for gpu in gpus:\n",
    "            tf.config.experimental.set_memory_growth(gpu, True)\n",
    "        print(f\"GPUs {gpus} are available and configured.\")\n",
    "    except RuntimeError as e:\n",
    "        print(e)\n",
    "else:\n",
    "    print(\"No GPU available. Using CPU.\")"
   ]
  },
  {
   "cell_type": "code",
   "execution_count": 10,
   "id": "596cf724",
   "metadata": {
    "papermill": {
     "duration": 0.750126,
     "end_time": "2024-12-02T07:05:41.860294",
     "exception": false,
     "start_time": "2024-12-02T07:05:41.110168",
     "status": "completed"
    },
    "tags": []
   },
   "outputs": [
    {
     "name": "stdout",
     "output_type": "stream",
     "text": [
      "Model: \"model\"\n",
      "_________________________________________________________________\n",
      " Layer (type)                Output Shape              Param #   \n",
      "=================================================================\n",
      " input_1 (InputLayer)        [(None, 5037, 21)]        0         \n",
      "                                                                 \n",
      " conv1d (Conv1D)             (None, 5037, 64)          4096      \n",
      "                                                                 \n",
      " conv1d_1 (Conv1D)           (None, 5037, 128)         24704     \n",
      "                                                                 \n",
      " conv1d_2 (Conv1D)           (None, 5037, 256)         98560     \n",
      "                                                                 \n",
      " time_distributed (TimeDistr  (None, 5037, 64)         16448     \n",
      " ibuted)                                                         \n",
      "                                                                 \n",
      " dropout (Dropout)           (None, 5037, 64)          0         \n",
      "                                                                 \n",
      " time_distributed_1 (TimeDis  (None, 5037, 3)          195       \n",
      " tributed)                                                       \n",
      "                                                                 \n",
      "=================================================================\n",
      "Total params: 144,003\n",
      "Trainable params: 144,003\n",
      "Non-trainable params: 0\n",
      "_________________________________________________________________\n"
     ]
    },
    {
     "name": "stderr",
     "output_type": "stream",
     "text": [
      "2025-04-17 21:43:04.976034: I tensorflow/core/platform/cpu_feature_guard.cc:193] This TensorFlow binary is optimized with oneAPI Deep Neural Network Library (oneDNN) to use the following CPU instructions in performance-critical operations:  AVX2 AVX512F AVX512_VNNI FMA\n",
      "To enable them in other operations, rebuild TensorFlow with the appropriate compiler flags.\n",
      "2025-04-17 21:43:06.395230: I tensorflow/core/common_runtime/gpu/gpu_device.cc:1532] Created device /job:localhost/replica:0/task:0/device:GPU:0 with 4733 MB memory:  -> device: 0, name: NVIDIA GeForce RTX 3090, pci bus id: 0000:a0:00.0, compute capability: 8.6\n"
     ]
    }
   ],
   "source": [
    "input_layer = Input(shape=(max_len, X_train.shape[2]))\n",
    "\n",
    "\n",
    "conv1 = Conv1D(filters=64, kernel_size=3, activation='relu', padding='same')(input_layer)\n",
    "conv2 = Conv1D(filters=128, kernel_size=3, activation='relu', padding='same')(conv1)\n",
    "conv3 = Conv1D(filters=256, kernel_size=3, activation='relu', padding='same')(conv2)\n",
    "\n",
    "\n",
    "dense = TimeDistributed(Dense(64, activation='relu'))(conv3)\n",
    "dropout = Dropout(0.5)(dense)\n",
    "\n",
    "\n",
    "output_layer = TimeDistributed(Dense(3, activation='softmax'))(dropout)\n",
    "\n",
    "\n",
    "model = Model(inputs=input_layer, outputs=output_layer)\n",
    "\n",
    "model.compile(optimizer='adam',\n",
    "                       loss='categorical_crossentropy',\n",
    "                       metrics=['accuracy', tf.keras.metrics.Precision(), tf.keras.metrics.Recall()])\n",
    "\n",
    "model.summary()\n",
    "\n"
   ]
  },
  {
   "cell_type": "code",
   "execution_count": 11,
   "id": "afe64908",
   "metadata": {
    "papermill": {
     "duration": 2290.319704,
     "end_time": "2024-12-02T07:43:52.202522",
     "exception": false,
     "start_time": "2024-12-02T07:05:41.882818",
     "status": "completed"
    },
    "tags": []
   },
   "outputs": [
    {
     "name": "stdout",
     "output_type": "stream",
     "text": [
      "Epoch 1/50\n"
     ]
    },
    {
     "name": "stderr",
     "output_type": "stream",
     "text": [
      "2025-04-17 21:43:09.929134: I tensorflow/stream_executor/cuda/cuda_dnn.cc:384] Loaded cuDNN version 8101\n",
      "2025-04-17 21:43:14.961846: I tensorflow/stream_executor/cuda/cuda_blas.cc:1786] TensorFloat-32 will be used for the matrix multiplication. This will only be logged once.\n"
     ]
    },
    {
     "name": "stdout",
     "output_type": "stream",
     "text": [
      "85/85 [==============================] - 13s 51ms/step - loss: 0.3059 - accuracy: 0.8724 - precision: 0.9442 - recall: 0.7830 - val_loss: 0.2287 - val_accuracy: 0.8955 - val_precision: 0.9445 - val_recall: 0.8506\n",
      "Epoch 2/50\n",
      "85/85 [==============================] - 3s 41ms/step - loss: 0.2274 - accuracy: 0.8964 - precision: 0.9416 - recall: 0.8538 - val_loss: 0.2228 - val_accuracy: 0.8985 - val_precision: 0.9512 - val_recall: 0.8472\n",
      "Epoch 3/50\n",
      "85/85 [==============================] - 3s 40ms/step - loss: 0.2195 - accuracy: 0.9015 - precision: 0.9402 - recall: 0.8635 - val_loss: 0.2106 - val_accuracy: 0.9057 - val_precision: 0.9383 - val_recall: 0.8754\n",
      "Epoch 4/50\n",
      "85/85 [==============================] - 3s 41ms/step - loss: 0.2120 - accuracy: 0.9061 - precision: 0.9369 - recall: 0.8752 - val_loss: 0.2076 - val_accuracy: 0.9081 - val_precision: 0.9335 - val_recall: 0.8834\n",
      "Epoch 5/50\n",
      "85/85 [==============================] - 3s 40ms/step - loss: 0.2066 - accuracy: 0.9095 - precision: 0.9364 - recall: 0.8823 - val_loss: 0.2023 - val_accuracy: 0.9109 - val_precision: 0.9288 - val_recall: 0.8948\n",
      "Epoch 6/50\n",
      "85/85 [==============================] - 3s 41ms/step - loss: 0.2010 - accuracy: 0.9131 - precision: 0.9360 - recall: 0.8899 - val_loss: 0.1925 - val_accuracy: 0.9172 - val_precision: 0.9369 - val_recall: 0.8982\n",
      "Epoch 7/50\n",
      "85/85 [==============================] - 4s 43ms/step - loss: 0.1942 - accuracy: 0.9174 - precision: 0.9374 - recall: 0.8971 - val_loss: 0.1866 - val_accuracy: 0.9208 - val_precision: 0.9364 - val_recall: 0.9061\n",
      "Epoch 8/50\n",
      "85/85 [==============================] - 4s 44ms/step - loss: 0.1910 - accuracy: 0.9196 - precision: 0.9384 - recall: 0.9007 - val_loss: 0.1819 - val_accuracy: 0.9239 - val_precision: 0.9398 - val_recall: 0.9086\n",
      "Epoch 9/50\n",
      "85/85 [==============================] - 3s 41ms/step - loss: 0.1856 - accuracy: 0.9230 - precision: 0.9399 - recall: 0.9059 - val_loss: 0.1782 - val_accuracy: 0.9259 - val_precision: 0.9392 - val_recall: 0.9135\n",
      "Epoch 10/50\n",
      "85/85 [==============================] - 3s 41ms/step - loss: 0.1820 - accuracy: 0.9252 - precision: 0.9409 - recall: 0.9095 - val_loss: 0.1762 - val_accuracy: 0.9274 - val_precision: 0.9432 - val_recall: 0.9121\n",
      "Epoch 11/50\n",
      "85/85 [==============================] - 4s 43ms/step - loss: 0.1796 - accuracy: 0.9264 - precision: 0.9418 - recall: 0.9111 - val_loss: 0.1765 - val_accuracy: 0.9266 - val_precision: 0.9410 - val_recall: 0.9134\n",
      "Epoch 12/50\n",
      "85/85 [==============================] - 4s 42ms/step - loss: 0.1761 - accuracy: 0.9283 - precision: 0.9429 - recall: 0.9139 - val_loss: 0.1691 - val_accuracy: 0.9308 - val_precision: 0.9435 - val_recall: 0.9189\n",
      "Epoch 13/50\n",
      "85/85 [==============================] - 3s 40ms/step - loss: 0.1726 - accuracy: 0.9305 - precision: 0.9443 - recall: 0.9169 - val_loss: 0.1679 - val_accuracy: 0.9312 - val_precision: 0.9421 - val_recall: 0.9217\n",
      "Epoch 14/50\n",
      "85/85 [==============================] - 3s 40ms/step - loss: 0.1706 - accuracy: 0.9314 - precision: 0.9448 - recall: 0.9183 - val_loss: 0.1671 - val_accuracy: 0.9323 - val_precision: 0.9473 - val_recall: 0.9177\n",
      "Epoch 15/50\n",
      "85/85 [==============================] - 3s 40ms/step - loss: 0.1668 - accuracy: 0.9336 - precision: 0.9462 - recall: 0.9211 - val_loss: 0.1611 - val_accuracy: 0.9349 - val_precision: 0.9471 - val_recall: 0.9238\n",
      "Epoch 16/50\n",
      "85/85 [==============================] - 3s 39ms/step - loss: 0.1644 - accuracy: 0.9348 - precision: 0.9471 - recall: 0.9228 - val_loss: 0.1603 - val_accuracy: 0.9355 - val_precision: 0.9473 - val_recall: 0.9244\n",
      "Epoch 17/50\n",
      "85/85 [==============================] - 3s 40ms/step - loss: 0.1617 - accuracy: 0.9362 - precision: 0.9482 - recall: 0.9246 - val_loss: 0.1580 - val_accuracy: 0.9367 - val_precision: 0.9477 - val_recall: 0.9264\n",
      "Epoch 18/50\n",
      "85/85 [==============================] - 3s 40ms/step - loss: 0.1609 - accuracy: 0.9366 - precision: 0.9483 - recall: 0.9252 - val_loss: 0.1584 - val_accuracy: 0.9362 - val_precision: 0.9467 - val_recall: 0.9264\n",
      "Epoch 19/50\n",
      "85/85 [==============================] - 3s 41ms/step - loss: 0.1584 - accuracy: 0.9378 - precision: 0.9492 - recall: 0.9267 - val_loss: 0.1535 - val_accuracy: 0.9388 - val_precision: 0.9492 - val_recall: 0.9292\n",
      "Epoch 20/50\n",
      "85/85 [==============================] - 4s 42ms/step - loss: 0.1572 - accuracy: 0.9385 - precision: 0.9498 - recall: 0.9275 - val_loss: 0.1556 - val_accuracy: 0.9374 - val_precision: 0.9479 - val_recall: 0.9277\n",
      "Epoch 21/50\n",
      "85/85 [==============================] - 3s 41ms/step - loss: 0.1542 - accuracy: 0.9399 - precision: 0.9507 - recall: 0.9295 - val_loss: 0.1513 - val_accuracy: 0.9398 - val_precision: 0.9494 - val_recall: 0.9311\n",
      "Epoch 22/50\n",
      "85/85 [==============================] - 3s 41ms/step - loss: 0.1519 - accuracy: 0.9412 - precision: 0.9515 - recall: 0.9312 - val_loss: 0.1546 - val_accuracy: 0.9382 - val_precision: 0.9478 - val_recall: 0.9299\n",
      "Epoch 23/50\n",
      "85/85 [==============================] - 3s 41ms/step - loss: 0.1525 - accuracy: 0.9407 - precision: 0.9513 - recall: 0.9304 - val_loss: 0.1488 - val_accuracy: 0.9412 - val_precision: 0.9509 - val_recall: 0.9324\n",
      "Epoch 24/50\n",
      "85/85 [==============================] - 3s 40ms/step - loss: 0.1496 - accuracy: 0.9421 - precision: 0.9523 - recall: 0.9324 - val_loss: 0.1462 - val_accuracy: 0.9424 - val_precision: 0.9518 - val_recall: 0.9341\n",
      "Epoch 25/50\n",
      "85/85 [==============================] - 4s 42ms/step - loss: 0.1480 - accuracy: 0.9429 - precision: 0.9529 - recall: 0.9333 - val_loss: 0.1453 - val_accuracy: 0.9428 - val_precision: 0.9517 - val_recall: 0.9349\n",
      "Epoch 26/50\n",
      "85/85 [==============================] - 3s 41ms/step - loss: 0.1468 - accuracy: 0.9434 - precision: 0.9532 - recall: 0.9341 - val_loss: 0.1444 - val_accuracy: 0.9431 - val_precision: 0.9524 - val_recall: 0.9348\n",
      "Epoch 27/50\n",
      "85/85 [==============================] - 3s 41ms/step - loss: 0.1473 - accuracy: 0.9432 - precision: 0.9532 - recall: 0.9335 - val_loss: 0.1438 - val_accuracy: 0.9435 - val_precision: 0.9516 - val_recall: 0.9362\n",
      "Epoch 28/50\n",
      "85/85 [==============================] - 3s 41ms/step - loss: 0.1438 - accuracy: 0.9449 - precision: 0.9544 - recall: 0.9358 - val_loss: 0.1423 - val_accuracy: 0.9443 - val_precision: 0.9523 - val_recall: 0.9369\n",
      "Epoch 29/50\n",
      "85/85 [==============================] - 3s 40ms/step - loss: 0.1432 - accuracy: 0.9451 - precision: 0.9545 - recall: 0.9362 - val_loss: 0.1438 - val_accuracy: 0.9436 - val_precision: 0.9538 - val_recall: 0.9343\n",
      "Epoch 30/50\n",
      "85/85 [==============================] - 3s 41ms/step - loss: 0.1423 - accuracy: 0.9454 - precision: 0.9548 - recall: 0.9365 - val_loss: 0.1432 - val_accuracy: 0.9435 - val_precision: 0.9522 - val_recall: 0.9359\n",
      "Epoch 31/50\n",
      "85/85 [==============================] - 3s 39ms/step - loss: 0.1428 - accuracy: 0.9452 - precision: 0.9546 - recall: 0.9361 - val_loss: 0.1402 - val_accuracy: 0.9451 - val_precision: 0.9532 - val_recall: 0.9378\n",
      "Epoch 32/50\n",
      "85/85 [==============================] - 4s 43ms/step - loss: 0.1411 - accuracy: 0.9460 - precision: 0.9553 - recall: 0.9371 - val_loss: 0.1399 - val_accuracy: 0.9453 - val_precision: 0.9543 - val_recall: 0.9370\n",
      "Epoch 33/50\n",
      "85/85 [==============================] - 3s 40ms/step - loss: 0.1401 - accuracy: 0.9464 - precision: 0.9556 - recall: 0.9376 - val_loss: 0.1411 - val_accuracy: 0.9451 - val_precision: 0.9543 - val_recall: 0.9368\n",
      "Epoch 34/50\n",
      "85/85 [==============================] - 3s 40ms/step - loss: 0.1392 - accuracy: 0.9468 - precision: 0.9558 - recall: 0.9381 - val_loss: 0.1402 - val_accuracy: 0.9451 - val_precision: 0.9540 - val_recall: 0.9371\n",
      "Epoch 35/50\n",
      "85/85 [==============================] - 3s 40ms/step - loss: 0.1377 - accuracy: 0.9475 - precision: 0.9566 - recall: 0.9389 - val_loss: 0.1377 - val_accuracy: 0.9463 - val_precision: 0.9539 - val_recall: 0.9396\n",
      "Epoch 36/50\n",
      "85/85 [==============================] - 4s 42ms/step - loss: 0.1369 - accuracy: 0.9479 - precision: 0.9567 - recall: 0.9396 - val_loss: 0.1356 - val_accuracy: 0.9474 - val_precision: 0.9563 - val_recall: 0.9390\n",
      "Epoch 37/50\n",
      "85/85 [==============================] - 3s 40ms/step - loss: 0.1363 - accuracy: 0.9481 - precision: 0.9570 - recall: 0.9397 - val_loss: 0.1382 - val_accuracy: 0.9463 - val_precision: 0.9550 - val_recall: 0.9384\n",
      "Epoch 38/50\n",
      "85/85 [==============================] - 3s 41ms/step - loss: 0.1348 - accuracy: 0.9488 - precision: 0.9575 - recall: 0.9406 - val_loss: 0.1429 - val_accuracy: 0.9433 - val_precision: 0.9506 - val_recall: 0.9369\n",
      "Epoch 39/50\n",
      "85/85 [==============================] - 3s 39ms/step - loss: 0.1337 - accuracy: 0.9493 - precision: 0.9579 - recall: 0.9412 - val_loss: 0.1353 - val_accuracy: 0.9473 - val_precision: 0.9547 - val_recall: 0.9407\n",
      "Epoch 40/50\n",
      "85/85 [==============================] - 3s 41ms/step - loss: 0.1325 - accuracy: 0.9498 - precision: 0.9582 - recall: 0.9418 - val_loss: 0.1340 - val_accuracy: 0.9478 - val_precision: 0.9563 - val_recall: 0.9399\n",
      "Epoch 41/50\n",
      "85/85 [==============================] - 3s 40ms/step - loss: 0.1318 - accuracy: 0.9501 - precision: 0.9585 - recall: 0.9421 - val_loss: 0.1324 - val_accuracy: 0.9488 - val_precision: 0.9571 - val_recall: 0.9410\n",
      "Epoch 42/50\n",
      "85/85 [==============================] - 3s 41ms/step - loss: 0.1316 - accuracy: 0.9501 - precision: 0.9587 - recall: 0.9421 - val_loss: 0.1334 - val_accuracy: 0.9486 - val_precision: 0.9563 - val_recall: 0.9415\n",
      "Epoch 43/50\n",
      "85/85 [==============================] - 4s 41ms/step - loss: 0.1308 - accuracy: 0.9505 - precision: 0.9588 - recall: 0.9427 - val_loss: 0.1314 - val_accuracy: 0.9494 - val_precision: 0.9570 - val_recall: 0.9426\n",
      "Epoch 44/50\n",
      "85/85 [==============================] - 3s 40ms/step - loss: 0.1307 - accuracy: 0.9504 - precision: 0.9589 - recall: 0.9425 - val_loss: 0.1341 - val_accuracy: 0.9479 - val_precision: 0.9564 - val_recall: 0.9400\n",
      "Epoch 45/50\n",
      "85/85 [==============================] - 3s 40ms/step - loss: 0.1301 - accuracy: 0.9507 - precision: 0.9593 - recall: 0.9426 - val_loss: 0.1327 - val_accuracy: 0.9489 - val_precision: 0.9580 - val_recall: 0.9406\n",
      "Epoch 46/50\n",
      "85/85 [==============================] - 4s 42ms/step - loss: 0.1288 - accuracy: 0.9513 - precision: 0.9596 - recall: 0.9435 - val_loss: 0.1292 - val_accuracy: 0.9500 - val_precision: 0.9580 - val_recall: 0.9428\n",
      "Epoch 47/50\n",
      "85/85 [==============================] - 3s 40ms/step - loss: 0.1285 - accuracy: 0.9514 - precision: 0.9596 - recall: 0.9436 - val_loss: 0.1287 - val_accuracy: 0.9502 - val_precision: 0.9579 - val_recall: 0.9432\n",
      "Epoch 48/50\n",
      "85/85 [==============================] - 3s 40ms/step - loss: 0.1280 - accuracy: 0.9516 - precision: 0.9599 - recall: 0.9437 - val_loss: 0.1365 - val_accuracy: 0.9461 - val_precision: 0.9534 - val_recall: 0.9396\n",
      "Epoch 49/50\n",
      "85/85 [==============================] - 3s 40ms/step - loss: 0.1290 - accuracy: 0.9509 - precision: 0.9595 - recall: 0.9429 - val_loss: 0.1281 - val_accuracy: 0.9505 - val_precision: 0.9586 - val_recall: 0.9434\n",
      "Epoch 50/50\n",
      "85/85 [==============================] - 3s 40ms/step - loss: 0.1263 - accuracy: 0.9523 - precision: 0.9605 - recall: 0.9446 - val_loss: 0.1302 - val_accuracy: 0.9493 - val_precision: 0.9574 - val_recall: 0.9420\n"
     ]
    }
   ],
   "source": [
    "early_stopping = tf.keras.callbacks.EarlyStopping(\n",
    "    monitor='val_loss',\n",
    "    patience=10,\n",
    "    restore_best_weights=True\n",
    ")\n",
    "\n",
    "\n",
    "history = model.fit(\n",
    "    X_train, y_train,\n",
    "    epochs=50,\n",
    "    batch_size=32,\n",
    "    validation_data=(X_valid, y_valid),\n",
    "    callbacks=[early_stopping]\n",
    ")"
   ]
  },
  {
   "cell_type": "code",
   "execution_count": 13,
   "id": "f5238c9c",
   "metadata": {
    "papermill": {
     "duration": 0.796283,
     "end_time": "2024-12-02T07:43:53.499812",
     "exception": false,
     "start_time": "2024-12-02T07:43:52.703529",
     "status": "completed"
    },
    "tags": []
   },
   "outputs": [
    {
     "data": {
      "image/png": "[encoded data removed]",
      "text/plain": [
       "<Figure size 432x288 with 1 Axes>"
      ]
     },
     "metadata": {
      "needs_background": "light"
     },
     "output_type": "display_data"
    }
   ],
   "source": [
    "# Loss\n",
    "import os\n",
    "os.makedirs(\"PDB_CNN_resultImage\",exist_ok=True)\n",
    "plt.plot(history.history['loss'], label='loss')\n",
    "plt.plot(history.history['val_loss'], label='val_loss')\n",
    "plt.xlabel('Epochs')\n",
    "plt.ylabel('Loss')\n",
    "plt.title('Loss Curve')\n",
    "plt.legend()\n",
    "plt.savefig(\"PDB_CSP_resultImage/Loss Curve.png\", dpi=600, bbox_inches='tight')\n",
    "plt.show()\n"
   ]
  },
  {
   "cell_type": "code",
   "execution_count": 14,
   "id": "df810f26",
   "metadata": {
    "papermill": {
     "duration": 0.726044,
     "end_time": "2024-12-02T07:43:54.774574",
     "exception": false,
     "start_time": "2024-12-02T07:43:54.048530",
     "status": "completed"
    },
    "tags": []
   },
   "outputs": [
    {
     "data": {
      "image/png": "[encoded data removed]",
      "text/plain": [
       "<Figure size 432x288 with 1 Axes>"
      ]
     },
     "metadata": {
      "needs_background": "light"
     },
     "output_type": "display_data"
    }
   ],
   "source": [
    "#Accuracy\n",
    "plt.plot(history.history['accuracy'], label='accuracy')\n",
    "plt.plot(history.history['val_accuracy'], label='val_accuracy')\n",
    "plt.title('Accuracy Curve')\n",
    "plt.xlabel('Epoch')\n",
    "plt.ylabel('Accuracy')\n",
    "plt.legend()\n",
    "plt.savefig(\"PDB_CSP_resultImage/Accuracy Curve.png\", dpi=600, bbox_inches='tight')\n",
    "plt.show()"
   ]
  },
  {
   "cell_type": "markdown",
   "id": "b94b8a75",
   "metadata": {
    "papermill": {
     "duration": 0.491242,
     "end_time": "2024-12-02T07:44:28.898556",
     "exception": false,
     "start_time": "2024-12-02T07:44:28.407314",
     "status": "completed"
    },
    "tags": []
   },
   "source": [
    "### Use test data set"
   ]
  },
  {
   "cell_type": "code",
   "execution_count": 15,
   "id": "2323fc27",
   "metadata": {
    "papermill": {
     "duration": 1.637503,
     "end_time": "2024-12-02T07:44:31.022950",
     "exception": false,
     "start_time": "2024-12-02T07:44:29.385447",
     "status": "completed"
    },
    "tags": []
   },
   "outputs": [
    {
     "name": "stdout",
     "output_type": "stream",
     "text": [
      "11/11 [==============================] - 0s 18ms/step - loss: 0.1280 - accuracy: 0.9504 - precision: 0.9580 - recall: 0.9435\n",
      "test - loss: 0.1280, accuracy: 0.9504, precision: 0.9580, recall: 0.9435\n",
      "11/11 [==============================] - 0s 12ms/step\n"
     ]
    },
    {
     "data": {
      "image/png": "[encoded data removed]",
      "text/plain": [
       "<Figure size 432x360 with 2 Axes>"
      ]
     },
     "metadata": {
      "needs_background": "light"
     },
     "output_type": "display_data"
    },
    {
     "name": "stdout",
     "output_type": "stream",
     "text": [
      "precision_overall: 0.9542\n",
      "recall_overall: 0.9504\n",
      "sepcificity_overall: 0.9487\n",
      "F1_overall: 0.9517\n",
      "accuracy: 0.9504\n",
      "ROC-AUC Score: 0.9870\n"
     ]
    }
   ],
   "source": [
    "from sklearn.metrics import precision_score, recall_score, f1_score, confusion_matrix, roc_auc_score\n",
    "from sklearn.preprocessing import label_binarize\n",
    "import seaborn as sns\n",
    "\n",
    "loss, accuracy, precision, recall = model.evaluate(X_test, y_test)\n",
    "print(f\"test - loss: {loss:.4f}, accuracy: {accuracy:.4f}, precision: {precision:.4f}, recall: {recall:.4f}\")\n",
    "\n",
    "y_pred_probs = model.predict(X_test)\n",
    "y_pred = np.argmax(y_pred_probs, axis=-1).flatten()\n",
    "y_true = np.argmax(y_test, axis=-1).flatten()\n",
    "\n",
    "# confusion matrix\n",
    "cm = confusion_matrix(y_true, y_pred, labels=[0, 1, 2])\n",
    "\n",
    "plt.figure(figsize=(6, 5)) \n",
    "sns.heatmap(cm, annot=True, fmt='d', cmap='Blues', xticklabels=[0,1,2], yticklabels=[0,1,2]) \n",
    "plt.xlabel('Predicted')\n",
    "plt.ylabel('True') \n",
    "plt.title('Confusion Matrix') \n",
    "plt.savefig(\"PDB_CSP_resultImage/confusion_matrix.png\", dpi=600, bbox_inches='tight')\n",
    "plt.show()\n",
    "\n",
    "\n",
    "precision_overall = precision_score(y_true, y_pred, average='weighted', zero_division=0)\n",
    "recall_overall = recall_score(y_true, y_pred, average='weighted', zero_division=0)\n",
    "f1_overall = f1_score(y_true, y_pred, average='weighted', zero_division=0)\n",
    "\n",
    "\n",
    "specificity = []\n",
    "for i in range(len(cm)):\n",
    "    TN = np.sum(cm) - (np.sum(cm[i, :]) + np.sum(cm[:, i]) - cm[i, i])\n",
    "    FP = np.sum(cm[:, i]) - cm[i, i]\n",
    "    spec = TN / (TN + FP) if (TN + FP) > 0 else 0\n",
    "    specificity.append(spec)\n",
    "specificity_overall = np.mean(specificity)\n",
    "\n",
    "\n",
    "print(f\"precision_overall: {precision_overall:.4f}\")\n",
    "print(f\"recall_overall: {recall_overall:.4f}\")\n",
    "print(f\"sepcificity_overall: {specificity_overall:.4f}\")\n",
    "print(f\"F1_overall: {f1_overall:.4f}\")\n",
    "print(f\"accuracy: {accuracy:.4f}\")\n",
    "\n",
    "\n",
    "\n",
    "y_true_binarized = label_binarize(y_true, classes=[0, 1, 2])  \n",
    "n_classes = y_true_binarized.shape[1]\n",
    "\n",
    "# Reshape y_pred_probs to match y_true\n",
    "y_pred_probs_reshaped = y_pred_probs.reshape(-1, n_classes)\n",
    "\n",
    "# Calculate ROC-AUC for each class\n",
    "roc_auc = roc_auc_score(y_true_binarized, y_pred_probs_reshaped, multi_class='ovo')\n",
    "print(f\"ROC-AUC Score: {roc_auc:.4f}\")"
   ]
  },
  {
   "cell_type": "code",
   "execution_count": 16,
   "id": "055f8b2f",
   "metadata": {
    "papermill": {
     "duration": 1.392027,
     "end_time": "2024-12-02T07:44:32.910905",
     "exception": false,
     "start_time": "2024-12-02T07:44:31.518878",
     "status": "completed"
    },
    "tags": []
   },
   "outputs": [
    {
     "name": "stdout",
     "output_type": "stream",
     "text": [
      "11/11 [==============================] - 0s 12ms/step\n",
      "ROC-AUC Score: 0.9870\n"
     ]
    },
    {
     "data": {
      "image/png": "[encoded data removed]",
      "text/plain": [
       "<Figure size 576x432 with 1 Axes>"
      ]
     },
     "metadata": {
      "needs_background": "light"
     },
     "output_type": "display_data"
    },
    {
     "name": "stdout",
     "output_type": "stream",
     "text": [
      "Class H:\n",
      "  Precision: 0.7282\n",
      "  Recall (Sensitivity): 0.8822\n",
      "  Specificity: 0.9717\n",
      "  F1-Score: 0.7978\n",
      "\n",
      "Class E:\n",
      "  Precision: 0.8003\n",
      "  Recall (Sensitivity): 0.7607\n",
      "  Specificity: 0.9907\n",
      "  F1-Score: 0.7800\n",
      "\n",
      "Class C:\n",
      "  Precision: 0.9829\n",
      "  Recall (Sensitivity): 0.9667\n",
      "  Specificity: 0.8836\n",
      "  F1-Score: 0.9748\n",
      "\n",
      "Overall Accuracy: 0.9504\n"
     ]
    }
   ],
   "source": [
    "import numpy as np\n",
    "from sklearn.metrics import precision_recall_fscore_support, accuracy_score, roc_auc_score, roc_curve, auc, confusion_matrix\n",
    "import matplotlib.pyplot as plt\n",
    "from sklearn.preprocessing import label_binarize\n",
    "\n",
    "# Convert one-hot encoded labels and predictions to class labels\n",
    "y_pred_probs = model.predict(X_test)  \n",
    "y_pred = np.argmax(y_pred_probs, axis=-1).reshape(-1)  \n",
    "y_true = np.argmax(y_test, axis=-1).reshape(-1)        \n",
    "\n",
    "# Verify that y_pred and y_true have the same number of samples\n",
    "assert y_pred.shape[0] == y_true.shape[0], \"y_pred and y_true must have the same number of samples.\"\n",
    "\n",
    "# Binarize the true labels for ROC-AUC calculation\n",
    "y_true_binarized = label_binarize(y_true, classes=[0, 1, 2]) \n",
    "n_classes = y_true_binarized.shape[1]\n",
    "\n",
    "# Reshape y_pred_probs to match y_true\n",
    "y_pred_probs_reshaped = y_pred_probs.reshape(-1, n_classes)\n",
    "\n",
    "# Calculate ROC-AUC for each class\n",
    "roc_auc = roc_auc_score(y_true_binarized, y_pred_probs_reshaped, multi_class='ovo')\n",
    "print(f\"ROC-AUC Score: {roc_auc:.4f}\")\n",
    "\n",
    "# Plot ROC Curves for each class\n",
    "fpr = dict()\n",
    "tpr = dict()\n",
    "roc_auc_dict = dict()\n",
    "\n",
    "for i in range(n_classes):\n",
    "    fpr[i], tpr[i], _ = roc_curve(y_true_binarized[:, i], y_pred_probs_reshaped[:, i])\n",
    "    roc_auc_dict[i] = auc(fpr[i], tpr[i])\n",
    "\n",
    "# Plotting ROC Curves\n",
    "plt.figure(figsize=(8, 6))\n",
    "colors = ['aqua', 'darkorange', 'cornflowerblue']\n",
    "class_names = ['H', 'E', 'C']  \n",
    "\n",
    "for i, color in zip(range(n_classes), colors):\n",
    "    plt.plot(fpr[i], tpr[i], color=color, lw=2,\n",
    "             label=f'ROC curve of class {class_names[i]} (area = {roc_auc_dict[i]:0.2f})')\n",
    "\n",
    "plt.plot([0, 1], [0, 1], 'k--', lw=2)\n",
    "plt.xlim([-0.01, 1.0])\n",
    "plt.ylim([0.0, 1.05])\n",
    "plt.xlabel('False Positive Rate')\n",
    "plt.ylabel('True Positive Rate')\n",
    "plt.title('Receiver Operating Characteristic (ROC) Curves')\n",
    "plt.legend(loc=\"lower right\")\n",
    "plt.savefig(\"PDB_CSP_resultImage/roc_curves.png\", dpi=600, bbox_inches='tight')\n",
    "plt.show()\n",
    "\n",
    "# Calculate per-class precision, recall (sensitivity), f1-score\n",
    "precision, recall, f1_score, _ = precision_recall_fscore_support(y_true, y_pred, labels=[0,1,2], zero_division=0)\n",
    "\n",
    "# Calculate specificity\n",
    "cm = confusion_matrix(y_true, y_pred, labels=[0,1,2])\n",
    "\n",
    "specificity = {}\n",
    "for i, cls in enumerate(class_names):\n",
    "    TN = np.sum(cm) - (np.sum(cm[i, :]) + np.sum(cm[:, i]) - cm[i, i])\n",
    "    FP = np.sum(cm[:, i]) - cm[i, i]\n",
    "    specificity[cls] = TN / (TN + FP) if (TN + FP) > 0 else 0.0\n",
    "\n",
    "# Calculate overall accuracy\n",
    "accuracy = accuracy_score(y_true, y_pred)\n",
    "\n",
    "# Print per-class metrics\n",
    "for i, cls in enumerate(class_names):\n",
    "    print(f\"Class {cls}:\")\n",
    "    print(f\"  Precision: {precision[i]:.4f}\")\n",
    "    print(f\"  Recall (Sensitivity): {recall[i]:.4f}\")\n",
    "    print(f\"  Specificity: {specificity[cls]:.4f}\")\n",
    "    print(f\"  F1-Score: {f1_score[i]:.4f}\")\n",
    "    print()\n",
    "\n",
    "print(f\"Overall Accuracy: {accuracy:.4f}\")"
   ]
  },
  {
   "cell_type": "code",
   "execution_count": null,
   "id": "588f1bfe-8c81-4467-b721-95fa3d8fdcd8",
   "metadata": {},
   "outputs": [],
   "source": []
  }
 ],
 "metadata": {
  "kaggle": {
   "accelerator": "gpu",
   "dataSources": [
    {
     "datasetId": 6196313,
     "sourceId": 10055858,
     "sourceType": "datasetVersion"
    },
    {
     "datasetId": 6198107,
     "sourceId": 10058311,
     "sourceType": "datasetVersion"
    },
    {
     "datasetId": 6209243,
     "sourceId": 10073557,
     "sourceType": "datasetVersion"
    }
   ],
   "dockerImageVersionId": 30787,
   "isGpuEnabled": true,
   "isInternetEnabled": true,
   "language": "python",
   "sourceType": "notebook"
  },
  "kernelspec": {
   "display_name": "Python 3",
   "language": "python",
   "name": "python3"
  },
  "language_info": {
   "codemirror_mode": {
    "name": "ipython",
    "version": 3
   },
   "file_extension": ".py",
   "mimetype": "text/x-python",
   "name": "python",
   "nbconvert_exporter": "python",
   "pygments_lexer": "ipython3",
   "version": "3.10.9"
  },
  "papermill": {
   "default_parameters": {},
   "duration": 2354.782697,
   "end_time": "2024-12-02T07:44:36.636431",
   "environment_variables": {},
   "exception": null,
   "input_path": "__notebook__.ipynb",
   "output_path": "__notebook__.ipynb",
   "parameters": {},
   "start_time": "2024-12-02T07:05:21.853734",
   "version": "2.6.0"
  }
 },
 "nbformat": 4,
 "nbformat_minor": 5
}
