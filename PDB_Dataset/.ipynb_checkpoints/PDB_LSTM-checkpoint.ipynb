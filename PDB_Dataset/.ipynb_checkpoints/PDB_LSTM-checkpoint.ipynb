{
 "cells": [
  {
   "cell_type": "code",
   "execution_count": 1,
   "id": "d4906f15",
   "metadata": {
    "papermill": {
     "duration": 12.625204,
     "end_time": "2024-12-02T07:05:36.814225",
     "exception": false,
     "start_time": "2024-12-02T07:05:24.189021",
     "status": "completed"
    },
    "tags": []
   },
   "outputs": [
    {
     "name": "stderr",
     "output_type": "stream",
     "text": [
      "2024-12-28 09:30:54.237704: I tensorflow/core/util/util.cc:169] oneDNN custom operations are on. You may see slightly different numerical results due to floating-point round-off errors from different computation orders. To turn them off, set the environment variable `TF_ENABLE_ONEDNN_OPTS=0`.\n"
     ]
    }
   ],
   "source": [
    "import numpy as np\n",
    "import pandas as pd\n",
    "import tensorflow as tf\n",
    "from tensorflow.keras.models import Model\n",
    "from tensorflow.keras.layers import (\n",
    "    Input, LSTM, Dense, Dropout, Bidirectional\n",
    ")\n",
    "from tensorflow.keras.utils import to_categorical\n",
    "from sklearn.model_selection import train_test_split\n",
    "import matplotlib.pyplot as plt\n"
   ]
  },
  {
   "cell_type": "code",
   "execution_count": null,
   "id": "0a5e2cf0",
   "metadata": {},
   "outputs": [],
   "source": [
    "df = pd.read_csv('PDB.csv')\n",
    "\n",
    "filtered_data = df[(df['len'] > 1000)]\n",
    "\n",
    "print(\"has_nonstd_aa data typr：\", df['has_nonstd_aa'].dtype)\n",
    "\n",
    "filtered_data = filtered_data[~filtered_data['has_nonstd_aa']]\n",
    "print(f\"The new data: {len(filtered_data)}\")\n",
    "filtered_data.to_csv('filtered_data.csv', index=False)"
   ]
  },
  {
   "cell_type": "code",
   "execution_count": null,
   "id": "8e5e3963",
   "metadata": {},
   "outputs": [],
   "source": [
    "columns_to_drop = ['pdb_id', 'chain_code', 'has_nonstd_aa', 'len', ]  \n",
    "filtered_data = filtered_data.drop(columns=columns_to_drop)\n",
    "print(filtered_data.columns)\n",
    "\n",
    "filtered_data.to_csv('clean_data.csv', index=False)"
   ]
  },
  {
   "cell_type": "code",
   "execution_count": 2,
   "id": "e65dfaf1",
   "metadata": {
    "papermill": {
     "duration": 0.270829,
     "end_time": "2024-12-02T07:05:37.088957",
     "exception": false,
     "start_time": "2024-12-02T07:05:36.818128",
     "status": "completed"
    },
    "tags": []
   },
   "outputs": [
    {
     "data": {
      "text/html": [
       "<div>\n",
       "<style scoped>\n",
       "    .dataframe tbody tr th:only-of-type {\n",
       "        vertical-align: middle;\n",
       "    }\n",
       "\n",
       "    .dataframe tbody tr th {\n",
       "        vertical-align: top;\n",
       "    }\n",
       "\n",
       "    .dataframe thead th {\n",
       "        text-align: right;\n",
       "    }\n",
       "</style>\n",
       "<table border=\"1\" class=\"dataframe\">\n",
       "  <thead>\n",
       "    <tr style=\"text-align: right;\">\n",
       "      <th></th>\n",
       "      <th>seq</th>\n",
       "      <th>sst3</th>\n",
       "      <th>sst8</th>\n",
       "    </tr>\n",
       "  </thead>\n",
       "  <tbody>\n",
       "    <tr>\n",
       "      <th>0</th>\n",
       "      <td>AETVESCLAKSHTENSFTNVXKDDKTLDRYANYEGCLWNATGVVVC...</td>\n",
       "      <td>CCCHHHHHCCCCEEEEEECCEECCCCCCEEEEECCEEEEEEEEEEE...</td>\n",
       "      <td>CCCHHHHHTSCCEEEEEESCEECTTTCCEEEEETTEEEEEEEEEEE...</td>\n",
       "    </tr>\n",
       "    <tr>\n",
       "      <th>1</th>\n",
       "      <td>ASQEISKSIYTCNDNQVXEVIYVNTEAGNAYAIISQVNEXIPXRLX...</td>\n",
       "      <td>CCCCEEEEEEEECCCEEEEEEEEECCCCCEEEEEEECCEEEEEEEE...</td>\n",
       "      <td>CCCCEEEEEEEETTTEEEEEEEEECTTSCEEEEEEETTEEEEEEEE...</td>\n",
       "    </tr>\n",
       "    <tr>\n",
       "      <th>2</th>\n",
       "      <td>XGSSHHHHHHSSGRENLYFQGXNISEINGFEVTGFVVRTTNADEXN...</td>\n",
       "      <td>CCCCCCCCCCCCCCCCCEEEEEEEEEECCEEEEEEEEEECHHHHHC...</td>\n",
       "      <td>CCCCCCCCCCCCCCCCCEEEEEEEEEECCEEEEEEEEEECHHHHHS...</td>\n",
       "    </tr>\n",
       "    <tr>\n",
       "      <th>3</th>\n",
       "      <td>SNADYNRLSVPGNVIGKGGNAVVYEDAEDATKVLKMFTTSQSNEEV...</td>\n",
       "      <td>CCCCCCCCCCEEEEEEECCCEEEEEECCCCCEEEEEECCCCCHHHH...</td>\n",
       "      <td>CCCCCCCCCCEEEEEEECSSEEEEEETTCTTEEEEEESSCCCHHHH...</td>\n",
       "    </tr>\n",
       "    <tr>\n",
       "      <th>4</th>\n",
       "      <td>DTVGRPLPHLAAAMQASGEAVYCDDIPRYENELFLRLVTSTRAHAK...</td>\n",
       "      <td>CCCCCCCCCCCHHHHHCCCCCCHHHCCCCCCCEEEEEEECCCCCEE...</td>\n",
       "      <td>CCTTSCCCCTTHHHHHTTCSCCGGGSCCCTTCEEEEEEECSSSSEE...</td>\n",
       "    </tr>\n",
       "  </tbody>\n",
       "</table>\n",
       "</div>"
      ],
      "text/plain": [
       "                                                 seq  \\\n",
       "0  AETVESCLAKSHTENSFTNVXKDDKTLDRYANYEGCLWNATGVVVC...   \n",
       "1  ASQEISKSIYTCNDNQVXEVIYVNTEAGNAYAIISQVNEXIPXRLX...   \n",
       "2  XGSSHHHHHHSSGRENLYFQGXNISEINGFEVTGFVVRTTNADEXN...   \n",
       "3  SNADYNRLSVPGNVIGKGGNAVVYEDAEDATKVLKMFTTSQSNEEV...   \n",
       "4  DTVGRPLPHLAAAMQASGEAVYCDDIPRYENELFLRLVTSTRAHAK...   \n",
       "\n",
       "                                                sst3  \\\n",
       "0  CCCHHHHHCCCCEEEEEECCEECCCCCCEEEEECCEEEEEEEEEEE...   \n",
       "1  CCCCEEEEEEEECCCEEEEEEEEECCCCCEEEEEEECCEEEEEEEE...   \n",
       "2  CCCCCCCCCCCCCCCCCEEEEEEEEEECCEEEEEEEEEECHHHHHC...   \n",
       "3  CCCCCCCCCCEEEEEEECCCEEEEEECCCCCEEEEEECCCCCHHHH...   \n",
       "4  CCCCCCCCCCCHHHHHCCCCCCHHHCCCCCCCEEEEEEECCCCCEE...   \n",
       "\n",
       "                                                sst8  \n",
       "0  CCCHHHHHTSCCEEEEEESCEECTTTCCEEEEETTEEEEEEEEEEE...  \n",
       "1  CCCCEEEEEEEETTTEEEEEEEEECTTSCEEEEEEETTEEEEEEEE...  \n",
       "2  CCCCCCCCCCCCCCCCCEEEEEEEEEECCEEEEEEEEEECHHHHHS...  \n",
       "3  CCCCCCCCCCEEEEEEECSSEEEEEETTCTTEEEEEESSCCCHHHH...  \n",
       "4  CCTTSCCCCTTHHHHHTTCSCCGGGSCCCTTCEEEEEEECSSSSEE...  "
      ]
     },
     "metadata": {},
     "output_type": "display_data"
    },
    {
     "data": {
      "text/html": [
       "<div>\n",
       "<style scoped>\n",
       "    .dataframe tbody tr th:only-of-type {\n",
       "        vertical-align: middle;\n",
       "    }\n",
       "\n",
       "    .dataframe tbody tr th {\n",
       "        vertical-align: top;\n",
       "    }\n",
       "\n",
       "    .dataframe thead th {\n",
       "        text-align: right;\n",
       "    }\n",
       "</style>\n",
       "<table border=\"1\" class=\"dataframe\">\n",
       "  <thead>\n",
       "    <tr style=\"text-align: right;\">\n",
       "      <th></th>\n",
       "      <th>seq</th>\n",
       "      <th>sst3</th>\n",
       "      <th>sst8</th>\n",
       "    </tr>\n",
       "  </thead>\n",
       "  <tbody>\n",
       "    <tr>\n",
       "      <th>0</th>\n",
       "      <td>MAKQNLKSTDRAVQQMLDKAKREGIQTVWDRYEAMKPQCGFGETGL...</td>\n",
       "      <td>CCCCCCCECCHHHHHHHHHHHHHCCCCHHHHHHHHCCCCHHHHHCC...</td>\n",
       "      <td>CCCCTTTBSCHHHHHHHHHHHHHTCCCHHHHHHHHCSCCHHHHHTC...</td>\n",
       "    </tr>\n",
       "    <tr>\n",
       "      <th>1</th>\n",
       "      <td>HHHHHHHHGGLVPRGSHGYFLKSSSSFQRKDMVSSMESDVATIGSV...</td>\n",
       "      <td>CCCCCCCCCCCCCCCCCCCCCCCCCCCCCCCCCCCCCCCCCCCCCC...</td>\n",
       "      <td>CCCCCCCCCCCCCCCCCCCCCCCCCCCCCCCCCCCCCCCCCCCCCC...</td>\n",
       "    </tr>\n",
       "    <tr>\n",
       "      <th>2</th>\n",
       "      <td>AWQARGLGTARLQLVEFSAFVEPPDAVDSYQRHLFVHISQHCPSPG...</td>\n",
       "      <td>CCCCCCCECCCCEEEEEEEEEECHHHHCCCCCEEEEEEECCCCCCC...</td>\n",
       "      <td>CCCCCCSBCSSCEEEEEEEEEECGGGGTSCCCEEEEEEECCCCCCC...</td>\n",
       "    </tr>\n",
       "    <tr>\n",
       "      <th>3</th>\n",
       "      <td>QHYGTAEVNLQSGNNFDGSSLDFLLPFYDSEKMLAFGQVGARYIDS...</td>\n",
       "      <td>CCCCEEEEEEEECCCCCEEEEEEEEEEEECCCEEEEEEEEEEEECC...</td>\n",
       "      <td>CCCCEEEEEEEESSTTCEEEEEEEEEEEECSSEEEEEEEEEEEETT...</td>\n",
       "    </tr>\n",
       "    <tr>\n",
       "      <th>4</th>\n",
       "      <td>MLRDLFDRAVVLSAYIHNLSSEMFSEFDKRYTHGRGFITKAINSCH...</td>\n",
       "      <td>CHHHHHHHHHHHHHHHHHHHHHHHHHHHHHHHCCCCHHHHCCCCCC...</td>\n",
       "      <td>CHHHHHHHHHHHHHHHHHHHHHHHHHHIIIIISSSSHHHHTTTCCT...</td>\n",
       "    </tr>\n",
       "  </tbody>\n",
       "</table>\n",
       "</div>"
      ],
      "text/plain": [
       "                                                 seq  \\\n",
       "0  MAKQNLKSTDRAVQQMLDKAKREGIQTVWDRYEAMKPQCGFGETGL...   \n",
       "1  HHHHHHHHGGLVPRGSHGYFLKSSSSFQRKDMVSSMESDVATIGSV...   \n",
       "2  AWQARGLGTARLQLVEFSAFVEPPDAVDSYQRHLFVHISQHCPSPG...   \n",
       "3  QHYGTAEVNLQSGNNFDGSSLDFLLPFYDSEKMLAFGQVGARYIDS...   \n",
       "4  MLRDLFDRAVVLSAYIHNLSSEMFSEFDKRYTHGRGFITKAINSCH...   \n",
       "\n",
       "                                                sst3  \\\n",
       "0  CCCCCCCECCHHHHHHHHHHHHHCCCCHHHHHHHHCCCCHHHHHCC...   \n",
       "1  CCCCCCCCCCCCCCCCCCCCCCCCCCCCCCCCCCCCCCCCCCCCCC...   \n",
       "2  CCCCCCCECCCCEEEEEEEEEECHHHHCCCCCEEEEEEECCCCCCC...   \n",
       "3  CCCCEEEEEEEECCCCCEEEEEEEEEEEECCCEEEEEEEEEEEECC...   \n",
       "4  CHHHHHHHHHHHHHHHHHHHHHHHHHHHHHHHCCCCHHHHCCCCCC...   \n",
       "\n",
       "                                                sst8  \n",
       "0  CCCCTTTBSCHHHHHHHHHHHHHTCCCHHHHHHHHCSCCHHHHHTC...  \n",
       "1  CCCCCCCCCCCCCCCCCCCCCCCCCCCCCCCCCCCCCCCCCCCCCC...  \n",
       "2  CCCCCCSBCSSCEEEEEEEEEECGGGGTSCCCEEEEEEECCCCCCC...  \n",
       "3  CCCCEEEEEEEESSTTCEEEEEEEEEEEECSSEEEEEEEEEEEETT...  \n",
       "4  CHHHHHHHHHHHHHHHHHHHHHHHHHHIIIIISSSSHHHHTTTCCT...  "
      ]
     },
     "metadata": {},
     "output_type": "display_data"
    },
    {
     "data": {
      "text/html": [
       "<div>\n",
       "<style scoped>\n",
       "    .dataframe tbody tr th:only-of-type {\n",
       "        vertical-align: middle;\n",
       "    }\n",
       "\n",
       "    .dataframe tbody tr th {\n",
       "        vertical-align: top;\n",
       "    }\n",
       "\n",
       "    .dataframe thead th {\n",
       "        text-align: right;\n",
       "    }\n",
       "</style>\n",
       "<table border=\"1\" class=\"dataframe\">\n",
       "  <thead>\n",
       "    <tr style=\"text-align: right;\">\n",
       "      <th></th>\n",
       "      <th>seq</th>\n",
       "      <th>sst3</th>\n",
       "      <th>sst8</th>\n",
       "    </tr>\n",
       "  </thead>\n",
       "  <tbody>\n",
       "    <tr>\n",
       "      <th>0</th>\n",
       "      <td>GGGLAPAEVPKGDRTAGSPPRTISPPPCQGPIEIKETFKYINTVVS...</td>\n",
       "      <td>CCCCCCCCCCCCCCCCCCCCCCCCCCCCCHHHHHHHHHHHHHHHHH...</td>\n",
       "      <td>CCCCCCCCCCCCCCCCCCCCCCCCCCCCSHHHHHHHHHHHHHHHHH...</td>\n",
       "    </tr>\n",
       "    <tr>\n",
       "      <th>1</th>\n",
       "      <td>GSLGKRPDAVSQAVSSLQGLSPEQADLVAKLKNGHLSERVLAANKL...</td>\n",
       "      <td>CCCCCCCCCCCCCCCCCCCCCHHHHHHHHHHHHCCHHHHHHHHHHH...</td>\n",
       "      <td>CCCCCCCCCCCCCCCCCCCCCHHHHHHHHHHHHSCHHHHHHHHHHH...</td>\n",
       "    </tr>\n",
       "    <tr>\n",
       "      <th>2</th>\n",
       "      <td>GEITSVSTACQQLEVFSRVLRTSLATILDGGEENLEKNLPEFAKMV...</td>\n",
       "      <td>CCCCCHHHHHHCHHHHHHHHHHHHHHHHHHCCCCHHHHHHHHHHHH...</td>\n",
       "      <td>CCCCCHHHHHHCHHHHHHHHHHHHHHHHHHTTTTHHHHHHHHHHHH...</td>\n",
       "    </tr>\n",
       "    <tr>\n",
       "      <th>3</th>\n",
       "      <td>GPAAAPALDTLPAPTSLVLSQVTSSSIRLSWTPAPRHPLKYLIVWR...</td>\n",
       "      <td>CCCCCCCECCCCCCEEEEEECCCCCCEEEEEECCCCCCCEEEEEEE...</td>\n",
       "      <td>CCCCCCCBSSSCCCEEEEEECCCSSCEEEEEECCSSCCSEEEEEEE...</td>\n",
       "    </tr>\n",
       "    <tr>\n",
       "      <th>4</th>\n",
       "      <td>GSAFSNQTYPTIEPKPFLYVVGRKKMMDAQYKCYDRMQQLPAYQGE...</td>\n",
       "      <td>CCCCCCCCCCCCCCCCCCHHHHHHHHHHHHHHHHHHHHHCCCCCCC...</td>\n",
       "      <td>CCCCCCCCCCCCCCCCCCHHHHHHHHHHHHHHHHHHHHHSCSCCSS...</td>\n",
       "    </tr>\n",
       "  </tbody>\n",
       "</table>\n",
       "</div>"
      ],
      "text/plain": [
       "                                                 seq  \\\n",
       "0  GGGLAPAEVPKGDRTAGSPPRTISPPPCQGPIEIKETFKYINTVVS...   \n",
       "1  GSLGKRPDAVSQAVSSLQGLSPEQADLVAKLKNGHLSERVLAANKL...   \n",
       "2  GEITSVSTACQQLEVFSRVLRTSLATILDGGEENLEKNLPEFAKMV...   \n",
       "3  GPAAAPALDTLPAPTSLVLSQVTSSSIRLSWTPAPRHPLKYLIVWR...   \n",
       "4  GSAFSNQTYPTIEPKPFLYVVGRKKMMDAQYKCYDRMQQLPAYQGE...   \n",
       "\n",
       "                                                sst3  \\\n",
       "0  CCCCCCCCCCCCCCCCCCCCCCCCCCCCCHHHHHHHHHHHHHHHHH...   \n",
       "1  CCCCCCCCCCCCCCCCCCCCCHHHHHHHHHHHHCCHHHHHHHHHHH...   \n",
       "2  CCCCCHHHHHHCHHHHHHHHHHHHHHHHHHCCCCHHHHHHHHHHHH...   \n",
       "3  CCCCCCCECCCCCCEEEEEECCCCCCEEEEEECCCCCCCEEEEEEE...   \n",
       "4  CCCCCCCCCCCCCCCCCCHHHHHHHHHHHHHHHHHHHHHCCCCCCC...   \n",
       "\n",
       "                                                sst8  \n",
       "0  CCCCCCCCCCCCCCCCCCCCCCCCCCCCSHHHHHHHHHHHHHHHHH...  \n",
       "1  CCCCCCCCCCCCCCCCCCCCCHHHHHHHHHHHHSCHHHHHHHHHHH...  \n",
       "2  CCCCCHHHHHHCHHHHHHHHHHHHHHHHHHTTTTHHHHHHHHHHHH...  \n",
       "3  CCCCCCCBSSSCCCEEEEEECCCSSCEEEEEECCSSCCSEEEEEEE...  \n",
       "4  CCCCCCCCCCCCCCCCCCHHHHHHHHHHHHHHHHHHHHHSCSCCSS...  "
      ]
     },
     "metadata": {},
     "output_type": "display_data"
    },
    {
     "name": "stdout",
     "output_type": "stream",
     "text": [
      "train set: 8678\n",
      "valid set: 2170\n",
      "test set: 115\n"
     ]
    }
   ],
   "source": [
    "combined = pd.read_csv('clean_data.csv')  \n",
    "\n",
    "train_df, temp_df = train_test_split(combined, test_size=0.2, random_state=42)\n",
    "valid_df, test_df = train_test_split(temp_df, test_size=0.5, random_state=42)\n",
    "\n",
    "display(train_df.head())\n",
    "display(valid_df.head())\n",
    "display(test_df.head())\n",
    "print(f\"train set: {len(train_df)}\")\n",
    "print(f\"valid set: {len(valid_df)}\")\n",
    "print(f\"test set: {len(test_df)}\")\n",
    "\n",
    "train_df.to_csv('train.csv', index=False)\n",
    "valid_df.to_csv('valid.csv', index=False)\n",
    "test_df.to_csv('test.csv', index=False)"
   ]
  },
  {
   "cell_type": "code",
   "execution_count": 3,
   "id": "e1c16b49",
   "metadata": {
    "papermill": {
     "duration": 0.26043,
     "end_time": "2024-12-02T07:05:37.354624",
     "exception": false,
     "start_time": "2024-12-02T07:05:37.094194",
     "status": "completed"
    },
    "tags": []
   },
   "outputs": [
    {
     "data": {
      "text/html": [
       "<div>\n",
       "<style scoped>\n",
       "    .dataframe tbody tr th:only-of-type {\n",
       "        vertical-align: middle;\n",
       "    }\n",
       "\n",
       "    .dataframe tbody tr th {\n",
       "        vertical-align: top;\n",
       "    }\n",
       "\n",
       "    .dataframe thead th {\n",
       "        text-align: right;\n",
       "    }\n",
       "</style>\n",
       "<table border=\"1\" class=\"dataframe\">\n",
       "  <thead>\n",
       "    <tr style=\"text-align: right;\">\n",
       "      <th></th>\n",
       "      <th>sst8</th>\n",
       "      <th>sst3_mapped</th>\n",
       "    </tr>\n",
       "  </thead>\n",
       "  <tbody>\n",
       "    <tr>\n",
       "      <th>0</th>\n",
       "      <td>CCCHHHHHTSCCEEEEEESCEECTTTCCEEEEETTEEEEEEEEEEE...</td>\n",
       "      <td>CCCHHHHHCCCCEEEEEECCEECCCCCCEEEEECCEEEEEEEEEEE...</td>\n",
       "    </tr>\n",
       "    <tr>\n",
       "      <th>1</th>\n",
       "      <td>CCCCEEEEEEEETTTEEEEEEEEECTTSCEEEEEEETTEEEEEEEE...</td>\n",
       "      <td>CCCCEEEEEEEECCCEEEEEEEEECCCCCEEEEEEECCEEEEEEEE...</td>\n",
       "    </tr>\n",
       "    <tr>\n",
       "      <th>2</th>\n",
       "      <td>CCCCCCCCCCCCCCCCCEEEEEEEEEECCEEEEEEEEEECHHHHHS...</td>\n",
       "      <td>CCCCCCCCCCCCCCCCCEEEEEEEEEECCEEEEEEEEEECHHHHHC...</td>\n",
       "    </tr>\n",
       "    <tr>\n",
       "      <th>3</th>\n",
       "      <td>CCCCCCCCCCEEEEEEECSSEEEEEETTCTTEEEEEESSCCCHHHH...</td>\n",
       "      <td>CCCCCCCCCCEEEEEEECCCEEEEEECCCCCEEEEEECCCCCHHHH...</td>\n",
       "    </tr>\n",
       "    <tr>\n",
       "      <th>4</th>\n",
       "      <td>CCTTSCCCCTTHHHHHTTCSCCGGGSCCCTTCEEEEEEECSSSSEE...</td>\n",
       "      <td>CCCCCCCCCCCHHHHHCCCCCCHHHCCCCCCCEEEEEEECCCCCEE...</td>\n",
       "    </tr>\n",
       "  </tbody>\n",
       "</table>\n",
       "</div>"
      ],
      "text/plain": [
       "                                                sst8  \\\n",
       "0  CCCHHHHHTSCCEEEEEESCEECTTTCCEEEEETTEEEEEEEEEEE...   \n",
       "1  CCCCEEEEEEEETTTEEEEEEEEECTTSCEEEEEEETTEEEEEEEE...   \n",
       "2  CCCCCCCCCCCCCCCCCEEEEEEEEEECCEEEEEEEEEECHHHHHS...   \n",
       "3  CCCCCCCCCCEEEEEEECSSEEEEEETTCTTEEEEEESSCCCHHHH...   \n",
       "4  CCTTSCCCCTTHHHHHTTCSCCGGGSCCCTTCEEEEEEECSSSSEE...   \n",
       "\n",
       "                                         sst3_mapped  \n",
       "0  CCCHHHHHCCCCEEEEEECCEECCCCCCEEEEECCEEEEEEEEEEE...  \n",
       "1  CCCCEEEEEEEECCCEEEEEEEEECCCCCEEEEEEECCEEEEEEEE...  \n",
       "2  CCCCCCCCCCCCCCCCCEEEEEEEEEECCEEEEEEEEEECHHHHHC...  \n",
       "3  CCCCCCCCCCEEEEEEECCCEEEEEECCCCCEEEEEECCCCCHHHH...  \n",
       "4  CCCCCCCCCCCHHHHHCCCCCCHHHCCCCCCCEEEEEEECCCCCEE...  "
      ]
     },
     "metadata": {},
     "output_type": "display_data"
    }
   ],
   "source": [
    "sst8_to_sst3 = {\n",
    "    'H': 'H', 'G': 'H', 'I': 'H',\n",
    "    'E': 'E', 'B': 'E',\n",
    "    'T': 'C', 'S': 'C', 'C': 'C'\n",
    "}\n",
    "\n",
    "def map_sst8_to_sst3(sst8):\n",
    "    return ''.join([sst8_to_sst3.get(char, 'C') for char in sst8])\n",
    "\n",
    "train_df['sst3_mapped'] = train_df['sst8'].apply(map_sst8_to_sst3)\n",
    "valid_df['sst3_mapped'] = valid_df['sst8'].apply(map_sst8_to_sst3)\n",
    "test_df['sst3_mapped'] = test_df['sst8'].apply(map_sst8_to_sst3)\n",
    "\n",
    "display(train_df[['sst8', 'sst3_mapped']].head())"
   ]
  },
  {
   "cell_type": "code",
   "execution_count": 4,
   "id": "c7a2bd99",
   "metadata": {
    "papermill": {
     "duration": 2.631889,
     "end_time": "2024-12-02T07:05:39.991092",
     "exception": false,
     "start_time": "2024-12-02T07:05:37.359203",
     "status": "completed"
    },
    "tags": []
   },
   "outputs": [
    {
     "data": {
      "text/plain": [
       "array([[1., 0., 0., ..., 0., 0., 0.],\n",
       "       [0., 0., 0., ..., 0., 0., 0.],\n",
       "       [0., 0., 0., ..., 0., 0., 0.],\n",
       "       ...,\n",
       "       [0., 0., 0., ..., 0., 0., 1.],\n",
       "       [0., 0., 0., ..., 0., 0., 1.],\n",
       "       [0., 0., 0., ..., 0., 0., 1.]], dtype=float32)"
      ]
     },
     "metadata": {},
     "output_type": "display_data"
    },
    {
     "data": {
      "text/plain": [
       "array([[0., 0., 0., ..., 0., 0., 0.],\n",
       "       [1., 0., 0., ..., 0., 0., 0.],\n",
       "       [0., 0., 0., ..., 0., 0., 0.],\n",
       "       ...,\n",
       "       [0., 0., 0., ..., 0., 0., 1.],\n",
       "       [0., 0., 0., ..., 0., 0., 1.],\n",
       "       [0., 0., 0., ..., 0., 0., 1.]], dtype=float32)"
      ]
     },
     "metadata": {},
     "output_type": "display_data"
    },
    {
     "name": "stdout",
     "output_type": "stream",
     "text": [
      "train one-hot shape: (8678, 1632, 21)\n",
      "valid one-hot shape: (2170, 1632, 21)\n",
      "test one-hot shape: (115, 1632, 21)\n"
     ]
    }
   ],
   "source": [
    "def one_hot_encode_sequences(sequences, max_len=None):\n",
    "    amino_acids = 'ACDEFGHIKLMNPQRSTVWY'\n",
    "    aa_to_int = {aa: idx for idx, aa in enumerate(amino_acids)}\n",
    "    aa_to_int['X'] = len(amino_acids)  \n",
    "    \n",
    "    integer_encoded = []\n",
    "    for seq in sequences:\n",
    "        encoded = [aa_to_int.get(aa, len(amino_acids)) for aa in seq]\n",
    "        integer_encoded.append(encoded)\n",
    "    \n",
    "    if not max_len:\n",
    "        max_len = max(len(seq) for seq in integer_encoded)\n",
    "    \n",
    "    padded_encoded = tf.keras.preprocessing.sequence.pad_sequences(\n",
    "        integer_encoded, maxlen=max_len, padding='post', truncating='post', value=len(amino_acids)\n",
    "    )\n",
    "    \n",
    "    one_hot_encoded = to_categorical(padded_encoded, num_classes=len(amino_acids)+1)\n",
    "    \n",
    "    return one_hot_encoded, max_len\n",
    "\n",
    "\n",
    "X_train, max_len = one_hot_encode_sequences(train_df['seq'])\n",
    "\n",
    "X_valid, _ = one_hot_encode_sequences(valid_df['seq'], max_len)\n",
    "\n",
    "X_test, _ = one_hot_encode_sequences(test_df['seq'], max_len)\n",
    "\n",
    "display(X_train[0])\n",
    "display(X_valid[0])\n",
    "\n",
    "print(f\"train one-hot shape: {X_train.shape}\")\n",
    "print(f\"valid one-hot shape: {X_valid.shape}\")\n",
    "print(f\"test one-hot shape: {X_test.shape}\")"
   ]
  },
  {
   "cell_type": "code",
   "execution_count": 5,
   "id": "0ebe833c",
   "metadata": {
    "papermill": {
     "duration": 0.835394,
     "end_time": "2024-12-02T07:05:40.830974",
     "exception": false,
     "start_time": "2024-12-02T07:05:39.995580",
     "status": "completed"
    },
    "tags": []
   },
   "outputs": [
    {
     "data": {
      "text/plain": [
       "array([[0., 0., 1.],\n",
       "       [0., 0., 1.],\n",
       "       [0., 0., 1.],\n",
       "       ...,\n",
       "       [0., 0., 1.],\n",
       "       [0., 0., 1.],\n",
       "       [0., 0., 1.]], dtype=float32)"
      ]
     },
     "metadata": {},
     "output_type": "display_data"
    },
    {
     "data": {
      "text/plain": [
       "array([[0., 0., 1.],\n",
       "       [0., 0., 1.],\n",
       "       [0., 0., 1.],\n",
       "       ...,\n",
       "       [0., 0., 1.],\n",
       "       [0., 0., 1.],\n",
       "       [0., 0., 1.]], dtype=float32)"
      ]
     },
     "metadata": {},
     "output_type": "display_data"
    },
    {
     "name": "stdout",
     "output_type": "stream",
     "text": [
      "train label one-hot shape: (8678, 1632, 3)\n",
      "valid label one-hot shape: (2170, 1632, 3)\n",
      "test label one-hot shape: (115, 1632, 3)\n"
     ]
    }
   ],
   "source": [
    "def one_hot_encode_labels(labels, max_len):\n",
    "    sec_structs = ['H', 'E', 'C']\n",
    "    struct_to_int = {s: idx for idx, s in enumerate(sec_structs)}\n",
    "    \n",
    "    integer_encoded = []\n",
    "    for lbl in labels:\n",
    "        encoded = [struct_to_int.get(s, 2) for s in lbl]  \n",
    "        integer_encoded.append(encoded)\n",
    "    \n",
    "    padded_encoded = tf.keras.preprocessing.sequence.pad_sequences(\n",
    "        integer_encoded, maxlen=max_len, padding='post', truncating='post', value=2\n",
    "    )\n",
    "    \n",
    "    y = to_categorical(padded_encoded, num_classes=len(sec_structs))\n",
    "    \n",
    "    return y\n",
    "\n",
    "\n",
    "y_train = one_hot_encode_labels(train_df['sst3_mapped'], max_len)\n",
    "\n",
    "y_valid = one_hot_encode_labels(valid_df['sst3_mapped'], max_len)\n",
    "\n",
    "y_test = one_hot_encode_labels(test_df['sst3_mapped'], max_len)\n",
    "\n",
    "display(y_train[0])\n",
    "display(y_valid[0])\n",
    "\n",
    "print(f\"train label one-hot shape: {y_train.shape}\")\n",
    "print(f\"valid label one-hot shape: {y_valid.shape}\")\n",
    "print(f\"test label one-hot shape: {y_test.shape}\")"
   ]
  },
  {
   "cell_type": "code",
   "execution_count": 6,
   "id": "95190e57",
   "metadata": {
    "papermill": {
     "duration": 0.254308,
     "end_time": "2024-12-02T07:05:41.090120",
     "exception": false,
     "start_time": "2024-12-02T07:05:40.835812",
     "status": "completed"
    },
    "tags": []
   },
   "outputs": [
    {
     "name": "stdout",
     "output_type": "stream",
     "text": [
      "GPUs [PhysicalDevice(name='/physical_device:GPU:0', device_type='GPU')] are available and configured.\n"
     ]
    }
   ],
   "source": [
    "import tensorflow as tf\n",
    "\n",
    "# Verify GPU availability\n",
    "gpus = tf.config.list_physical_devices('GPU')\n",
    "if gpus:\n",
    "    try:\n",
    "        # Enable memory growth for each GPU\n",
    "        for gpu in gpus:\n",
    "            tf.config.experimental.set_memory_growth(gpu, True)\n",
    "        print(f\"GPUs {gpus} are available and configured.\")\n",
    "    except RuntimeError as e:\n",
    "        print(e)\n",
    "else:\n",
    "    print(\"No GPU available. Using CPU.\")"
   ]
  },
  {
   "cell_type": "code",
   "execution_count": 7,
   "id": "596cf724",
   "metadata": {
    "papermill": {
     "duration": 0.750126,
     "end_time": "2024-12-02T07:05:41.860294",
     "exception": false,
     "start_time": "2024-12-02T07:05:41.110168",
     "status": "completed"
    },
    "tags": []
   },
   "outputs": [
    {
     "name": "stderr",
     "output_type": "stream",
     "text": [
      "2024-12-28 09:31:23.269296: I tensorflow/core/platform/cpu_feature_guard.cc:193] This TensorFlow binary is optimized with oneAPI Deep Neural Network Library (oneDNN) to use the following CPU instructions in performance-critical operations:  AVX2 AVX512F AVX512_VNNI FMA\n",
      "To enable them in other operations, rebuild TensorFlow with the appropriate compiler flags.\n",
      "2024-12-28 09:31:23.748355: I tensorflow/core/common_runtime/gpu/gpu_device.cc:1532] Created device /job:localhost/replica:0/task:0/device:GPU:0 with 22310 MB memory:  -> device: 0, name: NVIDIA GeForce RTX 3090, pci bus id: 0000:a0:00.0, compute capability: 8.6\n"
     ]
    },
    {
     "name": "stdout",
     "output_type": "stream",
     "text": [
      "Model: \"model\"\n",
      "_________________________________________________________________\n",
      " Layer (type)                Output Shape              Param #   \n",
      "=================================================================\n",
      " input_1 (InputLayer)        [(None, 1632, 21)]        0         \n",
      "                                                                 \n",
      " bidirectional (Bidirectiona  (None, 1632, 256)        153600    \n",
      " l)                                                              \n",
      "                                                                 \n",
      " dense (Dense)               (None, 1632, 64)          16448     \n",
      "                                                                 \n",
      " dropout (Dropout)           (None, 1632, 64)          0         \n",
      "                                                                 \n",
      " dense_1 (Dense)             (None, 1632, 3)           195       \n",
      "                                                                 \n",
      "=================================================================\n",
      "Total params: 170,243\n",
      "Trainable params: 170,243\n",
      "Non-trainable params: 0\n",
      "_________________________________________________________________\n"
     ]
    }
   ],
   "source": [
    "input_layer = Input(shape=(max_len, X_train.shape[2]))\n",
    "\n",
    "bi_lstm = Bidirectional(LSTM(128, return_sequences=True))(input_layer)\n",
    "\n",
    "dense = Dense(64, activation='relu')(bi_lstm)\n",
    "dropout = Dropout(0.5)(dense)\n",
    "\n",
    "output_layer = Dense(3, activation='softmax')(dropout)\n",
    "\n",
    "model = Model(inputs=input_layer, outputs=output_layer)\n",
    "\n",
    "model.compile(optimizer='adam',\n",
    "                   loss='categorical_crossentropy',\n",
    "                   metrics=['accuracy', tf.keras.metrics.Precision(), tf.keras.metrics.Recall()])\n",
    "\n",
    "model.summary()\n"
   ]
  },
  {
   "cell_type": "code",
   "execution_count": 8,
   "id": "afe64908",
   "metadata": {
    "papermill": {
     "duration": 2290.319704,
     "end_time": "2024-12-02T07:43:52.202522",
     "exception": false,
     "start_time": "2024-12-02T07:05:41.882818",
     "status": "completed"
    },
    "tags": []
   },
   "outputs": [
    {
     "name": "stdout",
     "output_type": "stream",
     "text": [
      "Epoch 1/50\n"
     ]
    },
    {
     "name": "stderr",
     "output_type": "stream",
     "text": [
      "2024-12-28 09:31:33.336031: I tensorflow/stream_executor/cuda/cuda_dnn.cc:384] Loaded cuDNN version 8101\n"
     ]
    },
    {
     "name": "stdout",
     "output_type": "stream",
     "text": [
      "  1/543 [..............................] - ETA: 35:59 - loss: 1.1268 - accuracy: 0.2725 - precision: 0.0000e+00 - recall: 0.0000e+00"
     ]
    },
    {
     "name": "stderr",
     "output_type": "stream",
     "text": [
      "2024-12-28 09:31:34.030952: I tensorflow/stream_executor/cuda/cuda_blas.cc:1786] TensorFloat-32 will be used for the matrix multiplication. This will only be logged once.\n"
     ]
    },
    {
     "name": "stdout",
     "output_type": "stream",
     "text": [
      "543/543 [==============================] - 65s 113ms/step - loss: 0.1531 - accuracy: 0.9328 - precision: 0.9679 - recall: 0.8973 - val_loss: 0.1309 - val_accuracy: 0.9409 - val_precision: 0.9592 - val_recall: 0.9254\n",
      "Epoch 2/50\n",
      "543/543 [==============================] - 59s 109ms/step - loss: 0.1294 - accuracy: 0.9430 - precision: 0.9638 - recall: 0.9238 - val_loss: 0.1248 - val_accuracy: 0.9446 - val_precision: 0.9595 - val_recall: 0.9318\n",
      "Epoch 3/50\n",
      "543/543 [==============================] - 59s 109ms/step - loss: 0.1252 - accuracy: 0.9453 - precision: 0.9640 - recall: 0.9278 - val_loss: 0.1192 - val_accuracy: 0.9475 - val_precision: 0.9638 - val_recall: 0.9327\n",
      "Epoch 4/50\n",
      "543/543 [==============================] - 59s 109ms/step - loss: 0.1223 - accuracy: 0.9467 - precision: 0.9641 - recall: 0.9305 - val_loss: 0.1178 - val_accuracy: 0.9482 - val_precision: 0.9625 - val_recall: 0.9358\n",
      "Epoch 5/50\n",
      "543/543 [==============================] - 62s 114ms/step - loss: 0.1202 - accuracy: 0.9478 - precision: 0.9642 - recall: 0.9326 - val_loss: 0.1152 - val_accuracy: 0.9497 - val_precision: 0.9654 - val_recall: 0.9352\n",
      "Epoch 6/50\n",
      "543/543 [==============================] - 66s 121ms/step - loss: 0.1166 - accuracy: 0.9498 - precision: 0.9645 - recall: 0.9361 - val_loss: 0.1110 - val_accuracy: 0.9519 - val_precision: 0.9649 - val_recall: 0.9402\n",
      "Epoch 7/50\n",
      "543/543 [==============================] - 64s 117ms/step - loss: 0.1142 - accuracy: 0.9510 - precision: 0.9649 - recall: 0.9381 - val_loss: 0.1131 - val_accuracy: 0.9510 - val_precision: 0.9631 - val_recall: 0.9404\n",
      "Epoch 8/50\n",
      "543/543 [==============================] - 61s 112ms/step - loss: 0.1118 - accuracy: 0.9523 - precision: 0.9651 - recall: 0.9404 - val_loss: 0.1079 - val_accuracy: 0.9535 - val_precision: 0.9638 - val_recall: 0.9444\n",
      "Epoch 9/50\n",
      "543/543 [==============================] - 59s 109ms/step - loss: 0.1110 - accuracy: 0.9528 - precision: 0.9651 - recall: 0.9415 - val_loss: 0.1061 - val_accuracy: 0.9542 - val_precision: 0.9641 - val_recall: 0.9455\n",
      "Epoch 10/50\n",
      "543/543 [==============================] - 59s 108ms/step - loss: 0.1092 - accuracy: 0.9535 - precision: 0.9654 - recall: 0.9424 - val_loss: 0.1060 - val_accuracy: 0.9543 - val_precision: 0.9648 - val_recall: 0.9448\n",
      "Epoch 11/50\n",
      "543/543 [==============================] - 71s 132ms/step - loss: 0.1084 - accuracy: 0.9539 - precision: 0.9656 - recall: 0.9430 - val_loss: 0.1090 - val_accuracy: 0.9531 - val_precision: 0.9642 - val_recall: 0.9436\n",
      "Epoch 12/50\n",
      "543/543 [==============================] - 77s 141ms/step - loss: 0.1080 - accuracy: 0.9541 - precision: 0.9658 - recall: 0.9432 - val_loss: 0.1047 - val_accuracy: 0.9549 - val_precision: 0.9654 - val_recall: 0.9456\n",
      "Epoch 13/50\n",
      "543/543 [==============================] - 77s 142ms/step - loss: 0.1073 - accuracy: 0.9544 - precision: 0.9659 - recall: 0.9438 - val_loss: 0.1044 - val_accuracy: 0.9550 - val_precision: 0.9646 - val_recall: 0.9466\n",
      "Epoch 14/50\n",
      "543/543 [==============================] - 77s 141ms/step - loss: 0.1102 - accuracy: 0.9529 - precision: 0.9655 - recall: 0.9414 - val_loss: 0.1225 - val_accuracy: 0.9462 - val_precision: 0.9643 - val_recall: 0.9295\n",
      "Epoch 15/50\n",
      "543/543 [==============================] - 76s 141ms/step - loss: 0.1233 - accuracy: 0.9461 - precision: 0.9656 - recall: 0.9280 - val_loss: 0.1197 - val_accuracy: 0.9476 - val_precision: 0.9687 - val_recall: 0.9277\n",
      "Epoch 16/50\n",
      "543/543 [==============================] - 71s 131ms/step - loss: 0.1203 - accuracy: 0.9477 - precision: 0.9654 - recall: 0.9313 - val_loss: 0.1187 - val_accuracy: 0.9479 - val_precision: 0.9621 - val_recall: 0.9358\n",
      "Epoch 17/50\n",
      "543/543 [==============================] - 59s 109ms/step - loss: 0.1187 - accuracy: 0.9486 - precision: 0.9653 - recall: 0.9332 - val_loss: 0.1156 - val_accuracy: 0.9495 - val_precision: 0.9654 - val_recall: 0.9355\n",
      "Epoch 18/50\n",
      "543/543 [==============================] - 59s 109ms/step - loss: 0.1171 - accuracy: 0.9495 - precision: 0.9654 - recall: 0.9347 - val_loss: 0.1135 - val_accuracy: 0.9506 - val_precision: 0.9652 - val_recall: 0.9374\n",
      "Epoch 19/50\n",
      "543/543 [==============================] - 60s 110ms/step - loss: 0.1163 - accuracy: 0.9500 - precision: 0.9655 - recall: 0.9356 - val_loss: 0.1134 - val_accuracy: 0.9508 - val_precision: 0.9646 - val_recall: 0.9383\n",
      "Epoch 20/50\n",
      "543/543 [==============================] - 59s 109ms/step - loss: 0.1152 - accuracy: 0.9505 - precision: 0.9656 - recall: 0.9365 - val_loss: 0.1126 - val_accuracy: 0.9512 - val_precision: 0.9655 - val_recall: 0.9386\n",
      "Epoch 21/50\n",
      "543/543 [==============================] - 60s 110ms/step - loss: 0.1142 - accuracy: 0.9510 - precision: 0.9657 - recall: 0.9374 - val_loss: 0.1112 - val_accuracy: 0.9519 - val_precision: 0.9667 - val_recall: 0.9383\n",
      "Epoch 22/50\n",
      "543/543 [==============================] - 59s 109ms/step - loss: 0.1128 - accuracy: 0.9517 - precision: 0.9658 - recall: 0.9386 - val_loss: 0.1107 - val_accuracy: 0.9521 - val_precision: 0.9654 - val_recall: 0.9401\n",
      "Epoch 23/50\n",
      "543/543 [==============================] - 59s 109ms/step - loss: 0.1116 - accuracy: 0.9523 - precision: 0.9660 - recall: 0.9396 - val_loss: 0.1076 - val_accuracy: 0.9535 - val_precision: 0.9649 - val_recall: 0.9433\n"
     ]
    }
   ],
   "source": [
    "early_stopping = tf.keras.callbacks.EarlyStopping(\n",
    "    monitor='val_loss',\n",
    "    patience=10,\n",
    "    restore_best_weights=True\n",
    ")\n",
    "\n",
    "history = model.fit(\n",
    "    X_train, y_train,\n",
    "    epochs=50,\n",
    "    batch_size=32,\n",
    "    validation_data=(X_valid, y_valid),\n",
    "    callbacks=[early_stopping]\n",
    ")"
   ]
  },
  {
   "cell_type": "code",
   "execution_count": 9,
   "id": "f5238c9c",
   "metadata": {
    "papermill": {
     "duration": 0.796283,
     "end_time": "2024-12-02T07:43:53.499812",
     "exception": false,
     "start_time": "2024-12-02T07:43:52.703529",
     "status": "completed"
    },
    "tags": []
   },
   "outputs": [
    {
     "data": {
      "image/png": "[encoded data removed]",
      "text/plain": [
       "<Figure size 432x288 with 1 Axes>"
      ]
     },
     "metadata": {
      "needs_background": "light"
     },
     "output_type": "display_data"
    }
   ],
   "source": [
    "# Loss\n",
    "import os\n",
    "os.makedirs(\"PDB_LSTM_resultImage\",exist_ok=True)\n",
    "plt.plot(history.history['loss'], label='loss')\n",
    "plt.plot(history.history['val_loss'], label='val_loss')\n",
    "plt.xlabel('Epochs')\n",
    "plt.ylabel('Loss')\n",
    "plt.title('Loss Curve')\n",
    "plt.legend()\n",
    "plt.savefig(\"PDB_LSTM_resultImage/Loss Curve.png\", dpi=600, bbox_inches='tight')\n",
    "plt.show()\n"
   ]
  },
  {
   "cell_type": "code",
   "execution_count": 10,
   "id": "df810f26",
   "metadata": {
    "papermill": {
     "duration": 0.726044,
     "end_time": "2024-12-02T07:43:54.774574",
     "exception": false,
     "start_time": "2024-12-02T07:43:54.048530",
     "status": "completed"
    },
    "tags": []
   },
   "outputs": [
    {
     "data": {
      "image/png": "[encoded data removed]",
      "text/plain": [
       "<Figure size 432x288 with 1 Axes>"
      ]
     },
     "metadata": {
      "needs_background": "light"
     },
     "output_type": "display_data"
    }
   ],
   "source": [
    "#Accuracy\n",
    "plt.plot(history.history['accuracy'], label='accuracy')\n",
    "plt.plot(history.history['val_accuracy'], label='val_accuracy')\n",
    "plt.title('Accuracy Curve')\n",
    "plt.xlabel('Epoch')\n",
    "plt.ylabel('Accuracy')\n",
    "plt.legend()\n",
    "plt.savefig(\"PDB_LSTM_resultImage/Accuracy Curve.png\", dpi=600, bbox_inches='tight')\n",
    "plt.show()"
   ]
  },
  {
   "cell_type": "markdown",
   "id": "b94b8a75",
   "metadata": {
    "papermill": {
     "duration": 0.491242,
     "end_time": "2024-12-02T07:44:28.898556",
     "exception": false,
     "start_time": "2024-12-02T07:44:28.407314",
     "status": "completed"
    },
    "tags": []
   },
   "source": [
    "### Use test data set"
   ]
  },
  {
   "cell_type": "code",
   "execution_count": 11,
   "id": "2323fc27",
   "metadata": {
    "papermill": {
     "duration": 1.637503,
     "end_time": "2024-12-02T07:44:31.022950",
     "exception": false,
     "start_time": "2024-12-02T07:44:29.385447",
     "status": "completed"
    },
    "tags": []
   },
   "outputs": [
    {
     "name": "stdout",
     "output_type": "stream",
     "text": [
      "4/4 [==============================] - 0s 57ms/step - loss: 0.0999 - accuracy: 0.9575 - precision: 0.9658 - recall: 0.9497\n",
      "test - loss: 0.0999, accuracy: 0.9575, precision: 0.9658, recall: 0.9497\n",
      "4/4 [==============================] - 1s 47ms/step\n"
     ]
    },
    {
     "data": {
      "image/png": "[encoded data removed]",
      "text/plain": [
       "<Figure size 432x360 with 2 Axes>"
      ]
     },
     "metadata": {
      "needs_background": "light"
     },
     "output_type": "display_data"
    },
    {
     "name": "stdout",
     "output_type": "stream",
     "text": [
      "precision_overall: 0.9563\n",
      "recall_overall: 0.9575\n",
      "sepcificity_overall: 0.9180\n",
      "F1_overall: 0.9568\n",
      "accuracy: 0.9575\n",
      "ROC-AUC Score: 0.9880\n"
     ]
    }
   ],
   "source": [
    "import numpy as np\n",
    "from sklearn.metrics import precision_score, recall_score, f1_score, confusion_matrix, roc_auc_score\n",
    "from sklearn.preprocessing import label_binarize\n",
    "import tensorflow as tf\n",
    "import seaborn as sns\n",
    "\n",
    "loss, accuracy, precision, recall = model.evaluate(X_test, y_test)\n",
    "print(f\"test - loss: {loss:.4f}, accuracy: {accuracy:.4f}, precision: {precision:.4f}, recall: {recall:.4f}\")\n",
    "\n",
    "y_pred_probs = model.predict(X_test)\n",
    "y_pred = np.argmax(y_pred_probs, axis=-1).flatten()\n",
    "y_true = np.argmax(y_test, axis=-1).flatten()\n",
    "\n",
    "\n",
    "cm = confusion_matrix(y_true, y_pred, labels=[0, 1, 2])\n",
    "\n",
    "plt.figure(figsize=(6, 5)) \n",
    "sns.heatmap(cm, annot=True, fmt='d', cmap='Blues', xticklabels=[0,1,2], yticklabels=[0,1,2]) \n",
    "plt.xlabel('Predicted')\n",
    "plt.ylabel('True') \n",
    "plt.title('Confusion Matrix')\n",
    "plt.savefig(\"PDB_LSTM_resultImage/confusion_matrix.png\", dpi=600, bbox_inches='tight')\n",
    "plt.show()\n",
    "\n",
    "precision_overall = precision_score(y_true, y_pred, average='weighted', zero_division=0)\n",
    "recall_overall = recall_score(y_true, y_pred, average='weighted', zero_division=0)\n",
    "f1_overall = f1_score(y_true, y_pred, average='weighted', zero_division=0)\n",
    "\n",
    "specificity = []\n",
    "for i in range(len(cm)):\n",
    "    TN = np.sum(cm) - (np.sum(cm[i, :]) + np.sum(cm[:, i]) - cm[i, i])\n",
    "    FP = np.sum(cm[:, i]) - cm[i, i]\n",
    "    spec = TN / (TN + FP) if (TN + FP) > 0 else 0\n",
    "    specificity.append(spec)\n",
    "specificity_overall = np.mean(specificity)\n",
    "\n",
    "print(f\"precision_overall: {precision_overall:.4f}\")\n",
    "print(f\"recall_overall: {recall_overall:.4f}\")\n",
    "print(f\"sepcificity_overall: {specificity_overall:.4f}\")\n",
    "print(f\"F1_overall: {f1_overall:.4f}\")\n",
    "print(f\"accuracy: {accuracy:.4f}\")\n",
    "\n",
    "y_true_binarized = label_binarize(y_true, classes=[0, 1, 2]) \n",
    "n_classes = y_true_binarized.shape[1]\n",
    "\n",
    "y_pred_probs_reshaped = y_pred_probs.reshape(-1, n_classes)\n",
    "\n",
    "roc_auc = roc_auc_score(y_true_binarized, y_pred_probs_reshaped, multi_class='ovo')\n",
    "print(f\"ROC-AUC Score: {roc_auc:.4f}\")"
   ]
  },
  {
   "cell_type": "code",
   "execution_count": 12,
   "id": "055f8b2f",
   "metadata": {
    "papermill": {
     "duration": 1.392027,
     "end_time": "2024-12-02T07:44:32.910905",
     "exception": false,
     "start_time": "2024-12-02T07:44:31.518878",
     "status": "completed"
    },
    "tags": []
   },
   "outputs": [
    {
     "name": "stdout",
     "output_type": "stream",
     "text": [
      "4/4 [==============================] - 0s 49ms/step\n",
      "ROC-AUC Score: 0.9880\n"
     ]
    },
    {
     "data": {
      "image/png": "[encoded data removed]",
      "text/plain": [
       "<Figure size 576x432 with 1 Axes>"
      ]
     },
     "metadata": {
      "needs_background": "light"
     },
     "output_type": "display_data"
    },
    {
     "name": "stdout",
     "output_type": "stream",
     "text": [
      "Class H:\n",
      "  Precision: 0.7767\n",
      "  Recall (Sensitivity): 0.7771\n",
      "  Specificity: 0.9852\n",
      "  F1-Score: 0.7769\n",
      "\n",
      "Class E:\n",
      "  Precision: 0.6605\n",
      "  Recall (Sensitivity): 0.5742\n",
      "  Specificity: 0.9913\n",
      "  F1-Score: 0.6143\n",
      "\n",
      "Class C:\n",
      "  Precision: 0.9779\n",
      "  Recall (Sensitivity): 0.9819\n",
      "  Specificity: 0.7773\n",
      "  F1-Score: 0.9799\n",
      "\n",
      "Overall Accuracy: 0.9575\n"
     ]
    }
   ],
   "source": [
    "import numpy as np\n",
    "from sklearn.metrics import precision_recall_fscore_support, accuracy_score, roc_auc_score, roc_curve, auc, confusion_matrix\n",
    "import matplotlib.pyplot as plt\n",
    "from sklearn.preprocessing import label_binarize\n",
    "\n",
    "\n",
    "y_pred_probs = model.predict(X_test)  \n",
    "y_pred = np.argmax(y_pred_probs, axis=-1).reshape(-1)  \n",
    "y_true = np.argmax(y_test, axis=-1).reshape(-1)        \n",
    "\n",
    "# Verify that y_pred and y_true have the same number of samples\n",
    "assert y_pred.shape[0] == y_true.shape[0], \"y_pred and y_true must have the same number of samples.\"\n",
    "\n",
    "# Binarize the true labels for ROC-AUC calculation\n",
    "y_true_binarized = label_binarize(y_true, classes=[0, 1, 2]) \n",
    "n_classes = y_true_binarized.shape[1]\n",
    "\n",
    "# Reshape y_pred_probs to match y_true\n",
    "y_pred_probs_reshaped = y_pred_probs.reshape(-1, n_classes)\n",
    "\n",
    "# Calculate ROC-AUC for each class\n",
    "roc_auc = roc_auc_score(y_true_binarized, y_pred_probs_reshaped, multi_class='ovo')\n",
    "print(f\"ROC-AUC Score: {roc_auc:.4f}\")\n",
    "\n",
    "# Plot ROC Curves for each class\n",
    "fpr = dict()\n",
    "tpr = dict()\n",
    "roc_auc_dict = dict()\n",
    "\n",
    "for i in range(n_classes):\n",
    "    fpr[i], tpr[i], _ = roc_curve(y_true_binarized[:, i], y_pred_probs_reshaped[:, i])\n",
    "    roc_auc_dict[i] = auc(fpr[i], tpr[i])\n",
    "\n",
    "# Plotting ROC Curves\n",
    "plt.figure(figsize=(8, 6))\n",
    "colors = ['aqua', 'darkorange', 'cornflowerblue']\n",
    "class_names = ['H', 'E', 'C']  \n",
    "\n",
    "for i, color in zip(range(n_classes), colors):\n",
    "    plt.plot(fpr[i], tpr[i], color=color, lw=2,\n",
    "             label=f'ROC curve of class {class_names[i]} (area = {roc_auc_dict[i]:0.2f})')\n",
    "\n",
    "plt.plot([0, 1], [0, 1], 'k--', lw=2)\n",
    "plt.xlim([-0.01, 1.0])\n",
    "plt.ylim([0.0, 1.05])\n",
    "plt.xlabel('False Positive Rate')\n",
    "plt.ylabel('True Positive Rate')\n",
    "plt.title('Receiver Operating Characteristic (ROC) Curves')\n",
    "plt.legend(loc=\"lower right\")\n",
    "plt.savefig(\"PDB_LSTM_resultImage/roc_curves.png\", dpi=600, bbox_inches='tight') \n",
    "plt.show()\n",
    "\n",
    "# Calculate per-class precision, recall (sensitivity), f1-score\n",
    "precision, recall, f1_score, _ = precision_recall_fscore_support(y_true, y_pred, labels=[0,1,2], zero_division=0)\n",
    "\n",
    "# Calculate specificity\n",
    "cm = confusion_matrix(y_true, y_pred, labels=[0,1,2])\n",
    "\n",
    "specificity = {}\n",
    "for i, cls in enumerate(class_names):\n",
    "    TN = np.sum(cm) - (np.sum(cm[i, :]) + np.sum(cm[:, i]) - cm[i, i])\n",
    "    FP = np.sum(cm[:, i]) - cm[i, i]\n",
    "    specificity[cls] = TN / (TN + FP) if (TN + FP) > 0 else 0.0\n",
    "\n",
    "# Calculate overall accuracy\n",
    "accuracy = accuracy_score(y_true, y_pred)\n",
    "\n",
    "# Print per-class metrics\n",
    "for i, cls in enumerate(class_names):\n",
    "    print(f\"Class {cls}:\")\n",
    "    print(f\"  Precision: {precision[i]:.4f}\")\n",
    "    print(f\"  Recall (Sensitivity): {recall[i]:.4f}\")\n",
    "    print(f\"  Specificity: {specificity[cls]:.4f}\")\n",
    "    print(f\"  F1-Score: {f1_score[i]:.4f}\")\n",
    "    print()\n",
    "\n",
    "print(f\"Overall Accuracy: {accuracy:.4f}\")"
   ]
  },
  {
   "cell_type": "code",
   "execution_count": null,
   "id": "83ecad96",
   "metadata": {},
   "outputs": [],
   "source": []
  }
 ],
 "metadata": {
  "kaggle": {
   "accelerator": "gpu",
   "dataSources": [
    {
     "datasetId": 6196313,
     "sourceId": 10055858,
     "sourceType": "datasetVersion"
    },
    {
     "datasetId": 6198107,
     "sourceId": 10058311,
     "sourceType": "datasetVersion"
    },
    {
     "datasetId": 6209243,
     "sourceId": 10073557,
     "sourceType": "datasetVersion"
    }
   ],
   "dockerImageVersionId": 30787,
   "isGpuEnabled": true,
   "isInternetEnabled": true,
   "language": "python",
   "sourceType": "notebook"
  },
  "kernelspec": {
   "display_name": "Python 3",
   "language": "python",
   "name": "python3"
  },
  "language_info": {
   "codemirror_mode": {
    "name": "ipython",
    "version": 3
   },
   "file_extension": ".py",
   "mimetype": "text/x-python",
   "name": "python",
   "nbconvert_exporter": "python",
   "pygments_lexer": "ipython3",
   "version": "3.10.9"
  },
  "papermill": {
   "default_parameters": {},
   "duration": 2354.782697,
   "end_time": "2024-12-02T07:44:36.636431",
   "environment_variables": {},
   "exception": null,
   "input_path": "__notebook__.ipynb",
   "output_path": "__notebook__.ipynb",
   "parameters": {},
   "start_time": "2024-12-02T07:05:21.853734",
   "version": "2.6.0"
  }
 },
 "nbformat": 4,
 "nbformat_minor": 5
}
