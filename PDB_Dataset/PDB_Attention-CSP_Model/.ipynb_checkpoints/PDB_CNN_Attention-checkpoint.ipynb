{
 "cells": [
  {
   "cell_type": "code",
   "execution_count": 1,
   "id": "d4906f15",
   "metadata": {
    "papermill": {
     "duration": 12.625204,
     "end_time": "2024-12-02T07:05:36.814225",
     "exception": false,
     "start_time": "2024-12-02T07:05:24.189021",
     "status": "completed"
    },
    "tags": []
   },
   "outputs": [
    {
     "name": "stderr",
     "output_type": "stream",
     "text": [
      "2025-04-17 21:42:17.400970: I tensorflow/core/util/util.cc:169] oneDNN custom operations are on. You may see slightly different numerical results due to floating-point round-off errors from different computation orders. To turn them off, set the environment variable `TF_ENABLE_ONEDNN_OPTS=0`.\n"
     ]
    }
   ],
   "source": [
    "import numpy as np\n",
    "import pandas as pd\n",
    "import tensorflow as tf\n",
    "from tensorflow.keras.models import Model\n",
    "from tensorflow.keras.layers import (\n",
    "    Input, Conv1D, Flatten, Reshape, Dense, Dropout, Bidirectional, TimeDistributed, Attention\n",
    ")\n",
    "from tensorflow.keras.utils import to_categorical\n",
    "from sklearn.model_selection import train_test_split\n",
    "import matplotlib.pyplot as plt"
   ]
  },
  {
   "cell_type": "code",
   "execution_count": 2,
   "id": "6bca5ad3",
   "metadata": {},
   "outputs": [
    {
     "name": "stdout",
     "output_type": "stream",
     "text": [
      "has_nonstd_aa data typr： bool\n",
      "The new data: 3387\n"
     ]
    }
   ],
   "source": [
    "df = pd.read_csv('PDB.csv')\n",
    "\n",
    "filtered_data = df[(df['len'] > 1000)]\n",
    "\n",
    "print(\"has_nonstd_aa data typr：\", df['has_nonstd_aa'].dtype)\n",
    "\n",
    "filtered_data = filtered_data[~filtered_data['has_nonstd_aa']]\n",
    "print(f\"The new data: {len(filtered_data)}\")\n",
    "filtered_data.to_csv('filtered_data.csv', index=False)"
   ]
  },
  {
   "cell_type": "code",
   "execution_count": 3,
   "id": "85fda9af",
   "metadata": {},
   "outputs": [
    {
     "name": "stdout",
     "output_type": "stream",
     "text": [
      "Index(['seq', 'sst8', 'sst3'], dtype='object')\n"
     ]
    }
   ],
   "source": [
    "columns_to_drop = ['pdb_id', 'chain_code', 'has_nonstd_aa', 'len', ]  \n",
    "filtered_data = filtered_data.drop(columns=columns_to_drop)\n",
    "print(filtered_data.columns)\n",
    "\n",
    "filtered_data.to_csv('clean_data.csv', index=False)"
   ]
  },
  {
   "cell_type": "code",
   "execution_count": null,
   "id": "e65dfaf1",
   "metadata": {
    "papermill": {
     "duration": 0.270829,
     "end_time": "2024-12-02T07:05:37.088957",
     "exception": false,
     "start_time": "2024-12-02T07:05:36.818128",
     "status": "completed"
    },
    "tags": []
   },
   "outputs": [
    {
     "data": {
      "text/html": [
       "<div>\n",
       "<style scoped>\n",
       "    .dataframe tbody tr th:only-of-type {\n",
       "        vertical-align: middle;\n",
       "    }\n",
       "\n",
       "    .dataframe tbody tr th {\n",
       "        vertical-align: top;\n",
       "    }\n",
       "\n",
       "    .dataframe thead th {\n",
       "        text-align: right;\n",
       "    }\n",
       "</style>\n",
       "<table border=\"1\" class=\"dataframe\">\n",
       "  <thead>\n",
       "    <tr style=\"text-align: right;\">\n",
       "      <th></th>\n",
       "      <th>seq</th>\n",
       "      <th>sst8</th>\n",
       "      <th>sst3</th>\n",
       "    </tr>\n",
       "  </thead>\n",
       "  <tbody>\n",
       "    <tr>\n",
       "      <th>2025</th>\n",
       "      <td>MDAKARNCLLQHREALEKDIKTSYIMDHMISDGFLTISEEEKVRNE...</td>\n",
       "      <td>CCCCCCCCCCCCCCCCCCCCCCCCCCCCCCCCCCCCCCCCCCCCCC...</td>\n",
       "      <td>CCCCCCCCCCCCCCCCCCCCCCCCCCCCCCCCCCCCCCCCCCCCCC...</td>\n",
       "    </tr>\n",
       "    <tr>\n",
       "      <th>3205</th>\n",
       "      <td>MKSPALQPLSMAGLQLMTPASSPMGPFFGLPWQQEAIHDNIYTPRK...</td>\n",
       "      <td>CCCCCCCCCCCCCCCCCCCCCCCCCCCCCCCCCCCCCCCCCCCCCH...</td>\n",
       "      <td>CCCCCCCCCCCCCCCCCCCCCCCCCCCCCCCCCCCCCCCCCCCCCH...</td>\n",
       "    </tr>\n",
       "    <tr>\n",
       "      <th>2912</th>\n",
       "      <td>MPLAFCGTENHSAAYRVDQGVLNNGCFVDALNVVPHVFLLFITFPI...</td>\n",
       "      <td>CCCCCCCCCCCCCCCCCCCCCCCCHHHHHHHHHHHHHHHHHHHHHH...</td>\n",
       "      <td>CCCCCCCCCCCCCCCCCCCCCCCCHHHHHHHHHHHHHHHHHHHHHH...</td>\n",
       "    </tr>\n",
       "    <tr>\n",
       "      <th>1373</th>\n",
       "      <td>MEIKRFGRIREVIPLPPLTEIQVESYRRALQADVPPEKRENVGIQA...</td>\n",
       "      <td>CCEEECCSCCCSSCCCCTTHHHHHHHHHHHCTTSCGGGCCSSSHHH...</td>\n",
       "      <td>CCEEECCCCCCCCCCCCCCHHHHHHHHHHHCCCCCHHHCCCCCHHH...</td>\n",
       "    </tr>\n",
       "    <tr>\n",
       "      <th>2633</th>\n",
       "      <td>MKDLLKFLKAQTKTEEFDAIKIALASPDMIRSWSFGEVKKPETINY...</td>\n",
       "      <td>CCCCCCCCCCCCCCCCCCCEEEEECCHHHHHHHEEEECCBSCCBCS...</td>\n",
       "      <td>CCCCCCCCCCCCCCCCCCCEEEEECCHHHHHHHEEEECCECCCECC...</td>\n",
       "    </tr>\n",
       "  </tbody>\n",
       "</table>\n",
       "</div>"
      ],
      "text/plain": [
       "                                                    seq  \\\n",
       "2025  MDAKARNCLLQHREALEKDIKTSYIMDHMISDGFLTISEEEKVRNE...   \n",
       "3205  MKSPALQPLSMAGLQLMTPASSPMGPFFGLPWQQEAIHDNIYTPRK...   \n",
       "2912  MPLAFCGTENHSAAYRVDQGVLNNGCFVDALNVVPHVFLLFITFPI...   \n",
       "1373  MEIKRFGRIREVIPLPPLTEIQVESYRRALQADVPPEKRENVGIQA...   \n",
       "2633  MKDLLKFLKAQTKTEEFDAIKIALASPDMIRSWSFGEVKKPETINY...   \n",
       "\n",
       "                                                   sst8  \\\n",
       "2025  CCCCCCCCCCCCCCCCCCCCCCCCCCCCCCCCCCCCCCCCCCCCCC...   \n",
       "3205  CCCCCCCCCCCCCCCCCCCCCCCCCCCCCCCCCCCCCCCCCCCCCH...   \n",
       "2912  CCCCCCCCCCCCCCCCCCCCCCCCHHHHHHHHHHHHHHHHHHHHHH...   \n",
       "1373  CCEEECCSCCCSSCCCCTTHHHHHHHHHHHCTTSCGGGCCSSSHHH...   \n",
       "2633  CCCCCCCCCCCCCCCCCCCEEEEECCHHHHHHHEEEECCBSCCBCS...   \n",
       "\n",
       "                                                   sst3  \n",
       "2025  CCCCCCCCCCCCCCCCCCCCCCCCCCCCCCCCCCCCCCCCCCCCCC...  \n",
       "3205  CCCCCCCCCCCCCCCCCCCCCCCCCCCCCCCCCCCCCCCCCCCCCH...  \n",
       "2912  CCCCCCCCCCCCCCCCCCCCCCCCHHHHHHHHHHHHHHHHHHHHHH...  \n",
       "1373  CCEEECCCCCCCCCCCCCCHHHHHHHHHHHCCCCCHHHCCCCCHHH...  \n",
       "2633  CCCCCCCCCCCCCCCCCCCEEEEECCHHHHHHHEEEECCECCCECC...  "
      ]
     },
     "metadata": {},
     "output_type": "display_data"
    },
    {
     "data": {
      "text/html": [
       "<div>\n",
       "<style scoped>\n",
       "    .dataframe tbody tr th:only-of-type {\n",
       "        vertical-align: middle;\n",
       "    }\n",
       "\n",
       "    .dataframe tbody tr th {\n",
       "        vertical-align: top;\n",
       "    }\n",
       "\n",
       "    .dataframe thead th {\n",
       "        text-align: right;\n",
       "    }\n",
       "</style>\n",
       "<table border=\"1\" class=\"dataframe\">\n",
       "  <thead>\n",
       "    <tr style=\"text-align: right;\">\n",
       "      <th></th>\n",
       "      <th>seq</th>\n",
       "      <th>sst8</th>\n",
       "      <th>sst3</th>\n",
       "    </tr>\n",
       "  </thead>\n",
       "  <tbody>\n",
       "    <tr>\n",
       "      <th>3381</th>\n",
       "      <td>MSEPGGGGGEDGSAGLEVSAVQNVADVSVLQKHLRKLVPLLLEDGG...</td>\n",
       "      <td>CCCCCCCCCCCCCCCCCCCCCCCCCCCCCCCCCCCCCCCCCCCCCC...</td>\n",
       "      <td>CCCCCCCCCCCCCCCCCCCCCCCCCCCCCCCCCCCCCCCCCCCCCC...</td>\n",
       "    </tr>\n",
       "    <tr>\n",
       "      <th>802</th>\n",
       "      <td>MGGSHHHHHHGMASMTGGQQMGRDLYDDDDKDPMIDPVVLQRRDWE...</td>\n",
       "      <td>CCCCCCCCCCCCCCCCCCCCCCCCCCCCCCCCCCCCCCHHHHCGGG...</td>\n",
       "      <td>CCCCCCCCCCCCCCCCCCCCCCCCCCCCCCCCCCCCCCHHHHCHHH...</td>\n",
       "    </tr>\n",
       "    <tr>\n",
       "      <th>3141</th>\n",
       "      <td>MVGQQYSSAPLRTVKEVQFGLFSPEEVRAISVAKIRFPETMDETQT...</td>\n",
       "      <td>CCCCCCCSSCBCCCCEEECCBCCHHHHHHHCSSBCCCCCCSCCSSC...</td>\n",
       "      <td>CCCCCCCCCCECCCCEEECCECCHHHHHHHCCCECCCCCCCCCCCC...</td>\n",
       "    </tr>\n",
       "    <tr>\n",
       "      <th>73</th>\n",
       "      <td>MKLSSACAIALLAAQAAGASIKHRINGFTLTEHSDPAKRELLQKYV...</td>\n",
       "      <td>CCCCCCCCCCCCCCCCCCCCCCCCCCCCCCCCCCCCCCCCCCCSSE...</td>\n",
       "      <td>CCCCCCCCCCCCCCCCCCCCCCCCCCCCCCCCCCCCCCCCCCCCCE...</td>\n",
       "    </tr>\n",
       "    <tr>\n",
       "      <th>3121</th>\n",
       "      <td>MVGQQYSSAPLRTVKEVQFGLFSPEEVRAISVAKIRFPETMDETQT...</td>\n",
       "      <td>CCCCCCCSSCBCCCCEEECCBCCHHHHHHHCSCBCCCCSCSCSSSS...</td>\n",
       "      <td>CCCCCCCCCCECCCCEEECCECCHHHHHHHCCCECCCCCCCCCCCC...</td>\n",
       "    </tr>\n",
       "  </tbody>\n",
       "</table>\n",
       "</div>"
      ],
      "text/plain": [
       "                                                    seq  \\\n",
       "3381  MSEPGGGGGEDGSAGLEVSAVQNVADVSVLQKHLRKLVPLLLEDGG...   \n",
       "802   MGGSHHHHHHGMASMTGGQQMGRDLYDDDDKDPMIDPVVLQRRDWE...   \n",
       "3141  MVGQQYSSAPLRTVKEVQFGLFSPEEVRAISVAKIRFPETMDETQT...   \n",
       "73    MKLSSACAIALLAAQAAGASIKHRINGFTLTEHSDPAKRELLQKYV...   \n",
       "3121  MVGQQYSSAPLRTVKEVQFGLFSPEEVRAISVAKIRFPETMDETQT...   \n",
       "\n",
       "                                                   sst8  \\\n",
       "3381  CCCCCCCCCCCCCCCCCCCCCCCCCCCCCCCCCCCCCCCCCCCCCC...   \n",
       "802   CCCCCCCCCCCCCCCCCCCCCCCCCCCCCCCCCCCCCCHHHHCGGG...   \n",
       "3141  CCCCCCCSSCBCCCCEEECCBCCHHHHHHHCSSBCCCCCCSCCSSC...   \n",
       "73    CCCCCCCCCCCCCCCCCCCCCCCCCCCCCCCCCCCCCCCCCCCSSE...   \n",
       "3121  CCCCCCCSSCBCCCCEEECCBCCHHHHHHHCSCBCCCCSCSCSSSS...   \n",
       "\n",
       "                                                   sst3  \n",
       "3381  CCCCCCCCCCCCCCCCCCCCCCCCCCCCCCCCCCCCCCCCCCCCCC...  \n",
       "802   CCCCCCCCCCCCCCCCCCCCCCCCCCCCCCCCCCCCCCHHHHCHHH...  \n",
       "3141  CCCCCCCCCCECCCCEEECCECCHHHHHHHCCCECCCCCCCCCCCC...  \n",
       "73    CCCCCCCCCCCCCCCCCCCCCCCCCCCCCCCCCCCCCCCCCCCCCE...  \n",
       "3121  CCCCCCCCCCECCCCEEECCECCHHHHHHHCCCECCCCCCCCCCCC...  "
      ]
     },
     "metadata": {},
     "output_type": "display_data"
    },
    {
     "data": {
      "text/html": [
       "<div>\n",
       "<style scoped>\n",
       "    .dataframe tbody tr th:only-of-type {\n",
       "        vertical-align: middle;\n",
       "    }\n",
       "\n",
       "    .dataframe tbody tr th {\n",
       "        vertical-align: top;\n",
       "    }\n",
       "\n",
       "    .dataframe thead th {\n",
       "        text-align: right;\n",
       "    }\n",
       "</style>\n",
       "<table border=\"1\" class=\"dataframe\">\n",
       "  <thead>\n",
       "    <tr style=\"text-align: right;\">\n",
       "      <th></th>\n",
       "      <th>seq</th>\n",
       "      <th>sst8</th>\n",
       "      <th>sst3</th>\n",
       "    </tr>\n",
       "  </thead>\n",
       "  <tbody>\n",
       "    <tr>\n",
       "      <th>581</th>\n",
       "      <td>MPNFFIDRPIFAWVIAIIIMLAGGLAILKLPVAQYPTIAPPAVTIS...</td>\n",
       "      <td>CCHHHHSCHHHHHHHHHHHHHHHHHHHHTCCBCSSCCCSCCEEEEE...</td>\n",
       "      <td>CCHHHHCCHHHHHHHHHHHHHHHHHHHHCCCECCCCCCCCCEEEEE...</td>\n",
       "    </tr>\n",
       "    <tr>\n",
       "      <th>2364</th>\n",
       "      <td>MTADELVFFVNGKKVVEKNADPETTLLVYLRRKLGLCGTKLGCGEG...</td>\n",
       "      <td>CCCCCEEEEETTEEEEETTCCTTCBHHHHHHHTSCCTTSCCSCSSS...</td>\n",
       "      <td>CCCCCEEEEECCEEEEECCCCCCCEHHHHHHHCCCCCCCCCCCCCC...</td>\n",
       "    </tr>\n",
       "    <tr>\n",
       "      <th>1108</th>\n",
       "      <td>GHMQEGEQLMSYINRDLENLQERIIARANEWLAAEQKSAKSKETEQ...</td>\n",
       "      <td>CCCCCCCCCCTTCCSHHHHHHHHHHHHHHHHHCCCCCCCCCCCCCC...</td>\n",
       "      <td>CCCCCCCCCCCCCCCHHHHHHHHHHHHHHHHHCCCCCCCCCCCCCC...</td>\n",
       "    </tr>\n",
       "    <tr>\n",
       "      <th>478</th>\n",
       "      <td>VSFRQKRTRIPLLAMTVTALAAAVCGVTTAPAATGAEVAVPLSVGA...</td>\n",
       "      <td>CCCCCCCCCCCCCCCCCCCCCCCCCCCCCCCCCCCCCCCCCCCCCC...</td>\n",
       "      <td>CCCCCCCCCCCCCCCCCCCCCCCCCCCCCCCCCCCCCCCCCCCCCC...</td>\n",
       "    </tr>\n",
       "    <tr>\n",
       "      <th>811</th>\n",
       "      <td>MGGSHHHHHHGMASMTGGQQMGRDLYDDDDKDPMIDPVVLQRRDWE...</td>\n",
       "      <td>CCCCCCCCCCCCCCCCCCCCCCCCCCCCCCCCCCCCCCCCCCCGGG...</td>\n",
       "      <td>CCCCCCCCCCCCCCCCCCCCCCCCCCCCCCCCCCCCCCCCCCCHHH...</td>\n",
       "    </tr>\n",
       "  </tbody>\n",
       "</table>\n",
       "</div>"
      ],
      "text/plain": [
       "                                                    seq  \\\n",
       "581   MPNFFIDRPIFAWVIAIIIMLAGGLAILKLPVAQYPTIAPPAVTIS...   \n",
       "2364  MTADELVFFVNGKKVVEKNADPETTLLVYLRRKLGLCGTKLGCGEG...   \n",
       "1108  GHMQEGEQLMSYINRDLENLQERIIARANEWLAAEQKSAKSKETEQ...   \n",
       "478   VSFRQKRTRIPLLAMTVTALAAAVCGVTTAPAATGAEVAVPLSVGA...   \n",
       "811   MGGSHHHHHHGMASMTGGQQMGRDLYDDDDKDPMIDPVVLQRRDWE...   \n",
       "\n",
       "                                                   sst8  \\\n",
       "581   CCHHHHSCHHHHHHHHHHHHHHHHHHHHTCCBCSSCCCSCCEEEEE...   \n",
       "2364  CCCCCEEEEETTEEEEETTCCTTCBHHHHHHHTSCCTTSCCSCSSS...   \n",
       "1108  CCCCCCCCCCTTCCSHHHHHHHHHHHHHHHHHCCCCCCCCCCCCCC...   \n",
       "478   CCCCCCCCCCCCCCCCCCCCCCCCCCCCCCCCCCCCCCCCCCCCCC...   \n",
       "811   CCCCCCCCCCCCCCCCCCCCCCCCCCCCCCCCCCCCCCCCCCCGGG...   \n",
       "\n",
       "                                                   sst3  \n",
       "581   CCHHHHCCHHHHHHHHHHHHHHHHHHHHCCCECCCCCCCCCEEEEE...  \n",
       "2364  CCCCCEEEEECCEEEEECCCCCCCEHHHHHHHCCCCCCCCCCCCCC...  \n",
       "1108  CCCCCCCCCCCCCCCHHHHHHHHHHHHHHHHHCCCCCCCCCCCCCC...  \n",
       "478   CCCCCCCCCCCCCCCCCCCCCCCCCCCCCCCCCCCCCCCCCCCCCC...  \n",
       "811   CCCCCCCCCCCCCCCCCCCCCCCCCCCCCCCCCCCCCCCCCCCHHH...  "
      ]
     },
     "metadata": {},
     "output_type": "display_data"
    },
    {
     "name": "stdout",
     "output_type": "stream",
     "text": [
      "train set: 2709\n",
      "valid set: 339\n",
      "test set: 339\n"
     ]
    }
   ],
   "source": [
    "combined = pd.read_csv('clean_data.csv')  \n",
    "\n",
    "train_df, temp_df = train_test_split(combined, test_size=0.2, random_state=42)\n",
    "valid_df, test_df = train_test_split(temp_df, test_size=0.5, random_state=42)\n",
    "\n",
    "display(train_df.head())\n",
    "display(valid_df.head())\n",
    "display(test_df.head())\n",
    "print(f\"train set: {len(train_df)}\")\n",
    "print(f\"valid set: {len(valid_df)}\")\n",
    "print(f\"test set: {len(test_df)}\")"
   ]
  },
  {
   "cell_type": "code",
   "execution_count": 5,
   "id": "e1c16b49",
   "metadata": {
    "papermill": {
     "duration": 0.26043,
     "end_time": "2024-12-02T07:05:37.354624",
     "exception": false,
     "start_time": "2024-12-02T07:05:37.094194",
     "status": "completed"
    },
    "tags": []
   },
   "outputs": [
    {
     "data": {
      "text/html": [
       "<div>\n",
       "<style scoped>\n",
       "    .dataframe tbody tr th:only-of-type {\n",
       "        vertical-align: middle;\n",
       "    }\n",
       "\n",
       "    .dataframe tbody tr th {\n",
       "        vertical-align: top;\n",
       "    }\n",
       "\n",
       "    .dataframe thead th {\n",
       "        text-align: right;\n",
       "    }\n",
       "</style>\n",
       "<table border=\"1\" class=\"dataframe\">\n",
       "  <thead>\n",
       "    <tr style=\"text-align: right;\">\n",
       "      <th></th>\n",
       "      <th>sst8</th>\n",
       "      <th>sst3_mapped</th>\n",
       "    </tr>\n",
       "  </thead>\n",
       "  <tbody>\n",
       "    <tr>\n",
       "      <th>2025</th>\n",
       "      <td>CCCCCCCCCCCCCCCCCCCCCCCCCCCCCCCCCCCCCCCCCCCCCC...</td>\n",
       "      <td>CCCCCCCCCCCCCCCCCCCCCCCCCCCCCCCCCCCCCCCCCCCCCC...</td>\n",
       "    </tr>\n",
       "    <tr>\n",
       "      <th>3205</th>\n",
       "      <td>CCCCCCCCCCCCCCCCCCCCCCCCCCCCCCCCCCCCCCCCCCCCCH...</td>\n",
       "      <td>CCCCCCCCCCCCCCCCCCCCCCCCCCCCCCCCCCCCCCCCCCCCCH...</td>\n",
       "    </tr>\n",
       "    <tr>\n",
       "      <th>2912</th>\n",
       "      <td>CCCCCCCCCCCCCCCCCCCCCCCCHHHHHHHHHHHHHHHHHHHHHH...</td>\n",
       "      <td>CCCCCCCCCCCCCCCCCCCCCCCCHHHHHHHHHHHHHHHHHHHHHH...</td>\n",
       "    </tr>\n",
       "    <tr>\n",
       "      <th>1373</th>\n",
       "      <td>CCEEECCSCCCSSCCCCTTHHHHHHHHHHHCTTSCGGGCCSSSHHH...</td>\n",
       "      <td>CCEEECCCCCCCCCCCCCCHHHHHHHHHHHCCCCCHHHCCCCCHHH...</td>\n",
       "    </tr>\n",
       "    <tr>\n",
       "      <th>2633</th>\n",
       "      <td>CCCCCCCCCCCCCCCCCCCEEEEECCHHHHHHHEEEECCBSCCBCS...</td>\n",
       "      <td>CCCCCCCCCCCCCCCCCCCEEEEECCHHHHHHHEEEECCECCCECC...</td>\n",
       "    </tr>\n",
       "  </tbody>\n",
       "</table>\n",
       "</div>"
      ],
      "text/plain": [
       "                                                   sst8  \\\n",
       "2025  CCCCCCCCCCCCCCCCCCCCCCCCCCCCCCCCCCCCCCCCCCCCCC...   \n",
       "3205  CCCCCCCCCCCCCCCCCCCCCCCCCCCCCCCCCCCCCCCCCCCCCH...   \n",
       "2912  CCCCCCCCCCCCCCCCCCCCCCCCHHHHHHHHHHHHHHHHHHHHHH...   \n",
       "1373  CCEEECCSCCCSSCCCCTTHHHHHHHHHHHCTTSCGGGCCSSSHHH...   \n",
       "2633  CCCCCCCCCCCCCCCCCCCEEEEECCHHHHHHHEEEECCBSCCBCS...   \n",
       "\n",
       "                                            sst3_mapped  \n",
       "2025  CCCCCCCCCCCCCCCCCCCCCCCCCCCCCCCCCCCCCCCCCCCCCC...  \n",
       "3205  CCCCCCCCCCCCCCCCCCCCCCCCCCCCCCCCCCCCCCCCCCCCCH...  \n",
       "2912  CCCCCCCCCCCCCCCCCCCCCCCCHHHHHHHHHHHHHHHHHHHHHH...  \n",
       "1373  CCEEECCCCCCCCCCCCCCHHHHHHHHHHHCCCCCHHHCCCCCHHH...  \n",
       "2633  CCCCCCCCCCCCCCCCCCCEEEEECCHHHHHHHEEEECCECCCECC...  "
      ]
     },
     "metadata": {},
     "output_type": "display_data"
    }
   ],
   "source": [
    "sst8_to_sst3 = {\n",
    "    'H': 'H', 'G': 'H', 'I': 'H',\n",
    "    'E': 'E', 'B': 'E',\n",
    "    'T': 'C', 'S': 'C', 'C': 'C'\n",
    "}\n",
    "\n",
    "def map_sst8_to_sst3(sst8):\n",
    "    return ''.join([sst8_to_sst3.get(char, 'C') for char in sst8])\n",
    "\n",
    "train_df['sst3_mapped'] = train_df['sst8'].apply(map_sst8_to_sst3)\n",
    "valid_df['sst3_mapped'] = valid_df['sst8'].apply(map_sst8_to_sst3)\n",
    "test_df['sst3_mapped'] = test_df['sst8'].apply(map_sst8_to_sst3)\n",
    "\n",
    "display(train_df[['sst8', 'sst3_mapped']].head())"
   ]
  },
  {
   "cell_type": "code",
   "execution_count": 6,
   "id": "c7a2bd99",
   "metadata": {
    "papermill": {
     "duration": 2.631889,
     "end_time": "2024-12-02T07:05:39.991092",
     "exception": false,
     "start_time": "2024-12-02T07:05:37.359203",
     "status": "completed"
    },
    "tags": []
   },
   "outputs": [
    {
     "data": {
      "text/plain": [
       "array([[0., 0., 0., ..., 0., 0., 0.],\n",
       "       [0., 0., 1., ..., 0., 0., 0.],\n",
       "       [1., 0., 0., ..., 0., 0., 0.],\n",
       "       ...,\n",
       "       [0., 0., 0., ..., 0., 0., 1.],\n",
       "       [0., 0., 0., ..., 0., 0., 1.],\n",
       "       [0., 0., 0., ..., 0., 0., 1.]], dtype=float32)"
      ]
     },
     "metadata": {},
     "output_type": "display_data"
    },
    {
     "data": {
      "text/plain": [
       "array([[0., 0., 0., ..., 0., 0., 0.],\n",
       "       [0., 0., 0., ..., 0., 0., 0.],\n",
       "       [0., 0., 0., ..., 0., 0., 0.],\n",
       "       ...,\n",
       "       [0., 0., 0., ..., 0., 0., 1.],\n",
       "       [0., 0., 0., ..., 0., 0., 1.],\n",
       "       [0., 0., 0., ..., 0., 0., 1.]], dtype=float32)"
      ]
     },
     "metadata": {},
     "output_type": "display_data"
    },
    {
     "name": "stdout",
     "output_type": "stream",
     "text": [
      "train one-hot shape: (2709, 5037, 21)\n",
      "valid one-hot shape: (339, 5037, 21)\n",
      "test one-hot shape: (339, 5037, 21)\n"
     ]
    }
   ],
   "source": [
    "def one_hot_encode_sequences(sequences, max_len=None):\n",
    "    amino_acids = 'ACDEFGHIKLMNPQRSTVWY'\n",
    "    aa_to_int = {aa: idx for idx, aa in enumerate(amino_acids)}\n",
    "    aa_to_int['X'] = len(amino_acids)  \n",
    "    \n",
    "    integer_encoded = []\n",
    "    for seq in sequences:\n",
    "        encoded = [aa_to_int.get(aa, len(amino_acids)) for aa in seq]\n",
    "        integer_encoded.append(encoded)\n",
    "    \n",
    "    if not max_len:\n",
    "        max_len = max(len(seq) for seq in integer_encoded)\n",
    "    \n",
    "    padded_encoded = tf.keras.preprocessing.sequence.pad_sequences(\n",
    "        integer_encoded, maxlen=max_len, padding='post', truncating='post', value=len(amino_acids)\n",
    "    )\n",
    "    \n",
    "    one_hot_encoded = to_categorical(padded_encoded, num_classes=len(amino_acids)+1)\n",
    "    \n",
    "    return one_hot_encoded, max_len\n",
    "\n",
    "X_train, max_len = one_hot_encode_sequences(train_df['seq'])\n",
    "\n",
    "X_valid, _ = one_hot_encode_sequences(valid_df['seq'], max_len)\n",
    "\n",
    "X_test, _ = one_hot_encode_sequences(test_df['seq'], max_len)\n",
    "\n",
    "display(X_train[0])\n",
    "display(X_valid[0])\n",
    "\n",
    "print(f\"train one-hot shape: {X_train.shape}\")\n",
    "print(f\"valid one-hot shape: {X_valid.shape}\")\n",
    "print(f\"test one-hot shape: {X_test.shape}\")"
   ]
  },
  {
   "cell_type": "code",
   "execution_count": 7,
   "id": "0ebe833c",
   "metadata": {
    "papermill": {
     "duration": 0.835394,
     "end_time": "2024-12-02T07:05:40.830974",
     "exception": false,
     "start_time": "2024-12-02T07:05:39.995580",
     "status": "completed"
    },
    "tags": []
   },
   "outputs": [
    {
     "data": {
      "text/plain": [
       "array([[0., 0., 1.],\n",
       "       [0., 0., 1.],\n",
       "       [0., 0., 1.],\n",
       "       ...,\n",
       "       [0., 0., 1.],\n",
       "       [0., 0., 1.],\n",
       "       [0., 0., 1.]], dtype=float32)"
      ]
     },
     "metadata": {},
     "output_type": "display_data"
    },
    {
     "data": {
      "text/plain": [
       "array([[0., 0., 1.],\n",
       "       [0., 0., 1.],\n",
       "       [0., 0., 1.],\n",
       "       ...,\n",
       "       [0., 0., 1.],\n",
       "       [0., 0., 1.],\n",
       "       [0., 0., 1.]], dtype=float32)"
      ]
     },
     "metadata": {},
     "output_type": "display_data"
    },
    {
     "name": "stdout",
     "output_type": "stream",
     "text": [
      "train label one-hot shape: (2709, 5037, 3)\n",
      "valid label one-hot shape: (339, 5037, 3)\n",
      "test label one-hot shape: (339, 5037, 3)\n"
     ]
    }
   ],
   "source": [
    "def one_hot_encode_labels(labels, max_len):\n",
    "    sec_structs = ['H', 'E', 'C']\n",
    "    struct_to_int = {s: idx for idx, s in enumerate(sec_structs)}\n",
    "    \n",
    "    integer_encoded = []\n",
    "    for lbl in labels:\n",
    "        encoded = [struct_to_int.get(s, 2) for s in lbl]  \n",
    "        integer_encoded.append(encoded)\n",
    "    \n",
    "    padded_encoded = tf.keras.preprocessing.sequence.pad_sequences(\n",
    "        integer_encoded, maxlen=max_len, padding='post', truncating='post', value=2\n",
    "    )\n",
    "    \n",
    "    y = to_categorical(padded_encoded, num_classes=len(sec_structs))\n",
    "    \n",
    "    return y\n",
    "\n",
    "\n",
    "y_train = one_hot_encode_labels(train_df['sst3_mapped'], max_len)\n",
    "\n",
    "y_valid = one_hot_encode_labels(valid_df['sst3_mapped'], max_len)\n",
    "\n",
    "y_test = one_hot_encode_labels(test_df['sst3_mapped'], max_len)\n",
    "\n",
    "display(y_train[0])\n",
    "display(y_valid[0])\n",
    "\n",
    "print(f\"train label one-hot shape: {y_train.shape}\")\n",
    "print(f\"valid label one-hot shape: {y_valid.shape}\")\n",
    "print(f\"test label one-hot shape: {y_test.shape}\")"
   ]
  },
  {
   "cell_type": "code",
   "execution_count": 8,
   "id": "95190e57",
   "metadata": {
    "papermill": {
     "duration": 0.254308,
     "end_time": "2024-12-02T07:05:41.090120",
     "exception": false,
     "start_time": "2024-12-02T07:05:40.835812",
     "status": "completed"
    },
    "tags": []
   },
   "outputs": [
    {
     "name": "stdout",
     "output_type": "stream",
     "text": [
      "GPUs [PhysicalDevice(name='/physical_device:GPU:0', device_type='GPU')] are available and configured.\n"
     ]
    }
   ],
   "source": [
    "import tensorflow as tf\n",
    "\n",
    "# Verify GPU availability\n",
    "gpus = tf.config.list_physical_devices('GPU')\n",
    "if gpus:\n",
    "    try:\n",
    "        # Enable memory growth for each GPU\n",
    "        for gpu in gpus:\n",
    "            tf.config.experimental.set_memory_growth(gpu, True)\n",
    "        print(f\"GPUs {gpus} are available and configured.\")\n",
    "    except RuntimeError as e:\n",
    "        print(e)\n",
    "else:\n",
    "    print(\"No GPU available. Using CPU.\")"
   ]
  },
  {
   "cell_type": "code",
   "execution_count": 9,
   "id": "596cf724",
   "metadata": {
    "papermill": {
     "duration": 0.750126,
     "end_time": "2024-12-02T07:05:41.860294",
     "exception": false,
     "start_time": "2024-12-02T07:05:41.110168",
     "status": "completed"
    },
    "tags": []
   },
   "outputs": [
    {
     "name": "stdout",
     "output_type": "stream",
     "text": [
      "Model: \"model\"\n",
      "__________________________________________________________________________________________________\n",
      " Layer (type)                   Output Shape         Param #     Connected to                     \n",
      "==================================================================================================\n",
      " input_1 (InputLayer)           [(None, 5037, 21)]   0           []                               \n",
      "                                                                                                  \n",
      " conv1d (Conv1D)                (None, 5037, 64)     4096        ['input_1[0][0]']                \n",
      "                                                                                                  \n",
      " conv1d_1 (Conv1D)              (None, 5037, 128)    24704       ['conv1d[0][0]']                 \n",
      "                                                                                                  \n",
      " conv1d_2 (Conv1D)              (None, 5037, 256)    98560       ['conv1d_1[0][0]']               \n",
      "                                                                                                  \n",
      " attention (Attention)          (None, 5037, 256)    0           ['conv1d_2[0][0]',               \n",
      "                                                                  'conv1d_2[0][0]']               \n",
      "                                                                                                  \n",
      " time_distributed (TimeDistribu  (None, 5037, 64)    16448       ['attention[0][0]']              \n",
      " ted)                                                                                             \n",
      "                                                                                                  \n",
      " dropout (Dropout)              (None, 5037, 64)     0           ['time_distributed[0][0]']       \n",
      "                                                                                                  \n",
      " time_distributed_1 (TimeDistri  (None, 5037, 3)     195         ['dropout[0][0]']                \n",
      " buted)                                                                                           \n",
      "                                                                                                  \n",
      "==================================================================================================\n",
      "Total params: 144,003\n",
      "Trainable params: 144,003\n",
      "Non-trainable params: 0\n",
      "__________________________________________________________________________________________________\n"
     ]
    },
    {
     "name": "stderr",
     "output_type": "stream",
     "text": [
      "2025-04-17 21:42:25.175345: I tensorflow/core/platform/cpu_feature_guard.cc:193] This TensorFlow binary is optimized with oneAPI Deep Neural Network Library (oneDNN) to use the following CPU instructions in performance-critical operations:  AVX2 AVX512F AVX512_VNNI FMA\n",
      "To enable them in other operations, rebuild TensorFlow with the appropriate compiler flags.\n",
      "2025-04-17 21:42:25.638768: I tensorflow/core/common_runtime/gpu/gpu_device.cc:1532] Created device /job:localhost/replica:0/task:0/device:GPU:0 with 22302 MB memory:  -> device: 0, name: NVIDIA GeForce RTX 3090, pci bus id: 0000:a0:00.0, compute capability: 8.6\n"
     ]
    }
   ],
   "source": [
    "input_layer_cnn_attn = Input(shape=(max_len, X_train.shape[2]))\n",
    "\n",
    "\n",
    "conv1 = Conv1D(filters=64, kernel_size=3, activation='relu', padding='same')(input_layer_cnn_attn)\n",
    "conv2 = Conv1D(filters=128, kernel_size=3, activation='relu', padding='same')(conv1)\n",
    "conv3 = Conv1D(filters=256, kernel_size=3, activation='relu', padding='same')(conv2)\n",
    "\n",
    "attention = Attention()([conv3, conv3])\n",
    "\n",
    "\n",
    "dense = TimeDistributed(Dense(64, activation='relu'))(attention)\n",
    "dropout = Dropout(0.5)(dense)\n",
    "\n",
    "output_layer_cnn_attn = TimeDistributed(Dense(3, activation='softmax'))(dropout)\n",
    "\n",
    "\n",
    "model = Model(inputs=input_layer_cnn_attn, outputs=output_layer_cnn_attn)\n",
    "\n",
    "model.compile(optimizer='adam',\n",
    "                       loss='categorical_crossentropy',\n",
    "                       metrics=['accuracy', tf.keras.metrics.Precision(), tf.keras.metrics.Recall()])\n",
    "\n",
    "model.summary()"
   ]
  },
  {
   "cell_type": "code",
   "execution_count": 10,
   "id": "afe64908",
   "metadata": {
    "papermill": {
     "duration": 2290.319704,
     "end_time": "2024-12-02T07:43:52.202522",
     "exception": false,
     "start_time": "2024-12-02T07:05:41.882818",
     "status": "completed"
    },
    "tags": []
   },
   "outputs": [
    {
     "name": "stdout",
     "output_type": "stream",
     "text": [
      "Epoch 1/50\n"
     ]
    },
    {
     "name": "stderr",
     "output_type": "stream",
     "text": [
      "2025-04-17 21:42:28.309917: I tensorflow/stream_executor/cuda/cuda_dnn.cc:384] Loaded cuDNN version 8101\n",
      "2025-04-17 21:42:29.909892: I tensorflow/stream_executor/cuda/cuda_blas.cc:1786] TensorFloat-32 will be used for the matrix multiplication. This will only be logged once.\n"
     ]
    },
    {
     "name": "stdout",
     "output_type": "stream",
     "text": [
      "85/85 [==============================] - 19s 183ms/step - loss: 0.3695 - accuracy: 0.8672 - precision: 0.9169 - recall: 0.7924 - val_loss: 0.2484 - val_accuracy: 0.8739 - val_precision: 0.9688 - val_recall: 0.8069\n",
      "Epoch 2/50\n",
      "85/85 [==============================] - 15s 177ms/step - loss: 0.2466 - accuracy: 0.8842 - precision: 0.9690 - recall: 0.8080 - val_loss: 0.2406 - val_accuracy: 0.8909 - val_precision: 0.9704 - val_recall: 0.8097\n",
      "Epoch 3/50\n",
      "85/85 [==============================] - 18s 209ms/step - loss: 0.2437 - accuracy: 0.8871 - precision: 0.9639 - recall: 0.8154 - val_loss: 0.2399 - val_accuracy: 0.8904 - val_precision: 0.9803 - val_recall: 0.7991\n",
      "Epoch 4/50\n",
      "85/85 [==============================] - 26s 305ms/step - loss: 0.2389 - accuracy: 0.8910 - precision: 0.9579 - recall: 0.8272 - val_loss: 0.2339 - val_accuracy: 0.8944 - val_precision: 0.9642 - val_recall: 0.8240\n",
      "Epoch 5/50\n",
      "85/85 [==============================] - 27s 314ms/step - loss: 0.2355 - accuracy: 0.8931 - precision: 0.9548 - recall: 0.8341 - val_loss: 0.2305 - val_accuracy: 0.8952 - val_precision: 0.9495 - val_recall: 0.8479\n",
      "Epoch 6/50\n",
      "85/85 [==============================] - 27s 314ms/step - loss: 0.2317 - accuracy: 0.8959 - precision: 0.9531 - recall: 0.8405 - val_loss: 0.2313 - val_accuracy: 0.8949 - val_precision: 0.9487 - val_recall: 0.8444\n",
      "Epoch 7/50\n",
      "85/85 [==============================] - 27s 316ms/step - loss: 0.2297 - accuracy: 0.8971 - precision: 0.9527 - recall: 0.8435 - val_loss: 0.2227 - val_accuracy: 0.8991 - val_precision: 0.9436 - val_recall: 0.8627\n",
      "Epoch 8/50\n",
      "85/85 [==============================] - 27s 315ms/step - loss: 0.2258 - accuracy: 0.8992 - precision: 0.9526 - recall: 0.8487 - val_loss: 0.2220 - val_accuracy: 0.9000 - val_precision: 0.9599 - val_recall: 0.8483\n",
      "Epoch 9/50\n",
      "85/85 [==============================] - 27s 315ms/step - loss: 0.2222 - accuracy: 0.9009 - precision: 0.9534 - recall: 0.8523 - val_loss: 0.2211 - val_accuracy: 0.8982 - val_precision: 0.9518 - val_recall: 0.8540\n",
      "Epoch 10/50\n",
      "85/85 [==============================] - 21s 242ms/step - loss: 0.2200 - accuracy: 0.9014 - precision: 0.9540 - recall: 0.8542 - val_loss: 0.2139 - val_accuracy: 0.9023 - val_precision: 0.9583 - val_recall: 0.8568\n",
      "Epoch 11/50\n",
      "85/85 [==============================] - 15s 179ms/step - loss: 0.2183 - accuracy: 0.9014 - precision: 0.9546 - recall: 0.8550 - val_loss: 0.2114 - val_accuracy: 0.9028 - val_precision: 0.9572 - val_recall: 0.8596\n",
      "Epoch 12/50\n",
      "85/85 [==============================] - 16s 183ms/step - loss: 0.2135 - accuracy: 0.9034 - precision: 0.9552 - recall: 0.8592 - val_loss: 0.2077 - val_accuracy: 0.9039 - val_precision: 0.9480 - val_recall: 0.8722\n",
      "Epoch 13/50\n",
      "85/85 [==============================] - 15s 178ms/step - loss: 0.2104 - accuracy: 0.9042 - precision: 0.9554 - recall: 0.8617 - val_loss: 0.2050 - val_accuracy: 0.9041 - val_precision: 0.9580 - val_recall: 0.8631\n",
      "Epoch 14/50\n",
      "85/85 [==============================] - 15s 179ms/step - loss: 0.2084 - accuracy: 0.9058 - precision: 0.9560 - recall: 0.8619 - val_loss: 0.2030 - val_accuracy: 0.9102 - val_precision: 0.9520 - val_recall: 0.8682\n",
      "Epoch 15/50\n",
      "85/85 [==============================] - 15s 179ms/step - loss: 0.2044 - accuracy: 0.9084 - precision: 0.9553 - recall: 0.8664 - val_loss: 0.1980 - val_accuracy: 0.9143 - val_precision: 0.9597 - val_recall: 0.8651\n",
      "Epoch 16/50\n",
      "85/85 [==============================] - 15s 178ms/step - loss: 0.2042 - accuracy: 0.9084 - precision: 0.9539 - recall: 0.8681 - val_loss: 0.1994 - val_accuracy: 0.9125 - val_precision: 0.9497 - val_recall: 0.8730\n",
      "Epoch 17/50\n",
      "85/85 [==============================] - 15s 178ms/step - loss: 0.2013 - accuracy: 0.9109 - precision: 0.9537 - recall: 0.8714 - val_loss: 0.1953 - val_accuracy: 0.9144 - val_precision: 0.9469 - val_recall: 0.8837\n",
      "Epoch 18/50\n",
      "85/85 [==============================] - 15s 180ms/step - loss: 0.1990 - accuracy: 0.9133 - precision: 0.9532 - recall: 0.8743 - val_loss: 0.1971 - val_accuracy: 0.9131 - val_precision: 0.9430 - val_recall: 0.8846\n",
      "Epoch 19/50\n",
      "85/85 [==============================] - 15s 180ms/step - loss: 0.1952 - accuracy: 0.9156 - precision: 0.9526 - recall: 0.8795 - val_loss: 0.1865 - val_accuracy: 0.9192 - val_precision: 0.9523 - val_recall: 0.8878\n",
      "Epoch 20/50\n",
      "85/85 [==============================] - 15s 178ms/step - loss: 0.1956 - accuracy: 0.9154 - precision: 0.9524 - recall: 0.8794 - val_loss: 0.1871 - val_accuracy: 0.9181 - val_precision: 0.9545 - val_recall: 0.8851\n",
      "Epoch 21/50\n",
      "85/85 [==============================] - 15s 178ms/step - loss: 0.1911 - accuracy: 0.9176 - precision: 0.9534 - recall: 0.8827 - val_loss: 0.1814 - val_accuracy: 0.9211 - val_precision: 0.9511 - val_recall: 0.8938\n",
      "Epoch 22/50\n",
      "85/85 [==============================] - 15s 178ms/step - loss: 0.1885 - accuracy: 0.9191 - precision: 0.9536 - recall: 0.8851 - val_loss: 0.1810 - val_accuracy: 0.9206 - val_precision: 0.9484 - val_recall: 0.8963\n",
      "Epoch 23/50\n",
      "85/85 [==============================] - 15s 178ms/step - loss: 0.1875 - accuracy: 0.9196 - precision: 0.9536 - recall: 0.8862 - val_loss: 0.1777 - val_accuracy: 0.9227 - val_precision: 0.9497 - val_recall: 0.8981\n",
      "Epoch 24/50\n",
      "85/85 [==============================] - 15s 179ms/step - loss: 0.1848 - accuracy: 0.9211 - precision: 0.9537 - recall: 0.8886 - val_loss: 0.1749 - val_accuracy: 0.9239 - val_precision: 0.9526 - val_recall: 0.8972\n",
      "Epoch 25/50\n",
      "85/85 [==============================] - 15s 179ms/step - loss: 0.1817 - accuracy: 0.9224 - precision: 0.9538 - recall: 0.8913 - val_loss: 0.1743 - val_accuracy: 0.9243 - val_precision: 0.9558 - val_recall: 0.8945\n",
      "Epoch 26/50\n",
      "85/85 [==============================] - 15s 178ms/step - loss: 0.1798 - accuracy: 0.9231 - precision: 0.9542 - recall: 0.8925 - val_loss: 0.1722 - val_accuracy: 0.9247 - val_precision: 0.9521 - val_recall: 0.8994\n",
      "Epoch 27/50\n",
      "85/85 [==============================] - 15s 180ms/step - loss: 0.1787 - accuracy: 0.9236 - precision: 0.9540 - recall: 0.8937 - val_loss: 0.1723 - val_accuracy: 0.9246 - val_precision: 0.9499 - val_recall: 0.9009\n",
      "Epoch 28/50\n",
      "85/85 [==============================] - 15s 178ms/step - loss: 0.1763 - accuracy: 0.9247 - precision: 0.9542 - recall: 0.8955 - val_loss: 0.1693 - val_accuracy: 0.9262 - val_precision: 0.9544 - val_recall: 0.8997\n",
      "Epoch 29/50\n",
      "85/85 [==============================] - 15s 179ms/step - loss: 0.1746 - accuracy: 0.9255 - precision: 0.9547 - recall: 0.8968 - val_loss: 0.1716 - val_accuracy: 0.9255 - val_precision: 0.9535 - val_recall: 0.8981\n",
      "Epoch 30/50\n",
      "85/85 [==============================] - 15s 177ms/step - loss: 0.1745 - accuracy: 0.9256 - precision: 0.9547 - recall: 0.8968 - val_loss: 0.1726 - val_accuracy: 0.9248 - val_precision: 0.9489 - val_recall: 0.9033\n",
      "Epoch 31/50\n",
      "85/85 [==============================] - 15s 179ms/step - loss: 0.1741 - accuracy: 0.9257 - precision: 0.9545 - recall: 0.8972 - val_loss: 0.1661 - val_accuracy: 0.9274 - val_precision: 0.9502 - val_recall: 0.9064\n",
      "Epoch 32/50\n",
      "85/85 [==============================] - 15s 178ms/step - loss: 0.1720 - accuracy: 0.9266 - precision: 0.9547 - recall: 0.8989 - val_loss: 0.1651 - val_accuracy: 0.9285 - val_precision: 0.9549 - val_recall: 0.9025\n",
      "Epoch 33/50\n",
      "85/85 [==============================] - 15s 177ms/step - loss: 0.1692 - accuracy: 0.9280 - precision: 0.9553 - recall: 0.9010 - val_loss: 0.1661 - val_accuracy: 0.9281 - val_precision: 0.9491 - val_recall: 0.9089\n",
      "Epoch 34/50\n",
      "85/85 [==============================] - 15s 177ms/step - loss: 0.1724 - accuracy: 0.9263 - precision: 0.9545 - recall: 0.8985 - val_loss: 0.1629 - val_accuracy: 0.9292 - val_precision: 0.9552 - val_recall: 0.9046\n",
      "Epoch 35/50\n",
      "85/85 [==============================] - 15s 180ms/step - loss: 0.1667 - accuracy: 0.9291 - precision: 0.9557 - recall: 0.9028 - val_loss: 0.1705 - val_accuracy: 0.9278 - val_precision: 0.9489 - val_recall: 0.9081\n",
      "Epoch 36/50\n",
      "85/85 [==============================] - 15s 178ms/step - loss: 0.1657 - accuracy: 0.9296 - precision: 0.9558 - recall: 0.9038 - val_loss: 0.1596 - val_accuracy: 0.9303 - val_precision: 0.9521 - val_recall: 0.9106\n",
      "Epoch 37/50\n",
      "85/85 [==============================] - 15s 177ms/step - loss: 0.1645 - accuracy: 0.9301 - precision: 0.9560 - recall: 0.9046 - val_loss: 0.1588 - val_accuracy: 0.9310 - val_precision: 0.9556 - val_recall: 0.9078\n",
      "Epoch 38/50\n",
      "85/85 [==============================] - 15s 177ms/step - loss: 0.1667 - accuracy: 0.9290 - precision: 0.9554 - recall: 0.9028 - val_loss: 0.1605 - val_accuracy: 0.9303 - val_precision: 0.9530 - val_recall: 0.9091\n",
      "Epoch 39/50\n",
      "85/85 [==============================] - 15s 178ms/step - loss: 0.1634 - accuracy: 0.9305 - precision: 0.9560 - recall: 0.9055 - val_loss: 0.1567 - val_accuracy: 0.9323 - val_precision: 0.9547 - val_recall: 0.9111\n",
      "Epoch 40/50\n",
      "85/85 [==============================] - 15s 178ms/step - loss: 0.1622 - accuracy: 0.9311 - precision: 0.9562 - recall: 0.9065 - val_loss: 0.1584 - val_accuracy: 0.9320 - val_precision: 0.9574 - val_recall: 0.9071\n",
      "Epoch 41/50\n",
      "85/85 [==============================] - 15s 177ms/step - loss: 0.1610 - accuracy: 0.9317 - precision: 0.9567 - recall: 0.9072 - val_loss: 0.1576 - val_accuracy: 0.9325 - val_precision: 0.9570 - val_recall: 0.9088\n",
      "Epoch 42/50\n",
      "85/85 [==============================] - 15s 179ms/step - loss: 0.1593 - accuracy: 0.9325 - precision: 0.9569 - recall: 0.9085 - val_loss: 0.1568 - val_accuracy: 0.9328 - val_precision: 0.9536 - val_recall: 0.9134\n",
      "Epoch 43/50\n",
      "85/85 [==============================] - 15s 177ms/step - loss: 0.1609 - accuracy: 0.9316 - precision: 0.9566 - recall: 0.9073 - val_loss: 0.1540 - val_accuracy: 0.9333 - val_precision: 0.9548 - val_recall: 0.9130\n",
      "Epoch 44/50\n",
      "85/85 [==============================] - 15s 179ms/step - loss: 0.1588 - accuracy: 0.9326 - precision: 0.9566 - recall: 0.9091 - val_loss: 0.1534 - val_accuracy: 0.9331 - val_precision: 0.9548 - val_recall: 0.9129\n",
      "Epoch 45/50\n",
      "85/85 [==============================] - 15s 178ms/step - loss: 0.1612 - accuracy: 0.9314 - precision: 0.9570 - recall: 0.9066 - val_loss: 0.1553 - val_accuracy: 0.9329 - val_precision: 0.9582 - val_recall: 0.9079\n",
      "Epoch 46/50\n",
      "85/85 [==============================] - 15s 179ms/step - loss: 0.1602 - accuracy: 0.9321 - precision: 0.9564 - recall: 0.9084 - val_loss: 0.1555 - val_accuracy: 0.9328 - val_precision: 0.9553 - val_recall: 0.9115\n",
      "Epoch 47/50\n",
      "85/85 [==============================] - 15s 178ms/step - loss: 0.1555 - accuracy: 0.9340 - precision: 0.9574 - recall: 0.9114 - val_loss: 0.1501 - val_accuracy: 0.9351 - val_precision: 0.9545 - val_recall: 0.9176\n",
      "Epoch 48/50\n",
      "85/85 [==============================] - 15s 178ms/step - loss: 0.1542 - accuracy: 0.9346 - precision: 0.9574 - recall: 0.9126 - val_loss: 0.1500 - val_accuracy: 0.9354 - val_precision: 0.9558 - val_recall: 0.9162\n",
      "Epoch 49/50\n",
      "85/85 [==============================] - 15s 179ms/step - loss: 0.1537 - accuracy: 0.9348 - precision: 0.9572 - recall: 0.9133 - val_loss: 0.1537 - val_accuracy: 0.9344 - val_precision: 0.9525 - val_recall: 0.9180\n",
      "Epoch 50/50\n",
      "85/85 [==============================] - 15s 177ms/step - loss: 0.1539 - accuracy: 0.9347 - precision: 0.9574 - recall: 0.9130 - val_loss: 0.1489 - val_accuracy: 0.9361 - val_precision: 0.9568 - val_recall: 0.9167\n"
     ]
    }
   ],
   "source": [
    "early_stopping = tf.keras.callbacks.EarlyStopping(\n",
    "    monitor='val_loss',\n",
    "    patience=10,\n",
    "    restore_best_weights=True\n",
    ")\n",
    "\n",
    "\n",
    "history = model.fit(\n",
    "    X_train, y_train,\n",
    "    epochs=50,\n",
    "    batch_size=32,\n",
    "    validation_data=(X_valid, y_valid),\n",
    "    callbacks=[early_stopping]\n",
    ")"
   ]
  },
  {
   "cell_type": "code",
   "execution_count": 11,
   "id": "f5238c9c",
   "metadata": {
    "papermill": {
     "duration": 0.796283,
     "end_time": "2024-12-02T07:43:53.499812",
     "exception": false,
     "start_time": "2024-12-02T07:43:52.703529",
     "status": "completed"
    },
    "tags": []
   },
   "outputs": [
    {
     "data": {
      "image/png": "[encoded data removed]",
      "text/plain": [
       "<Figure size 432x288 with 1 Axes>"
      ]
     },
     "metadata": {
      "needs_background": "light"
     },
     "output_type": "display_data"
    }
   ],
   "source": [
    "# Loss\n",
    "import os\n",
    "os.makedirs(\"PDB_CNN_Attention_resultImage\",exist_ok=True)\n",
    "plt.plot(history.history['loss'], label='loss')\n",
    "plt.plot(history.history['val_loss'], label='val_loss')\n",
    "plt.xlabel('Epochs')\n",
    "plt.ylabel('Loss')\n",
    "plt.title('Loss Curve')\n",
    "plt.legend()\n",
    "plt.savefig(\"PDB_Attention-CSP_resultImage/Loss Curve.png\", dpi=600, bbox_inches='tight')\n",
    "plt.show()\n"
   ]
  },
  {
   "cell_type": "code",
   "execution_count": 12,
   "id": "df810f26",
   "metadata": {
    "papermill": {
     "duration": 0.726044,
     "end_time": "2024-12-02T07:43:54.774574",
     "exception": false,
     "start_time": "2024-12-02T07:43:54.048530",
     "status": "completed"
    },
    "tags": []
   },
   "outputs": [
    {
     "data": {
      "image/png": "[encoded data removed]",
      "text/plain": [
       "<Figure size 432x288 with 1 Axes>"
      ]
     },
     "metadata": {
      "needs_background": "light"
     },
     "output_type": "display_data"
    }
   ],
   "source": [
    "#Accuracy\n",
    "plt.plot(history.history['accuracy'], label='accuracy')\n",
    "plt.plot(history.history['val_accuracy'], label='val_accuracy')\n",
    "plt.title('Accuracy Curve')\n",
    "plt.xlabel('Epoch')\n",
    "plt.ylabel('Accuracy')\n",
    "plt.legend()\n",
    "plt.savefig(\"PDB_Attention-CSP_resultImage/Accuracy Curve.png\", dpi=600, bbox_inches='tight')\n",
    "plt.show()"
   ]
  },
  {
   "cell_type": "markdown",
   "id": "b94b8a75",
   "metadata": {
    "papermill": {
     "duration": 0.491242,
     "end_time": "2024-12-02T07:44:28.898556",
     "exception": false,
     "start_time": "2024-12-02T07:44:28.407314",
     "status": "completed"
    },
    "tags": []
   },
   "source": [
    "### Use test data set"
   ]
  },
  {
   "cell_type": "code",
   "execution_count": 13,
   "id": "2323fc27",
   "metadata": {
    "papermill": {
     "duration": 1.637503,
     "end_time": "2024-12-02T07:44:31.022950",
     "exception": false,
     "start_time": "2024-12-02T07:44:29.385447",
     "status": "completed"
    },
    "tags": []
   },
   "outputs": [
    {
     "name": "stdout",
     "output_type": "stream",
     "text": [
      "11/11 [==============================] - 1s 56ms/step - loss: 0.1436 - accuracy: 0.9386 - precision: 0.9575 - recall: 0.9212\n",
      "test - loss: 0.1436, accuracy: 0.9386, precision: 0.9575, recall: 0.9212\n",
      "11/11 [==============================] - 1s 56ms/step\n"
     ]
    },
    {
     "data": {
      "image/png": "[encoded data removed]",
      "text/plain": [
       "<Figure size 432x360 with 2 Axes>"
      ]
     },
     "metadata": {
      "needs_background": "light"
     },
     "output_type": "display_data"
    },
    {
     "name": "stdout",
     "output_type": "stream",
     "text": [
      "precision_overall: 0.9368\n",
      "recall_overall: 0.9386\n",
      "sepcificity_overall: 0.9074\n",
      "F1_overall: 0.9376\n",
      "accuracy: 0.9386\n",
      "ROC-AUC Score: 0.9828\n"
     ]
    }
   ],
   "source": [
    "import numpy as np\n",
    "from sklearn.metrics import precision_score, recall_score, f1_score, confusion_matrix, roc_auc_score\n",
    "from sklearn.preprocessing import label_binarize\n",
    "import tensorflow as tf\n",
    "import seaborn as sns\n",
    "\n",
    "loss, accuracy, precision, recall = model.evaluate(X_test, y_test)\n",
    "print(f\"test - loss: {loss:.4f}, accuracy: {accuracy:.4f}, precision: {precision:.4f}, recall: {recall:.4f}\")\n",
    "\n",
    "\n",
    "y_pred_probs = model.predict(X_test)\n",
    "y_pred = np.argmax(y_pred_probs, axis=-1).flatten()\n",
    "y_true = np.argmax(y_test, axis=-1).flatten()\n",
    "\n",
    "\n",
    "cm = confusion_matrix(y_true, y_pred, labels=[0, 1, 2])\n",
    "\n",
    "plt.figure(figsize=(6, 5)) \n",
    "sns.heatmap(cm, annot=True, fmt='d', cmap='Blues', xticklabels=[0,1,2], yticklabels=[0,1,2]) \n",
    "plt.xlabel('Predicted')\n",
    "plt.ylabel('True') \n",
    "plt.title('Confusion Matrix')\n",
    "plt.savefig(\"PDB_Attention-CSP_resultImage/confusion_matrix.png\", dpi=600, bbox_inches='tight')\n",
    "plt.show()\n",
    "\n",
    "\n",
    "precision_overall = precision_score(y_true, y_pred, average='weighted', zero_division=0)\n",
    "recall_overall = recall_score(y_true, y_pred, average='weighted', zero_division=0)\n",
    "f1_overall = f1_score(y_true, y_pred, average='weighted', zero_division=0)\n",
    "\n",
    "specificity = []\n",
    "for i in range(len(cm)):\n",
    "    TN = np.sum(cm) - (np.sum(cm[i, :]) + np.sum(cm[:, i]) - cm[i, i])\n",
    "    FP = np.sum(cm[:, i]) - cm[i, i]\n",
    "    spec = TN / (TN + FP) if (TN + FP) > 0 else 0\n",
    "    specificity.append(spec)\n",
    "specificity_overall = np.mean(specificity)\n",
    "\n",
    "\n",
    "print(f\"precision_overall: {precision_overall:.4f}\")\n",
    "print(f\"recall_overall: {recall_overall:.4f}\")\n",
    "print(f\"sepcificity_overall: {specificity_overall:.4f}\")\n",
    "print(f\"F1_overall: {f1_overall:.4f}\")\n",
    "print(f\"accuracy: {accuracy:.4f}\")\n",
    "\n",
    "\n",
    "y_true_binarized = label_binarize(y_true, classes=[0, 1, 2])  \n",
    "n_classes = y_true_binarized.shape[1]\n",
    "\n",
    "# Reshape y_pred_probs to match y_true\n",
    "y_pred_probs_reshaped = y_pred_probs.reshape(-1, n_classes)\n",
    "\n",
    "# Calculate ROC-AUC for each class\n",
    "roc_auc = roc_auc_score(y_true_binarized, y_pred_probs_reshaped, multi_class='ovo')\n",
    "print(f\"ROC-AUC Score: {roc_auc:.4f}\")"
   ]
  },
  {
   "cell_type": "code",
   "execution_count": 14,
   "id": "055f8b2f",
   "metadata": {
    "papermill": {
     "duration": 1.392027,
     "end_time": "2024-12-02T07:44:32.910905",
     "exception": false,
     "start_time": "2024-12-02T07:44:31.518878",
     "status": "completed"
    },
    "tags": []
   },
   "outputs": [
    {
     "name": "stdout",
     "output_type": "stream",
     "text": [
      "11/11 [==============================] - 1s 57ms/step\n",
      "ROC-AUC Score: 0.9828\n"
     ]
    },
    {
     "data": {
      "image/png": "[encoded data removed]",
      "text/plain": [
       "<Figure size 576x432 with 1 Axes>"
      ]
     },
     "metadata": {
      "needs_background": "light"
     },
     "output_type": "display_data"
    },
    {
     "name": "stdout",
     "output_type": "stream",
     "text": [
      "Class H:\n",
      "  Precision: 0.7480\n",
      "  Recall (Sensitivity): 0.7153\n",
      "  Specificity: 0.9793\n",
      "  F1-Score: 0.7313\n",
      "\n",
      "Class E:\n",
      "  Precision: 0.7280\n",
      "  Recall (Sensitivity): 0.6553\n",
      "  Specificity: 0.9880\n",
      "  F1-Score: 0.6898\n",
      "\n",
      "Class C:\n",
      "  Precision: 0.9650\n",
      "  Recall (Sensitivity): 0.9740\n",
      "  Specificity: 0.7550\n",
      "  F1-Score: 0.9695\n",
      "\n",
      "Overall Accuracy: 0.9386\n"
     ]
    }
   ],
   "source": [
    "import numpy as np\n",
    "from sklearn.metrics import precision_recall_fscore_support, accuracy_score, roc_auc_score, roc_curve, auc, confusion_matrix\n",
    "import matplotlib.pyplot as plt\n",
    "from sklearn.preprocessing import label_binarize\n",
    "\n",
    "# Convert one-hot encoded labels and predictions to class labels\n",
    "y_pred_probs = model.predict(X_test)  \n",
    "y_pred = np.argmax(y_pred_probs, axis=-1).reshape(-1)  \n",
    "y_true = np.argmax(y_test, axis=-1).reshape(-1)        \n",
    "\n",
    "# Verify that y_pred and y_true have the same number of samples\n",
    "assert y_pred.shape[0] == y_true.shape[0], \"y_pred and y_true must have the same number of samples.\"\n",
    "\n",
    "# Binarize the true labels for ROC-AUC calculation\n",
    "y_true_binarized = label_binarize(y_true, classes=[0, 1, 2]) \n",
    "n_classes = y_true_binarized.shape[1]\n",
    "\n",
    "# Reshape y_pred_probs to match y_true\n",
    "y_pred_probs_reshaped = y_pred_probs.reshape(-1, n_classes)\n",
    "\n",
    "# Calculate ROC-AUC for each class\n",
    "roc_auc = roc_auc_score(y_true_binarized, y_pred_probs_reshaped, multi_class='ovo')\n",
    "print(f\"ROC-AUC Score: {roc_auc:.4f}\")\n",
    "\n",
    "# Plot ROC Curves for each class\n",
    "fpr = dict()\n",
    "tpr = dict()\n",
    "roc_auc_dict = dict()\n",
    "\n",
    "for i in range(n_classes):\n",
    "    fpr[i], tpr[i], _ = roc_curve(y_true_binarized[:, i], y_pred_probs_reshaped[:, i])\n",
    "    roc_auc_dict[i] = auc(fpr[i], tpr[i])\n",
    "\n",
    "# Plotting ROC Curves\n",
    "plt.figure(figsize=(8, 6))\n",
    "colors = ['aqua', 'darkorange', 'cornflowerblue']\n",
    "class_names = ['H', 'E', 'C']  \n",
    "\n",
    "for i, color in zip(range(n_classes), colors):\n",
    "    plt.plot(fpr[i], tpr[i], color=color, lw=2,\n",
    "             label=f'ROC curve of class {class_names[i]} (area = {roc_auc_dict[i]:0.2f})')\n",
    "\n",
    "plt.plot([0, 1], [0, 1], 'k--', lw=2)\n",
    "plt.xlim([-0.01, 1.0])\n",
    "plt.ylim([0.0, 1.05])\n",
    "plt.xlabel('False Positive Rate')\n",
    "plt.ylabel('True Positive Rate')\n",
    "plt.title('Receiver Operating Characteristic (ROC) Curves')\n",
    "plt.legend(loc=\"lower right\")\n",
    "plt.savefig(\"PDB_Attention-CSP_resultImage/roc_curves.png\", dpi=600, bbox_inches='tight') \n",
    "plt.show()\n",
    "\n",
    "# Calculate per-class precision, recall (sensitivity), f1-score\n",
    "precision, recall, f1_score, _ = precision_recall_fscore_support(y_true, y_pred, labels=[0,1,2], zero_division=0)\n",
    "\n",
    "# Calculate specificity\n",
    "cm = confusion_matrix(y_true, y_pred, labels=[0,1,2])\n",
    "\n",
    "specificity = {}\n",
    "for i, cls in enumerate(class_names):\n",
    "    TN = np.sum(cm) - (np.sum(cm[i, :]) + np.sum(cm[:, i]) - cm[i, i])\n",
    "    FP = np.sum(cm[:, i]) - cm[i, i]\n",
    "    specificity[cls] = TN / (TN + FP) if (TN + FP) > 0 else 0.0\n",
    "\n",
    "# Calculate overall accuracy\n",
    "accuracy = accuracy_score(y_true, y_pred)\n",
    "\n",
    "# Print per-class metrics\n",
    "for i, cls in enumerate(class_names):\n",
    "    print(f\"Class {cls}:\")\n",
    "    print(f\"  Precision: {precision[i]:.4f}\")\n",
    "    print(f\"  Recall (Sensitivity): {recall[i]:.4f}\")\n",
    "    print(f\"  Specificity: {specificity[cls]:.4f}\")\n",
    "    print(f\"  F1-Score: {f1_score[i]:.4f}\")\n",
    "    print()\n",
    "\n",
    "print(f\"Overall Accuracy: {accuracy:.4f}\")"
   ]
  },
  {
   "cell_type": "code",
   "execution_count": null,
   "id": "3fc39ea9",
   "metadata": {},
   "outputs": [],
   "source": []
  },
  {
   "cell_type": "code",
   "execution_count": null,
   "id": "39d4c576-161f-4fc9-a685-53297478c66c",
   "metadata": {},
   "outputs": [],
   "source": []
  }
 ],
 "metadata": {
  "kaggle": {
   "accelerator": "gpu",
   "dataSources": [
    {
     "datasetId": 6196313,
     "sourceId": 10055858,
     "sourceType": "datasetVersion"
    },
    {
     "datasetId": 6198107,
     "sourceId": 10058311,
     "sourceType": "datasetVersion"
    },
    {
     "datasetId": 6209243,
     "sourceId": 10073557,
     "sourceType": "datasetVersion"
    }
   ],
   "dockerImageVersionId": 30787,
   "isGpuEnabled": true,
   "isInternetEnabled": true,
   "language": "python",
   "sourceType": "notebook"
  },
  "kernelspec": {
   "display_name": "Python 3",
   "language": "python",
   "name": "python3"
  },
  "language_info": {
   "codemirror_mode": {
    "name": "ipython",
    "version": 3
   },
   "file_extension": ".py",
   "mimetype": "text/x-python",
   "name": "python",
   "nbconvert_exporter": "python",
   "pygments_lexer": "ipython3",
   "version": "3.10.9"
  },
  "papermill": {
   "default_parameters": {},
   "duration": 2354.782697,
   "end_time": "2024-12-02T07:44:36.636431",
   "environment_variables": {},
   "exception": null,
   "input_path": "__notebook__.ipynb",
   "output_path": "__notebook__.ipynb",
   "parameters": {},
   "start_time": "2024-12-02T07:05:21.853734",
   "version": "2.6.0"
  }
 },
 "nbformat": 4,
 "nbformat_minor": 5
}
