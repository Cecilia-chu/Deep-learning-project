{
 "cells": [
  {
   "cell_type": "code",
   "execution_count": 1,
   "id": "d4906f15",
   "metadata": {
    "papermill": {
     "duration": 12.625204,
     "end_time": "2024-12-02T07:05:36.814225",
     "exception": false,
     "start_time": "2024-12-02T07:05:24.189021",
     "status": "completed"
    },
    "tags": []
   },
   "outputs": [
    {
     "name": "stderr",
     "output_type": "stream",
     "text": [
      "2025-04-19 22:11:15.009664: I tensorflow/core/util/util.cc:169] oneDNN custom operations are on. You may see slightly different numerical results due to floating-point round-off errors from different computation orders. To turn them off, set the environment variable `TF_ENABLE_ONEDNN_OPTS=0`.\n"
     ]
    }
   ],
   "source": [
    "import numpy as np\n",
    "import pandas as pd\n",
    "import tensorflow as tf\n",
    "from tensorflow.keras.models import Model\n",
    "from tensorflow.keras.layers import (\n",
    "    Input, Conv1D, Flatten, Reshape, Dense, Dropout, Bidirectional, TimeDistributed, Attention\n",
    ")\n",
    "from tensorflow.keras.utils import to_categorical\n",
    "from sklearn.model_selection import train_test_split\n",
    "import matplotlib.pyplot as plt"
   ]
  },
  {
   "cell_type": "code",
   "execution_count": 2,
   "id": "e65dfaf1",
   "metadata": {
    "papermill": {
     "duration": 0.270829,
     "end_time": "2024-12-02T07:05:37.088957",
     "exception": false,
     "start_time": "2024-12-02T07:05:36.818128",
     "status": "completed"
    },
    "tags": []
   },
   "outputs": [
    {
     "data": {
      "text/html": [
       "<div>\n",
       "<style scoped>\n",
       "    .dataframe tbody tr th:only-of-type {\n",
       "        vertical-align: middle;\n",
       "    }\n",
       "\n",
       "    .dataframe tbody tr th {\n",
       "        vertical-align: top;\n",
       "    }\n",
       "\n",
       "    .dataframe thead th {\n",
       "        text-align: right;\n",
       "    }\n",
       "</style>\n",
       "<table border=\"1\" class=\"dataframe\">\n",
       "  <thead>\n",
       "    <tr style=\"text-align: right;\">\n",
       "      <th></th>\n",
       "      <th>seq</th>\n",
       "      <th>sst3</th>\n",
       "      <th>sst8</th>\n",
       "    </tr>\n",
       "  </thead>\n",
       "  <tbody>\n",
       "    <tr>\n",
       "      <th>10590</th>\n",
       "      <td>SEDDGSASPESQEMSYTELPCPSICPLIYAPVCVEDSNQDFYLFVN...</td>\n",
       "      <td>CCCCCCCCCCCCCCCCCCCCCCCCCCCCCCCEEEEECCCCEEEECC...</td>\n",
       "      <td>CCCCCCCCCCCCCCCCCCCCCCCCCCCCCCCEEEEETTSCEEEESS...</td>\n",
       "    </tr>\n",
       "    <tr>\n",
       "      <th>6909</th>\n",
       "      <td>SIEWHKFETSEEIISTYLLDDVLYTGVNGAVYTFSNNKLNKTGLTN...</td>\n",
       "      <td>CCEEEECCCCCCCCEEEEECCEEEEECECEEEEEECCEEEEEECCC...</td>\n",
       "      <td>CCEEEECSSCCCCCEEEEETTEEEEECBSEEEEEETTEEEEEECCS...</td>\n",
       "    </tr>\n",
       "    <tr>\n",
       "      <th>3541</th>\n",
       "      <td>MKHHHHHHSAGLEVLFQGPDSMYVLQDPIWLLMANTDDSIMMTYQL...</td>\n",
       "      <td>CCCCCCCCCCCCCEEEECCCCCEEEECCHHHHCCCCCHHHHHHCCC...</td>\n",
       "      <td>CCCCCCCCCCCCCEEEECSTTCEEEECCHHHHTSCCCHHHHHHCCC...</td>\n",
       "    </tr>\n",
       "    <tr>\n",
       "      <th>167</th>\n",
       "      <td>AACKCDDEGPDIRTAPLTGTVDLGSCNAGWEKCASYYTIIADCCRKKK</td>\n",
       "      <td>CEEECCCCCCCCCCCCEEEEEEECCCCCCEEEEEEEEECCEEEEEECC</td>\n",
       "      <td>CEEECSSCCSCCSSSSEEEEEEESSCCTTEEEEEEEEETTEEEEEECC</td>\n",
       "    </tr>\n",
       "    <tr>\n",
       "      <th>1915</th>\n",
       "      <td>GAMAQVPTDPGYFSVLLDVKHFSPEEISVKVVGDHVEVHARHEERP...</td>\n",
       "      <td>CCCCCCCCCCCCEEEEEECCCCCHHHEEEEEECCEEEEEEEEEECC...</td>\n",
       "      <td>CCCCCCCCCSSCEEEEEECTTSCGGGEEEEEETTEEEEEEEEEECS...</td>\n",
       "    </tr>\n",
       "  </tbody>\n",
       "</table>\n",
       "</div>"
      ],
      "text/plain": [
       "                                                     seq  \\\n",
       "10590  SEDDGSASPESQEMSYTELPCPSICPLIYAPVCVEDSNQDFYLFVN...   \n",
       "6909   SIEWHKFETSEEIISTYLLDDVLYTGVNGAVYTFSNNKLNKTGLTN...   \n",
       "3541   MKHHHHHHSAGLEVLFQGPDSMYVLQDPIWLLMANTDDSIMMTYQL...   \n",
       "167     AACKCDDEGPDIRTAPLTGTVDLGSCNAGWEKCASYYTIIADCCRKKK   \n",
       "1915   GAMAQVPTDPGYFSVLLDVKHFSPEEISVKVVGDHVEVHARHEERP...   \n",
       "\n",
       "                                                    sst3  \\\n",
       "10590  CCCCCCCCCCCCCCCCCCCCCCCCCCCCCCCEEEEECCCCEEEECC...   \n",
       "6909   CCEEEECCCCCCCCEEEEECCEEEEECECEEEEEECCEEEEEECCC...   \n",
       "3541   CCCCCCCCCCCCCEEEECCCCCEEEECCHHHHCCCCCHHHHHHCCC...   \n",
       "167     CEEECCCCCCCCCCCCEEEEEEECCCCCCEEEEEEEEECCEEEEEECC   \n",
       "1915   CCCCCCCCCCCCEEEEEECCCCCHHHEEEEEECCEEEEEEEEEECC...   \n",
       "\n",
       "                                                    sst8  \n",
       "10590  CCCCCCCCCCCCCCCCCCCCCCCCCCCCCCCEEEEETTSCEEEESS...  \n",
       "6909   CCEEEECSSCCCCCEEEEETTEEEEECBSEEEEEETTEEEEEECCS...  \n",
       "3541   CCCCCCCCCCCCCEEEECSTTCEEEECCHHHHTSCCCHHHHHHCCC...  \n",
       "167     CEEECSSCCSCCSSSSEEEEEEESSCCTTEEEEEEEEETTEEEEEECC  \n",
       "1915   CCCCCCCCCSSCEEEEEECTTSCGGGEEEEEETTEEEEEEEEEECS...  "
      ]
     },
     "metadata": {},
     "output_type": "display_data"
    },
    {
     "data": {
      "text/html": [
       "<div>\n",
       "<style scoped>\n",
       "    .dataframe tbody tr th:only-of-type {\n",
       "        vertical-align: middle;\n",
       "    }\n",
       "\n",
       "    .dataframe tbody tr th {\n",
       "        vertical-align: top;\n",
       "    }\n",
       "\n",
       "    .dataframe thead th {\n",
       "        text-align: right;\n",
       "    }\n",
       "</style>\n",
       "<table border=\"1\" class=\"dataframe\">\n",
       "  <thead>\n",
       "    <tr style=\"text-align: right;\">\n",
       "      <th></th>\n",
       "      <th>seq</th>\n",
       "      <th>sst3</th>\n",
       "      <th>sst8</th>\n",
       "    </tr>\n",
       "  </thead>\n",
       "  <tbody>\n",
       "    <tr>\n",
       "      <th>8167</th>\n",
       "      <td>GXTDTNLVEXRAIERXXFDYSYHLDXNHPEELAALFVEDCEVSYAP...</td>\n",
       "      <td>CCHHHHHHHHHHHHHHHHHHHHHHHCCCHHHHHCCEEEEEEEEEEC...</td>\n",
       "      <td>CCHHHHHHHHHHHHHHHHHHHHHHHTTCHHHHHTTEEEEEEEEEET...</td>\n",
       "    </tr>\n",
       "    <tr>\n",
       "      <th>4955</th>\n",
       "      <td>GPGSDLQSILATMNVPAGPAGGQQVDLASVLTPEIMAPILANADVQ...</td>\n",
       "      <td>CCCCCCCCCCCCCCCCCCCCCCCCCCHHHHCCCHHHHHHHCCHHHH...</td>\n",
       "      <td>CCCCCCCCCCCCCCCCCCCCCCCCCCHHHHSCSGGGHHHHTSHHHH...</td>\n",
       "    </tr>\n",
       "    <tr>\n",
       "      <th>11039</th>\n",
       "      <td>REFPPPNPDPKFESKAALLAARGPEELLCFTERLEDLVCFWEEAAS...</td>\n",
       "      <td>CCCCCCCCCHHHHHHHHHHHHHCCCCCEEEECCCCCCEEEEEECCC...</td>\n",
       "      <td>CCCCCCCCCHHHHHHHHHHHHHSCSSCEEEBSSSSCCEEEEEECCC...</td>\n",
       "    </tr>\n",
       "    <tr>\n",
       "      <th>3532</th>\n",
       "      <td>GSSGSSGMTATAQQLEYLKNSIKSIQDYPKPGILFRDVTSLLEDPK...</td>\n",
       "      <td>CCCCCCCCCCCHHHHHHHHHHCEEECCCCCCCCCEEECHHHHHCHH...</td>\n",
       "      <td>CCCCCCCCCCCHHHHHHHHHHSEEETTCSSTTCCEEETHHHHHCHH...</td>\n",
       "    </tr>\n",
       "    <tr>\n",
       "      <th>567</th>\n",
       "      <td>GPGGAERPTLPIPDLLTTDARNRIQLTIGAGQSTFGGKTATTWGYN...</td>\n",
       "      <td>CCCCCCCCECCCCCEECCCCCCEEEEEEEEEEEEECCEEEEEEEEC...</td>\n",
       "      <td>CCCCCCCCBCCCCCEECCCTTSEEEEEEEEEEEEETTEEEEEEEES...</td>\n",
       "    </tr>\n",
       "  </tbody>\n",
       "</table>\n",
       "</div>"
      ],
      "text/plain": [
       "                                                     seq  \\\n",
       "8167   GXTDTNLVEXRAIERXXFDYSYHLDXNHPEELAALFVEDCEVSYAP...   \n",
       "4955   GPGSDLQSILATMNVPAGPAGGQQVDLASVLTPEIMAPILANADVQ...   \n",
       "11039  REFPPPNPDPKFESKAALLAARGPEELLCFTERLEDLVCFWEEAAS...   \n",
       "3532   GSSGSSGMTATAQQLEYLKNSIKSIQDYPKPGILFRDVTSLLEDPK...   \n",
       "567    GPGGAERPTLPIPDLLTTDARNRIQLTIGAGQSTFGGKTATTWGYN...   \n",
       "\n",
       "                                                    sst3  \\\n",
       "8167   CCHHHHHHHHHHHHHHHHHHHHHHHCCCHHHHHCCEEEEEEEEEEC...   \n",
       "4955   CCCCCCCCCCCCCCCCCCCCCCCCCCHHHHCCCHHHHHHHCCHHHH...   \n",
       "11039  CCCCCCCCCHHHHHHHHHHHHHCCCCCEEEECCCCCCEEEEEECCC...   \n",
       "3532   CCCCCCCCCCCHHHHHHHHHHCEEECCCCCCCCCEEECHHHHHCHH...   \n",
       "567    CCCCCCCCECCCCCEECCCCCCEEEEEEEEEEEEECCEEEEEEEEC...   \n",
       "\n",
       "                                                    sst8  \n",
       "8167   CCHHHHHHHHHHHHHHHHHHHHHHHTTCHHHHHTTEEEEEEEEEET...  \n",
       "4955   CCCCCCCCCCCCCCCCCCCCCCCCCCHHHHSCSGGGHHHHTSHHHH...  \n",
       "11039  CCCCCCCCCHHHHHHHHHHHHHSCSSCEEEBSSSSCCEEEEEECCC...  \n",
       "3532   CCCCCCCCCCCHHHHHHHHHHSEEETTCSSTTCCEEETHHHHHCHH...  \n",
       "567    CCCCCCCCBCCCCCEECCCTTSEEEEEEEEEEEEETTEEEEEEEES...  "
      ]
     },
     "metadata": {},
     "output_type": "display_data"
    },
    {
     "data": {
      "text/html": [
       "<div>\n",
       "<style scoped>\n",
       "    .dataframe tbody tr th:only-of-type {\n",
       "        vertical-align: middle;\n",
       "    }\n",
       "\n",
       "    .dataframe tbody tr th {\n",
       "        vertical-align: top;\n",
       "    }\n",
       "\n",
       "    .dataframe thead th {\n",
       "        text-align: right;\n",
       "    }\n",
       "</style>\n",
       "<table border=\"1\" class=\"dataframe\">\n",
       "  <thead>\n",
       "    <tr style=\"text-align: right;\">\n",
       "      <th></th>\n",
       "      <th>seq</th>\n",
       "      <th>sst3</th>\n",
       "      <th>sst8</th>\n",
       "    </tr>\n",
       "  </thead>\n",
       "  <tbody>\n",
       "    <tr>\n",
       "      <th>7283</th>\n",
       "      <td>GXSNIYDSANELSRGLRGLPEYKAVKAAKDAIAADAEASKIFTDYL...</td>\n",
       "      <td>CHHHHHHHHHHHHHHHHHCHHHHHHHHHHHHHHHCHHHHHHHHHHH...</td>\n",
       "      <td>CHHHHHHHHHHHHHHHHHCHHHHHHHHHHHHHHHCHHHHHHHHHHH...</td>\n",
       "    </tr>\n",
       "    <tr>\n",
       "      <th>6466</th>\n",
       "      <td>MSSLLDIIYQLRQVPRWDGSFQFEKEDVSQHSFSVIAISHILCELK...</td>\n",
       "      <td>CCCHHHHHHHHHHCECCCCCCCCCCCEHHHHHHHHHHHHHHHHHHH...</td>\n",
       "      <td>CCCHHHHHHHGGGCBSSTTSCCSSCCBHHHHHHHHHHHHHHHHHHH...</td>\n",
       "    </tr>\n",
       "    <tr>\n",
       "      <th>1791</th>\n",
       "      <td>MILLEVNNRIIEETLALKFENAAAGNKPEAVEVTFADFDGVLYHIS...</td>\n",
       "      <td>CCCCCCCCHHHHHHHHHHHHHHHHCCCCCCCEEEEEECCCEEEEEE...</td>\n",
       "      <td>CCSCCSSCHHHHHHHHHHHHHHHHTCCCCCCEEEEEETTTEEEEEE...</td>\n",
       "    </tr>\n",
       "    <tr>\n",
       "      <th>5099</th>\n",
       "      <td>MTMIIRKYFSGIPTIGVLALTTEEITLLPIFLDKDDVNEVSEVLET...</td>\n",
       "      <td>CCCEEEECECCECCHHHHCEECCCEEEECCCCCHHHHHHHHHHHCC...</td>\n",
       "      <td>CCCEEEECBTTBCCHHHHCEECSSEEEECTTCCHHHHHHHHHHHTC...</td>\n",
       "    </tr>\n",
       "    <tr>\n",
       "      <th>8471</th>\n",
       "      <td>MAHHHHHHMGTLEAQTQGPGSMTDLQNWTPRPKPERKIFEGRYVRL...</td>\n",
       "      <td>CCCCCCCCCCCCCCCCCCCCCCCCCCCCCCCCCCCCCCEECCCEEE...</td>\n",
       "      <td>CCCCCCCCCCCCCCCCCCCCCCCCCTTCCCCCCCCCCCEECSSEEE...</td>\n",
       "    </tr>\n",
       "  </tbody>\n",
       "</table>\n",
       "</div>"
      ],
      "text/plain": [
       "                                                    seq  \\\n",
       "7283  GXSNIYDSANELSRGLRGLPEYKAVKAAKDAIAADAEASKIFTDYL...   \n",
       "6466  MSSLLDIIYQLRQVPRWDGSFQFEKEDVSQHSFSVIAISHILCELK...   \n",
       "1791  MILLEVNNRIIEETLALKFENAAAGNKPEAVEVTFADFDGVLYHIS...   \n",
       "5099  MTMIIRKYFSGIPTIGVLALTTEEITLLPIFLDKDDVNEVSEVLET...   \n",
       "8471  MAHHHHHHMGTLEAQTQGPGSMTDLQNWTPRPKPERKIFEGRYVRL...   \n",
       "\n",
       "                                                   sst3  \\\n",
       "7283  CHHHHHHHHHHHHHHHHHCHHHHHHHHHHHHHHHCHHHHHHHHHHH...   \n",
       "6466  CCCHHHHHHHHHHCECCCCCCCCCCCEHHHHHHHHHHHHHHHHHHH...   \n",
       "1791  CCCCCCCCHHHHHHHHHHHHHHHHCCCCCCCEEEEEECCCEEEEEE...   \n",
       "5099  CCCEEEECECCECCHHHHCEECCCEEEECCCCCHHHHHHHHHHHCC...   \n",
       "8471  CCCCCCCCCCCCCCCCCCCCCCCCCCCCCCCCCCCCCCEECCCEEE...   \n",
       "\n",
       "                                                   sst8  \n",
       "7283  CHHHHHHHHHHHHHHHHHCHHHHHHHHHHHHHHHCHHHHHHHHHHH...  \n",
       "6466  CCCHHHHHHHGGGCBSSTTSCCSSCCBHHHHHHHHHHHHHHHHHHH...  \n",
       "1791  CCSCCSSCHHHHHHHHHHHHHHHHTCCCCCCEEEEEETTTEEEEEE...  \n",
       "5099  CCCEEEECBTTBCCHHHHCEECSSEEEECTTCCHHHHHHHHHHHTC...  \n",
       "8471  CCCCCCCCCCCCCCCCCCCCCCCCCTTCCCCCCCCCCCEECSSEEE...  "
      ]
     },
     "metadata": {},
     "output_type": "display_data"
    },
    {
     "name": "stdout",
     "output_type": "stream",
     "text": [
      "train set: 9088\n",
      "valid set: 1136\n",
      "test set: 1137\n"
     ]
    }
   ],
   "source": [
    "# load data\n",
    "test = pd.read_csv('test_secondary_structure_cb513.csv')\n",
    "train = pd.read_csv('training_secondary_structure_train.csv')\n",
    "valid = pd.read_csv('validation_secondary_structure_valid.csv')\n",
    "\n",
    "combined = pd.concat([test, train, valid], ignore_index=True)\n",
    "\n",
    "combined.to_csv('combined_csv_file.csv', index=False)\n",
    "train_df, temp_df = train_test_split(combined, test_size=0.2, random_state=42)\n",
    "valid_df, test_df = train_test_split(temp_df, test_size=0.5, random_state=42)\n",
    "\n",
    "display(train_df.head())\n",
    "display(valid_df.head())\n",
    "display(test_df.head())\n",
    "print(f\"train set: {train_df.shape[0]}\")\n",
    "print(f\"valid set: {valid_df.shape[0]}\")\n",
    "print(f\"test set: {test_df.shape[0]}\")\n"
   ]
  },
  {
   "cell_type": "code",
   "execution_count": 3,
   "id": "e1c16b49",
   "metadata": {
    "papermill": {
     "duration": 0.26043,
     "end_time": "2024-12-02T07:05:37.354624",
     "exception": false,
     "start_time": "2024-12-02T07:05:37.094194",
     "status": "completed"
    },
    "tags": []
   },
   "outputs": [
    {
     "data": {
      "text/html": [
       "<div>\n",
       "<style scoped>\n",
       "    .dataframe tbody tr th:only-of-type {\n",
       "        vertical-align: middle;\n",
       "    }\n",
       "\n",
       "    .dataframe tbody tr th {\n",
       "        vertical-align: top;\n",
       "    }\n",
       "\n",
       "    .dataframe thead th {\n",
       "        text-align: right;\n",
       "    }\n",
       "</style>\n",
       "<table border=\"1\" class=\"dataframe\">\n",
       "  <thead>\n",
       "    <tr style=\"text-align: right;\">\n",
       "      <th></th>\n",
       "      <th>sst8</th>\n",
       "      <th>sst3_mapped</th>\n",
       "    </tr>\n",
       "  </thead>\n",
       "  <tbody>\n",
       "    <tr>\n",
       "      <th>10590</th>\n",
       "      <td>CCCCCCCCCCCCCCCCCCCCCCCCCCCCCCCEEEEETTSCEEEESS...</td>\n",
       "      <td>CCCCCCCCCCCCCCCCCCCCCCCCCCCCCCCEEEEECCCCEEEECC...</td>\n",
       "    </tr>\n",
       "    <tr>\n",
       "      <th>6909</th>\n",
       "      <td>CCEEEECSSCCCCCEEEEETTEEEEECBSEEEEEETTEEEEEECCS...</td>\n",
       "      <td>CCEEEECCCCCCCCEEEEECCEEEEECECEEEEEECCEEEEEECCC...</td>\n",
       "    </tr>\n",
       "    <tr>\n",
       "      <th>3541</th>\n",
       "      <td>CCCCCCCCCCCCCEEEECSTTCEEEECCHHHHTSCCCHHHHHHCCC...</td>\n",
       "      <td>CCCCCCCCCCCCCEEEECCCCCEEEECCHHHHCCCCCHHHHHHCCC...</td>\n",
       "    </tr>\n",
       "    <tr>\n",
       "      <th>167</th>\n",
       "      <td>CEEECSSCCSCCSSSSEEEEEEESSCCTTEEEEEEEEETTEEEEEECC</td>\n",
       "      <td>CEEECCCCCCCCCCCCEEEEEEECCCCCCEEEEEEEEECCEEEEEECC</td>\n",
       "    </tr>\n",
       "    <tr>\n",
       "      <th>1915</th>\n",
       "      <td>CCCCCCCCCSSCEEEEEECTTSCGGGEEEEEETTEEEEEEEEEECS...</td>\n",
       "      <td>CCCCCCCCCCCCEEEEEECCCCCHHHEEEEEECCEEEEEEEEEECC...</td>\n",
       "    </tr>\n",
       "  </tbody>\n",
       "</table>\n",
       "</div>"
      ],
      "text/plain": [
       "                                                    sst8  \\\n",
       "10590  CCCCCCCCCCCCCCCCCCCCCCCCCCCCCCCEEEEETTSCEEEESS...   \n",
       "6909   CCEEEECSSCCCCCEEEEETTEEEEECBSEEEEEETTEEEEEECCS...   \n",
       "3541   CCCCCCCCCCCCCEEEECSTTCEEEECCHHHHTSCCCHHHHHHCCC...   \n",
       "167     CEEECSSCCSCCSSSSEEEEEEESSCCTTEEEEEEEEETTEEEEEECC   \n",
       "1915   CCCCCCCCCSSCEEEEEECTTSCGGGEEEEEETTEEEEEEEEEECS...   \n",
       "\n",
       "                                             sst3_mapped  \n",
       "10590  CCCCCCCCCCCCCCCCCCCCCCCCCCCCCCCEEEEECCCCEEEECC...  \n",
       "6909   CCEEEECCCCCCCCEEEEECCEEEEECECEEEEEECCEEEEEECCC...  \n",
       "3541   CCCCCCCCCCCCCEEEECCCCCEEEECCHHHHCCCCCHHHHHHCCC...  \n",
       "167     CEEECCCCCCCCCCCCEEEEEEECCCCCCEEEEEEEEECCEEEEEECC  \n",
       "1915   CCCCCCCCCCCCEEEEEECCCCCHHHEEEEEECCEEEEEEEEEECC...  "
      ]
     },
     "metadata": {},
     "output_type": "display_data"
    }
   ],
   "source": [
    "sst8_to_sst3 = {\n",
    "    'H': 'H', 'G': 'H', 'I': 'H',\n",
    "    'E': 'E', 'B': 'E',\n",
    "    'T': 'C', 'S': 'C', 'C': 'C'\n",
    "}\n",
    "\n",
    "\n",
    "def map_sst8_to_sst3(sst8):\n",
    "    return ''.join([sst8_to_sst3.get(char, 'C') for char in sst8])\n",
    "\n",
    "train_df['sst3_mapped'] = train_df['sst8'].apply(map_sst8_to_sst3)\n",
    "valid_df['sst3_mapped'] = valid_df['sst8'].apply(map_sst8_to_sst3)\n",
    "test_df['sst3_mapped'] = test_df['sst8'].apply(map_sst8_to_sst3)\n",
    "\n",
    "display(train_df[['sst8', 'sst3_mapped']].head())"
   ]
  },
  {
   "cell_type": "code",
   "execution_count": 4,
   "id": "c7a2bd99",
   "metadata": {
    "papermill": {
     "duration": 2.631889,
     "end_time": "2024-12-02T07:05:39.991092",
     "exception": false,
     "start_time": "2024-12-02T07:05:37.359203",
     "status": "completed"
    },
    "tags": []
   },
   "outputs": [
    {
     "data": {
      "text/plain": [
       "array([[0., 0., 0., ..., 0., 0., 0.],\n",
       "       [0., 0., 0., ..., 0., 0., 0.],\n",
       "       [0., 0., 1., ..., 0., 0., 0.],\n",
       "       ...,\n",
       "       [0., 0., 0., ..., 0., 0., 1.],\n",
       "       [0., 0., 0., ..., 0., 0., 1.],\n",
       "       [0., 0., 0., ..., 0., 0., 1.]], dtype=float32)"
      ]
     },
     "metadata": {},
     "output_type": "display_data"
    },
    {
     "data": {
      "text/plain": [
       "array([[0., 0., 0., ..., 0., 0., 0.],\n",
       "       [0., 0., 0., ..., 0., 0., 1.],\n",
       "       [0., 0., 0., ..., 0., 0., 0.],\n",
       "       ...,\n",
       "       [0., 0., 0., ..., 0., 0., 1.],\n",
       "       [0., 0., 0., ..., 0., 0., 1.],\n",
       "       [0., 0., 0., ..., 0., 0., 1.]], dtype=float32)"
      ]
     },
     "metadata": {},
     "output_type": "display_data"
    },
    {
     "name": "stdout",
     "output_type": "stream",
     "text": [
      "train one-hot shape: (9088, 1632, 21)\n",
      "valid one-hot shape: (1136, 1632, 21)\n",
      "test one-hot shape: (1137, 1632, 21)\n"
     ]
    }
   ],
   "source": [
    "def one_hot_encode_sequences(sequences, max_len=None):\n",
    "    amino_acids = 'ACDEFGHIKLMNPQRSTVWY'\n",
    "    aa_to_int = {aa: idx for idx, aa in enumerate(amino_acids)}\n",
    "    aa_to_int['X'] = len(amino_acids)  \n",
    "    \n",
    "    integer_encoded = []\n",
    "    for seq in sequences:\n",
    "        encoded = [aa_to_int.get(aa, len(amino_acids)) for aa in seq]\n",
    "        integer_encoded.append(encoded)\n",
    "    \n",
    "    if not max_len:\n",
    "        max_len = max(len(seq) for seq in integer_encoded)\n",
    "    \n",
    "    padded_encoded = tf.keras.preprocessing.sequence.pad_sequences(\n",
    "        integer_encoded, maxlen=max_len, padding='post', truncating='post', value=len(amino_acids)\n",
    "    )\n",
    "    \n",
    "    one_hot_encoded = to_categorical(padded_encoded, num_classes=len(amino_acids)+1)\n",
    "    \n",
    "    return one_hot_encoded, max_len\n",
    "\n",
    "\n",
    "X_train, max_len = one_hot_encode_sequences(train_df['seq'])\n",
    "\n",
    "X_valid, _ = one_hot_encode_sequences(valid_df['seq'], max_len)\n",
    "\n",
    "X_test, _ = one_hot_encode_sequences(test_df['seq'], max_len)\n",
    "\n",
    "display(X_train[0])\n",
    "display(X_valid[0])\n",
    "\n",
    "print(f\"train one-hot shape: {X_train.shape}\")\n",
    "print(f\"valid one-hot shape: {X_valid.shape}\")\n",
    "print(f\"test one-hot shape: {X_test.shape}\")"
   ]
  },
  {
   "cell_type": "code",
   "execution_count": 5,
   "id": "0ebe833c",
   "metadata": {
    "papermill": {
     "duration": 0.835394,
     "end_time": "2024-12-02T07:05:40.830974",
     "exception": false,
     "start_time": "2024-12-02T07:05:39.995580",
     "status": "completed"
    },
    "tags": []
   },
   "outputs": [
    {
     "data": {
      "text/plain": [
       "array([[0., 0., 1.],\n",
       "       [0., 0., 1.],\n",
       "       [0., 0., 1.],\n",
       "       ...,\n",
       "       [0., 0., 1.],\n",
       "       [0., 0., 1.],\n",
       "       [0., 0., 1.]], dtype=float32)"
      ]
     },
     "metadata": {},
     "output_type": "display_data"
    },
    {
     "data": {
      "text/plain": [
       "array([[0., 0., 1.],\n",
       "       [0., 0., 1.],\n",
       "       [1., 0., 0.],\n",
       "       ...,\n",
       "       [0., 0., 1.],\n",
       "       [0., 0., 1.],\n",
       "       [0., 0., 1.]], dtype=float32)"
      ]
     },
     "metadata": {},
     "output_type": "display_data"
    },
    {
     "name": "stdout",
     "output_type": "stream",
     "text": [
      "train label one-hot shape: (9088, 1632, 3)\n",
      "valid label one-hot shape: (1136, 1632, 3)\n",
      "test label one-hot shape: (1137, 1632, 3)\n"
     ]
    }
   ],
   "source": [
    "def one_hot_encode_labels(labels, max_len):\n",
    "    sec_structs = ['H', 'E', 'C']\n",
    "    struct_to_int = {s: idx for idx, s in enumerate(sec_structs)}\n",
    "    \n",
    "    integer_encoded = []\n",
    "    for lbl in labels:\n",
    "        encoded = [struct_to_int.get(s, 2) for s in lbl] \n",
    "        integer_encoded.append(encoded)\n",
    "    \n",
    "    padded_encoded = tf.keras.preprocessing.sequence.pad_sequences(\n",
    "        integer_encoded, maxlen=max_len, padding='post', truncating='post', value=2\n",
    "    )\n",
    "    \n",
    "    y = to_categorical(padded_encoded, num_classes=len(sec_structs))\n",
    "    \n",
    "    return y\n",
    "\n",
    "\n",
    "y_train = one_hot_encode_labels(train_df['sst3_mapped'], max_len)\n",
    "\n",
    "y_valid = one_hot_encode_labels(valid_df['sst3_mapped'], max_len)\n",
    "\n",
    "y_test = one_hot_encode_labels(test_df['sst3_mapped'], max_len)\n",
    "\n",
    "display(y_train[0])\n",
    "display(y_valid[0])\n",
    "\n",
    "print(f\"train label one-hot shape: {y_train.shape}\")\n",
    "print(f\"valid label one-hot shape: {y_valid.shape}\")\n",
    "print(f\"test label one-hot shape: {y_test.shape}\")"
   ]
  },
  {
   "cell_type": "code",
   "execution_count": 6,
   "id": "95190e57",
   "metadata": {
    "papermill": {
     "duration": 0.254308,
     "end_time": "2024-12-02T07:05:41.090120",
     "exception": false,
     "start_time": "2024-12-02T07:05:40.835812",
     "status": "completed"
    },
    "tags": []
   },
   "outputs": [
    {
     "name": "stdout",
     "output_type": "stream",
     "text": [
      "GPUs [PhysicalDevice(name='/physical_device:GPU:0', device_type='GPU')] are available and configured.\n"
     ]
    }
   ],
   "source": [
    "import tensorflow as tf\n",
    "\n",
    "# Verify GPU availability\n",
    "gpus = tf.config.list_physical_devices('GPU')\n",
    "if gpus:\n",
    "    try:\n",
    "        # Enable memory growth for each GPU\n",
    "        for gpu in gpus:\n",
    "            tf.config.experimental.set_memory_growth(gpu, True)\n",
    "        print(f\"GPUs {gpus} are available and configured.\")\n",
    "    except RuntimeError as e:\n",
    "        print(e)\n",
    "else:\n",
    "    print(\"No GPU available. Using CPU.\")"
   ]
  },
  {
   "cell_type": "code",
   "execution_count": 7,
   "id": "596cf724",
   "metadata": {
    "papermill": {
     "duration": 0.750126,
     "end_time": "2024-12-02T07:05:41.860294",
     "exception": false,
     "start_time": "2024-12-02T07:05:41.110168",
     "status": "completed"
    },
    "tags": []
   },
   "outputs": [
    {
     "name": "stdout",
     "output_type": "stream",
     "text": [
      "Model: \"model\"\n",
      "_________________________________________________________________\n",
      " Layer (type)                Output Shape              Param #   \n",
      "=================================================================\n",
      " input_1 (InputLayer)        [(None, 1632, 21)]        0         \n",
      "                                                                 \n",
      " conv1d (Conv1D)             (None, 1632, 64)          4096      \n",
      "                                                                 \n",
      " conv1d_1 (Conv1D)           (None, 1632, 128)         24704     \n",
      "                                                                 \n",
      " conv1d_2 (Conv1D)           (None, 1632, 256)         98560     \n",
      "                                                                 \n",
      " time_distributed (TimeDistr  (None, 1632, 64)         16448     \n",
      " ibuted)                                                         \n",
      "                                                                 \n",
      " dropout (Dropout)           (None, 1632, 64)          0         \n",
      "                                                                 \n",
      " time_distributed_1 (TimeDis  (None, 1632, 3)          195       \n",
      " tributed)                                                       \n",
      "                                                                 \n",
      "=================================================================\n",
      "Total params: 144,003\n",
      "Trainable params: 144,003\n",
      "Non-trainable params: 0\n",
      "_________________________________________________________________\n"
     ]
    },
    {
     "name": "stderr",
     "output_type": "stream",
     "text": [
      "2025-04-19 22:11:23.591171: I tensorflow/core/platform/cpu_feature_guard.cc:193] This TensorFlow binary is optimized with oneAPI Deep Neural Network Library (oneDNN) to use the following CPU instructions in performance-critical operations:  AVX2 AVX512F AVX512_VNNI FMA\n",
      "To enable them in other operations, rebuild TensorFlow with the appropriate compiler flags.\n",
      "2025-04-19 22:11:24.802740: I tensorflow/core/common_runtime/gpu/gpu_device.cc:1532] Created device /job:localhost/replica:0/task:0/device:GPU:0 with 17021 MB memory:  -> device: 0, name: NVIDIA GeForce RTX 3090, pci bus id: 0000:57:00.0, compute capability: 8.6\n"
     ]
    }
   ],
   "source": [
    "input_layer = Input(shape=(max_len, X_train.shape[2]))\n",
    "\n",
    "\n",
    "conv1 = Conv1D(filters=64, kernel_size=3, activation='relu', padding='same')(input_layer)\n",
    "conv2 = Conv1D(filters=128, kernel_size=3, activation='relu', padding='same')(conv1)\n",
    "conv3 = Conv1D(filters=256, kernel_size=3, activation='relu', padding='same')(conv2)\n",
    "\n",
    "\n",
    "dense = TimeDistributed(Dense(64, activation='relu'))(conv3)\n",
    "dropout = Dropout(0.5)(dense)\n",
    "\n",
    "\n",
    "output_layer = TimeDistributed(Dense(3, activation='softmax'))(dropout)\n",
    "\n",
    "\n",
    "model = Model(inputs=input_layer, outputs=output_layer)\n",
    "\n",
    "model.compile(optimizer='adam',\n",
    "                       loss='categorical_crossentropy',\n",
    "                       metrics=['accuracy', tf.keras.metrics.Precision(), tf.keras.metrics.Recall()])\n",
    "\n",
    "model.summary()\n",
    "\n"
   ]
  },
  {
   "cell_type": "code",
   "execution_count": 8,
   "id": "afe64908",
   "metadata": {
    "papermill": {
     "duration": 2290.319704,
     "end_time": "2024-12-02T07:43:52.202522",
     "exception": false,
     "start_time": "2024-12-02T07:05:41.882818",
     "status": "completed"
    },
    "tags": []
   },
   "outputs": [
    {
     "name": "stdout",
     "output_type": "stream",
     "text": [
      "Epoch 1/50\n"
     ]
    },
    {
     "name": "stderr",
     "output_type": "stream",
     "text": [
      "2025-04-19 22:11:27.698965: I tensorflow/stream_executor/cuda/cuda_dnn.cc:384] Loaded cuDNN version 8101\n",
      "2025-04-19 22:11:30.265269: I tensorflow/stream_executor/cuda/cuda_blas.cc:1786] TensorFloat-32 will be used for the matrix multiplication. This will only be logged once.\n"
     ]
    },
    {
     "name": "stdout",
     "output_type": "stream",
     "text": [
      "284/284 [==============================] - 9s 15ms/step - loss: 0.1597 - accuracy: 0.9317 - precision: 0.9647 - recall: 0.8951 - val_loss: 0.1315 - val_accuracy: 0.9409 - val_precision: 0.9625 - val_recall: 0.9219\n",
      "Epoch 2/50\n",
      "284/284 [==============================] - 4s 13ms/step - loss: 0.1326 - accuracy: 0.9411 - precision: 0.9636 - recall: 0.9205 - val_loss: 0.1276 - val_accuracy: 0.9433 - val_precision: 0.9648 - val_recall: 0.9237\n",
      "Epoch 3/50\n",
      "284/284 [==============================] - 4s 14ms/step - loss: 0.1303 - accuracy: 0.9424 - precision: 0.9636 - recall: 0.9230 - val_loss: 0.1273 - val_accuracy: 0.9432 - val_precision: 0.9631 - val_recall: 0.9254\n",
      "Epoch 4/50\n",
      "284/284 [==============================] - 4s 13ms/step - loss: 0.1293 - accuracy: 0.9430 - precision: 0.9638 - recall: 0.9240 - val_loss: 0.1263 - val_accuracy: 0.9437 - val_precision: 0.9639 - val_recall: 0.9257\n",
      "Epoch 5/50\n",
      "284/284 [==============================] - 4s 14ms/step - loss: 0.1284 - accuracy: 0.9434 - precision: 0.9638 - recall: 0.9248 - val_loss: 0.1254 - val_accuracy: 0.9443 - val_precision: 0.9636 - val_recall: 0.9270\n",
      "Epoch 6/50\n",
      "284/284 [==============================] - 4s 13ms/step - loss: 0.1281 - accuracy: 0.9436 - precision: 0.9638 - recall: 0.9251 - val_loss: 0.1254 - val_accuracy: 0.9443 - val_precision: 0.9638 - val_recall: 0.9268\n",
      "Epoch 7/50\n",
      "284/284 [==============================] - 4s 13ms/step - loss: 0.1275 - accuracy: 0.9439 - precision: 0.9638 - recall: 0.9258 - val_loss: 0.1250 - val_accuracy: 0.9446 - val_precision: 0.9616 - val_recall: 0.9297\n",
      "Epoch 8/50\n",
      "284/284 [==============================] - 4s 13ms/step - loss: 0.1275 - accuracy: 0.9439 - precision: 0.9639 - recall: 0.9257 - val_loss: 0.1259 - val_accuracy: 0.9440 - val_precision: 0.9600 - val_recall: 0.9306\n",
      "Epoch 9/50\n",
      "284/284 [==============================] - 4s 13ms/step - loss: 0.1272 - accuracy: 0.9441 - precision: 0.9639 - recall: 0.9260 - val_loss: 0.1246 - val_accuracy: 0.9447 - val_precision: 0.9635 - val_recall: 0.9281\n",
      "Epoch 10/50\n",
      "284/284 [==============================] - 4s 13ms/step - loss: 0.1269 - accuracy: 0.9442 - precision: 0.9640 - recall: 0.9263 - val_loss: 0.1247 - val_accuracy: 0.9447 - val_precision: 0.9623 - val_recall: 0.9292\n",
      "Epoch 11/50\n",
      "284/284 [==============================] - 4s 13ms/step - loss: 0.1266 - accuracy: 0.9444 - precision: 0.9639 - recall: 0.9266 - val_loss: 0.1260 - val_accuracy: 0.9439 - val_precision: 0.9619 - val_recall: 0.9282\n",
      "Epoch 12/50\n",
      "284/284 [==============================] - 4s 13ms/step - loss: 0.1265 - accuracy: 0.9444 - precision: 0.9639 - recall: 0.9266 - val_loss: 0.1243 - val_accuracy: 0.9448 - val_precision: 0.9639 - val_recall: 0.9279\n",
      "Epoch 13/50\n",
      "284/284 [==============================] - 4s 13ms/step - loss: 0.1263 - accuracy: 0.9446 - precision: 0.9640 - recall: 0.9270 - val_loss: 0.1246 - val_accuracy: 0.9445 - val_precision: 0.9635 - val_recall: 0.9279\n",
      "Epoch 14/50\n",
      "284/284 [==============================] - 4s 13ms/step - loss: 0.1261 - accuracy: 0.9446 - precision: 0.9640 - recall: 0.9270 - val_loss: 0.1243 - val_accuracy: 0.9449 - val_precision: 0.9637 - val_recall: 0.9281\n",
      "Epoch 15/50\n",
      "284/284 [==============================] - 4s 13ms/step - loss: 0.1260 - accuracy: 0.9447 - precision: 0.9640 - recall: 0.9272 - val_loss: 0.1248 - val_accuracy: 0.9446 - val_precision: 0.9642 - val_recall: 0.9270\n",
      "Epoch 16/50\n",
      "284/284 [==============================] - 4s 13ms/step - loss: 0.1257 - accuracy: 0.9448 - precision: 0.9641 - recall: 0.9273 - val_loss: 0.1242 - val_accuracy: 0.9448 - val_precision: 0.9619 - val_recall: 0.9300\n",
      "Epoch 17/50\n",
      "284/284 [==============================] - 4s 13ms/step - loss: 0.1256 - accuracy: 0.9449 - precision: 0.9641 - recall: 0.9275 - val_loss: 0.1240 - val_accuracy: 0.9449 - val_precision: 0.9626 - val_recall: 0.9293\n",
      "Epoch 18/50\n",
      "284/284 [==============================] - 4s 13ms/step - loss: 0.1257 - accuracy: 0.9448 - precision: 0.9641 - recall: 0.9274 - val_loss: 0.1242 - val_accuracy: 0.9448 - val_precision: 0.9617 - val_recall: 0.9302\n",
      "Epoch 19/50\n",
      "284/284 [==============================] - 4s 13ms/step - loss: 0.1253 - accuracy: 0.9450 - precision: 0.9640 - recall: 0.9277 - val_loss: 0.1244 - val_accuracy: 0.9446 - val_precision: 0.9621 - val_recall: 0.9294\n",
      "Epoch 20/50\n",
      "284/284 [==============================] - 4s 13ms/step - loss: 0.1251 - accuracy: 0.9451 - precision: 0.9641 - recall: 0.9279 - val_loss: 0.1242 - val_accuracy: 0.9448 - val_precision: 0.9639 - val_recall: 0.9278\n",
      "Epoch 21/50\n",
      "284/284 [==============================] - 4s 13ms/step - loss: 0.1251 - accuracy: 0.9451 - precision: 0.9641 - recall: 0.9280 - val_loss: 0.1243 - val_accuracy: 0.9448 - val_precision: 0.9627 - val_recall: 0.9290\n",
      "Epoch 22/50\n",
      "284/284 [==============================] - 4s 13ms/step - loss: 0.1248 - accuracy: 0.9452 - precision: 0.9642 - recall: 0.9281 - val_loss: 0.1253 - val_accuracy: 0.9440 - val_precision: 0.9628 - val_recall: 0.9275\n",
      "Epoch 23/50\n",
      "284/284 [==============================] - 4s 13ms/step - loss: 0.1247 - accuracy: 0.9452 - precision: 0.9642 - recall: 0.9281 - val_loss: 0.1245 - val_accuracy: 0.9446 - val_precision: 0.9623 - val_recall: 0.9292\n",
      "Epoch 24/50\n",
      "284/284 [==============================] - 4s 13ms/step - loss: 0.1243 - accuracy: 0.9454 - precision: 0.9642 - recall: 0.9285 - val_loss: 0.1243 - val_accuracy: 0.9447 - val_precision: 0.9622 - val_recall: 0.9296\n",
      "Epoch 25/50\n",
      "284/284 [==============================] - 4s 13ms/step - loss: 0.1243 - accuracy: 0.9454 - precision: 0.9643 - recall: 0.9283 - val_loss: 0.1243 - val_accuracy: 0.9447 - val_precision: 0.9622 - val_recall: 0.9294\n",
      "Epoch 26/50\n",
      "284/284 [==============================] - 4s 13ms/step - loss: 0.1242 - accuracy: 0.9455 - precision: 0.9642 - recall: 0.9286 - val_loss: 0.1243 - val_accuracy: 0.9448 - val_precision: 0.9633 - val_recall: 0.9284\n",
      "Epoch 27/50\n",
      "284/284 [==============================] - 4s 13ms/step - loss: 0.1241 - accuracy: 0.9455 - precision: 0.9643 - recall: 0.9286 - val_loss: 0.1245 - val_accuracy: 0.9447 - val_precision: 0.9634 - val_recall: 0.9282\n"
     ]
    }
   ],
   "source": [
    "early_stopping = tf.keras.callbacks.EarlyStopping(\n",
    "    monitor='val_loss',\n",
    "    patience=10,\n",
    "    restore_best_weights=True\n",
    ")\n",
    "\n",
    "\n",
    "history = model.fit(\n",
    "    X_train, y_train,\n",
    "    epochs=50,\n",
    "    batch_size=32,\n",
    "    validation_data=(X_valid, y_valid),\n",
    "    callbacks=[early_stopping]\n",
    ")"
   ]
  },
  {
   "cell_type": "code",
   "execution_count": 9,
   "id": "f5238c9c",
   "metadata": {
    "papermill": {
     "duration": 0.796283,
     "end_time": "2024-12-02T07:43:53.499812",
     "exception": false,
     "start_time": "2024-12-02T07:43:52.703529",
     "status": "completed"
    },
    "tags": []
   },
   "outputs": [
    {
     "data": {
      "image/png": "[encoded data removed]",
      "text/plain": [
       "<Figure size 432x288 with 1 Axes>"
      ]
     },
     "metadata": {
      "needs_background": "light"
     },
     "output_type": "display_data"
    }
   ],
   "source": [
    "# Loss\n",
    "import os\n",
    "os.makedirs(\"Protein_CNN_resultImage\",exist_ok=True)\n",
    "plt.plot(history.history['loss'], label='loss')\n",
    "plt.plot(history.history['val_loss'], label='val_loss')\n",
    "plt.xlabel('Epochs')\n",
    "plt.ylabel('Loss')\n",
    "plt.title('Loss Curve')\n",
    "plt.legend()\n",
    "plt.savefig(\"Protein_CNN_resultImage/Loss Curve.png\", dpi=600, bbox_inches='tight')\n",
    "plt.show()\n"
   ]
  },
  {
   "cell_type": "code",
   "execution_count": 10,
   "id": "df810f26",
   "metadata": {
    "papermill": {
     "duration": 0.726044,
     "end_time": "2024-12-02T07:43:54.774574",
     "exception": false,
     "start_time": "2024-12-02T07:43:54.048530",
     "status": "completed"
    },
    "tags": []
   },
   "outputs": [
    {
     "data": {
      "image/png": "[encoded data removed]",
      "text/plain": [
       "<Figure size 432x288 with 1 Axes>"
      ]
     },
     "metadata": {
      "needs_background": "light"
     },
     "output_type": "display_data"
    }
   ],
   "source": [
    "#Accuracy\n",
    "plt.plot(history.history['accuracy'], label='accuracy')\n",
    "plt.plot(history.history['val_accuracy'], label='val_accuracy')\n",
    "plt.title('Accuracy Curve')\n",
    "plt.xlabel('Epoch')\n",
    "plt.ylabel('Accuracy')\n",
    "plt.legend()\n",
    "plt.savefig(\"Protein_CNN_resultImage/Accuracy Curve.png\", dpi=600, bbox_inches='tight')\n",
    "plt.show()"
   ]
  },
  {
   "cell_type": "code",
   "execution_count": 11,
   "id": "2323fc27",
   "metadata": {
    "papermill": {
     "duration": 1.637503,
     "end_time": "2024-12-02T07:44:31.022950",
     "exception": false,
     "start_time": "2024-12-02T07:44:29.385447",
     "status": "completed"
    },
    "tags": []
   },
   "outputs": [
    {
     "name": "stdout",
     "output_type": "stream",
     "text": [
      "36/36 [==============================] - 0s 11ms/step - loss: 0.1263 - accuracy: 0.9437 - precision: 0.9621 - recall: 0.9279\n",
      "test - loss: 0.1263, accuracy: 0.9437, precision: 0.9621, recall: 0.9279\n",
      "36/36 [==============================] - 0s 3ms/step\n"
     ]
    },
    {
     "data": {
      "image/png": "[encoded data removed]",
      "text/plain": [
       "<Figure size 432x360 with 2 Axes>"
      ]
     },
     "metadata": {
      "needs_background": "light"
     },
     "output_type": "display_data"
    },
    {
     "name": "stdout",
     "output_type": "stream",
     "text": [
      "precision_overall: 0.9404\n",
      "recall_overall: 0.9437\n",
      "sepcificity_overall: 0.8966\n",
      "F1_overall: 0.9414\n",
      "accuracy: 0.9437\n",
      "ROC-AUC Score: 0.9803\n"
     ]
    }
   ],
   "source": [
    "import numpy as np\n",
    "from sklearn.metrics import precision_score, recall_score, f1_score, confusion_matrix, roc_auc_score\n",
    "from sklearn.preprocessing import label_binarize\n",
    "import tensorflow as tf\n",
    "import seaborn as sns\n",
    "\n",
    "loss, accuracy, precision, recall = model.evaluate(X_test, y_test)\n",
    "print(f\"test - loss: {loss:.4f}, accuracy: {accuracy:.4f}, precision: {precision:.4f}, recall: {recall:.4f}\")\n",
    "\n",
    "y_pred_probs = model.predict(X_test)\n",
    "y_pred = np.argmax(y_pred_probs, axis=-1).flatten()\n",
    "y_true = np.argmax(y_test, axis=-1).flatten()\n",
    "\n",
    "# confusion matrix\n",
    "cm = confusion_matrix(y_true, y_pred, labels=[0, 1, 2])\n",
    "\n",
    "plt.figure(figsize=(6, 5)) \n",
    "sns.heatmap(cm, annot=True, fmt='d', cmap='Blues', xticklabels=[0,1,2], yticklabels=[0,1,2]) \n",
    "plt.xlabel('Predicted')\n",
    "plt.ylabel('True') \n",
    "plt.title('Confusion Matrix') \n",
    "plt.savefig(\"Protein_CNN_resultImage/confusion_matrix.png\", dpi=600, bbox_inches='tight')\n",
    "plt.show()\n",
    "\n",
    "\n",
    "precision_overall = precision_score(y_true, y_pred, average='weighted', zero_division=0)\n",
    "recall_overall = recall_score(y_true, y_pred, average='weighted', zero_division=0)\n",
    "f1_overall = f1_score(y_true, y_pred, average='weighted', zero_division=0)\n",
    "\n",
    "\n",
    "specificity = []\n",
    "for i in range(len(cm)):\n",
    "    TN = np.sum(cm) - (np.sum(cm[i, :]) + np.sum(cm[:, i]) - cm[i, i])\n",
    "    FP = np.sum(cm[:, i]) - cm[i, i]\n",
    "    spec = TN / (TN + FP) if (TN + FP) > 0 else 0\n",
    "    specificity.append(spec)\n",
    "specificity_overall = np.mean(specificity)\n",
    "\n",
    "\n",
    "print(f\"precision_overall: {precision_overall:.4f}\")\n",
    "print(f\"recall_overall: {recall_overall:.4f}\")\n",
    "print(f\"sepcificity_overall: {specificity_overall:.4f}\")\n",
    "print(f\"F1_overall: {f1_overall:.4f}\")\n",
    "print(f\"accuracy: {accuracy:.4f}\")\n",
    "\n",
    "\n",
    "\n",
    "y_true_binarized = label_binarize(y_true, classes=[0, 1, 2])  \n",
    "n_classes = y_true_binarized.shape[1]\n",
    "\n",
    "# Reshape y_pred_probs to match y_true\n",
    "y_pred_probs_reshaped = y_pred_probs.reshape(-1, n_classes)\n",
    "\n",
    "# Calculate ROC-AUC for each class\n",
    "roc_auc = roc_auc_score(y_true_binarized, y_pred_probs_reshaped, multi_class='ovo')\n",
    "print(f\"ROC-AUC Score: {roc_auc:.4f}\")"
   ]
  },
  {
   "cell_type": "code",
   "execution_count": 12,
   "id": "055f8b2f",
   "metadata": {
    "papermill": {
     "duration": 1.392027,
     "end_time": "2024-12-02T07:44:32.910905",
     "exception": false,
     "start_time": "2024-12-02T07:44:31.518878",
     "status": "completed"
    },
    "tags": []
   },
   "outputs": [
    {
     "name": "stdout",
     "output_type": "stream",
     "text": [
      "36/36 [==============================] - 0s 4ms/step\n",
      "ROC-AUC Score: 0.9803\n"
     ]
    },
    {
     "data": {
      "image/png": "[encoded data removed]",
      "text/plain": [
       "<Figure size 576x432 with 1 Axes>"
      ]
     },
     "metadata": {
      "needs_background": "light"
     },
     "output_type": "display_data"
    },
    {
     "name": "stdout",
     "output_type": "stream",
     "text": [
      "Class H:\n",
      "  Precision: 0.6455\n",
      "  Recall (Sensitivity): 0.6758\n",
      "  Specificity: 0.9774\n",
      "  F1-Score: 0.6603\n",
      "\n",
      "Class E:\n",
      "  Precision: 0.5899\n",
      "  Recall (Sensitivity): 0.4034\n",
      "  Specificity: 0.9901\n",
      "  F1-Score: 0.4792\n",
      "\n",
      "Class C:\n",
      "  Precision: 0.9723\n",
      "  Recall (Sensitivity): 0.9809\n",
      "  Specificity: 0.7225\n",
      "  F1-Score: 0.9766\n",
      "\n",
      "Overall Accuracy: 0.9437\n"
     ]
    }
   ],
   "source": [
    "import numpy as np\n",
    "from sklearn.metrics import precision_recall_fscore_support, accuracy_score, roc_auc_score, roc_curve, auc, confusion_matrix\n",
    "import matplotlib.pyplot as plt\n",
    "from sklearn.preprocessing import label_binarize\n",
    "\n",
    "# Convert one-hot encoded labels and predictions to class labels\n",
    "y_pred_probs = model.predict(X_test)  \n",
    "y_pred = np.argmax(y_pred_probs, axis=-1).reshape(-1)  \n",
    "y_true = np.argmax(y_test, axis=-1).reshape(-1)        \n",
    "\n",
    "# Verify that y_pred and y_true have the same number of samples\n",
    "assert y_pred.shape[0] == y_true.shape[0], \"y_pred and y_true must have the same number of samples.\"\n",
    "\n",
    "# Binarize the true labels for ROC-AUC calculation\n",
    "y_true_binarized = label_binarize(y_true, classes=[0, 1, 2]) \n",
    "n_classes = y_true_binarized.shape[1]\n",
    "\n",
    "# Reshape y_pred_probs to match y_true\n",
    "y_pred_probs_reshaped = y_pred_probs.reshape(-1, n_classes)\n",
    "\n",
    "# Calculate ROC-AUC for each class\n",
    "roc_auc = roc_auc_score(y_true_binarized, y_pred_probs_reshaped, multi_class='ovo')\n",
    "print(f\"ROC-AUC Score: {roc_auc:.4f}\")\n",
    "\n",
    "# Plot ROC Curves for each class\n",
    "fpr = dict()\n",
    "tpr = dict()\n",
    "roc_auc_dict = dict()\n",
    "\n",
    "for i in range(n_classes):\n",
    "    fpr[i], tpr[i], _ = roc_curve(y_true_binarized[:, i], y_pred_probs_reshaped[:, i])\n",
    "    roc_auc_dict[i] = auc(fpr[i], tpr[i])\n",
    "\n",
    "# Plotting ROC Curves\n",
    "plt.figure(figsize=(8, 6))\n",
    "colors = ['aqua', 'darkorange', 'cornflowerblue']\n",
    "class_names = ['H', 'E', 'C']  \n",
    "\n",
    "for i, color in zip(range(n_classes), colors):\n",
    "    plt.plot(fpr[i], tpr[i], color=color, lw=2,\n",
    "             label=f'ROC curve of class {class_names[i]} (area = {roc_auc_dict[i]:0.2f})')\n",
    "\n",
    "plt.plot([0, 1], [0, 1], 'k--', lw=2)\n",
    "plt.xlim([-0.01, 1.0])\n",
    "plt.ylim([0.0, 1.05])\n",
    "plt.xlabel('False Positive Rate')\n",
    "plt.ylabel('True Positive Rate')\n",
    "plt.title('Receiver Operating Characteristic (ROC) Curves')\n",
    "plt.legend(loc=\"lower right\")\n",
    "plt.savefig(\"Protein_CNN_resultImage/roc_curves.png\", dpi=600, bbox_inches='tight')\n",
    "plt.show()\n",
    "\n",
    "# Calculate per-class precision, recall (sensitivity), f1-score\n",
    "precision, recall, f1_score, _ = precision_recall_fscore_support(y_true, y_pred, labels=[0,1,2], zero_division=0)\n",
    "\n",
    "# Calculate specificity\n",
    "cm = confusion_matrix(y_true, y_pred, labels=[0,1,2])\n",
    "\n",
    "specificity = {}\n",
    "for i, cls in enumerate(class_names):\n",
    "    TN = np.sum(cm) - (np.sum(cm[i, :]) + np.sum(cm[:, i]) - cm[i, i])\n",
    "    FP = np.sum(cm[:, i]) - cm[i, i]\n",
    "    specificity[cls] = TN / (TN + FP) if (TN + FP) > 0 else 0.0\n",
    "\n",
    "# Calculate overall accuracy\n",
    "accuracy = accuracy_score(y_true, y_pred)\n",
    "\n",
    "# Print per-class metrics\n",
    "for i, cls in enumerate(class_names):\n",
    "    print(f\"Class {cls}:\")\n",
    "    print(f\"  Precision: {precision[i]:.4f}\")\n",
    "    print(f\"  Recall (Sensitivity): {recall[i]:.4f}\")\n",
    "    print(f\"  Specificity: {specificity[cls]:.4f}\")\n",
    "    print(f\"  F1-Score: {f1_score[i]:.4f}\")\n",
    "    print()\n",
    "\n",
    "print(f\"Overall Accuracy: {accuracy:.4f}\")"
   ]
  },
  {
   "cell_type": "code",
   "execution_count": null,
   "id": "3fc39ea9",
   "metadata": {},
   "outputs": [],
   "source": []
  }
 ],
 "metadata": {
  "kaggle": {
   "accelerator": "gpu",
   "dataSources": [
    {
     "datasetId": 6196313,
     "sourceId": 10055858,
     "sourceType": "datasetVersion"
    },
    {
     "datasetId": 6198107,
     "sourceId": 10058311,
     "sourceType": "datasetVersion"
    },
    {
     "datasetId": 6209243,
     "sourceId": 10073557,
     "sourceType": "datasetVersion"
    }
   ],
   "dockerImageVersionId": 30787,
   "isGpuEnabled": true,
   "isInternetEnabled": true,
   "language": "python",
   "sourceType": "notebook"
  },
  "kernelspec": {
   "display_name": "Python 3",
   "language": "python",
   "name": "python3"
  },
  "language_info": {
   "codemirror_mode": {
    "name": "ipython",
    "version": 3
   },
   "file_extension": ".py",
   "mimetype": "text/x-python",
   "name": "python",
   "nbconvert_exporter": "python",
   "pygments_lexer": "ipython3",
   "version": "3.10.9"
  },
  "papermill": {
   "default_parameters": {},
   "duration": 2354.782697,
   "end_time": "2024-12-02T07:44:36.636431",
   "environment_variables": {},
   "exception": null,
   "input_path": "__notebook__.ipynb",
   "output_path": "__notebook__.ipynb",
   "parameters": {},
   "start_time": "2024-12-02T07:05:21.853734",
   "version": "2.6.0"
  }
 },
 "nbformat": 4,
 "nbformat_minor": 5
}
